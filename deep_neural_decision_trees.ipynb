{
 "cells": [
  {
   "cell_type": "code",
   "execution_count": 40,
   "metadata": {},
   "outputs": [],
   "source": [
    "import numpy as np\n",
    "import torch\n",
    "from functools import reduce\n",
    "import matplotlib.pyplot as plt\n",
    "%matplotlib inline"
   ]
  },
  {
   "cell_type": "code",
   "execution_count": 41,
   "metadata": {},
   "outputs": [
    {
     "data": {
      "text/plain": [
       "<torch._C.Generator at 0x2071efaefd0>"
      ]
     },
     "execution_count": 41,
     "metadata": {},
     "output_type": "execute_result"
    }
   ],
   "source": [
    "np.random.seed(1943)\n",
    "torch.manual_seed(1943)"
   ]
  },
  {
   "cell_type": "code",
   "execution_count": 56,
   "metadata": {},
   "outputs": [],
   "source": [
    "from sklearn import datasets\n",
    "from sklearn.preprocessing import OneHotEncoder    \n",
    "import pandas as pd\n",
    "iris = datasets.load_iris()\n",
    "features=iris.data \n",
    "labels=iris.target \n",
    "of=OneHotEncoder(sparse=False).fit(labels.reshape(-1,1))  \n",
    "labels=of.transform(labels.reshape(-1,1))\n"
   ]
  },
  {
   "cell_type": "code",
   "execution_count": 58,
   "metadata": {},
   "outputs": [],
   "source": [
    "_x = features[:, 2:4]\n",
    "_y = labels\n",
    "d = _x.shape[1]\n",
    "\n",
    "x = torch.from_numpy(_x.astype(np.float32))\n",
    "y = torch.from_numpy(np.argmax(_y, axis=1))\n"
   ]
  },
  {
   "cell_type": "code",
   "execution_count": 26,
   "metadata": {},
   "outputs": [],
   "source": [
    "def torch_kron_prod(a, b):\n",
    "    res = torch.einsum('ij,ik->ijk', [a, b])\n",
    "    res = torch.reshape(res, [-1, np.prod(res.shape[1:])])\n",
    "    return res"
   ]
  },
  {
   "cell_type": "code",
   "execution_count": 27,
   "metadata": {},
   "outputs": [],
   "source": [
    "def torch_bin(x, cut_points, temperature=0.1):\n",
    "    # x is a N-by-1 matrix (column vector)\n",
    "    # cut_points is a D-dim vector (D is the number of cut-points)\n",
    "    # this function produces a N-by-(D+1) matrix, each row has only one element being one and the rest are all zeros\n",
    "    D = cut_points.shape[0]\n",
    "    W = torch.reshape(torch.linspace(1.0, D + 1.0, D + 1), [1, -1])\n",
    "    cut_points, _ = torch.sort(cut_points)  # make sure cut_points is monotonically increasing\n",
    "    b = torch.cumsum(torch.cat([torch.zeros([1]), -cut_points], 0),0)\n",
    "    h = torch.matmul(x, W) + b\n",
    "    res = torch.exp(h-torch.max(h))\n",
    "    res = res/torch.sum(res, dim=-1, keepdim=True)\n",
    "    return h"
   ]
  },
  {
   "cell_type": "code",
   "execution_count": 28,
   "metadata": {},
   "outputs": [],
   "source": [
    "def nn_decision_tree(x, cut_points_list, leaf_score, temperature=0.1):\n",
    "    # cut_points_list contains the cut_points for each dimension of feature\n",
    "    leaf = reduce(torch_kron_prod,\n",
    "                  map(lambda z: torch_bin(x[:, z[0]:z[0] + 1], z[1], temperature), enumerate(cut_points_list)))\n",
    "    return torch.matmul(leaf, leaf_score)"
   ]
  },
  {
   "cell_type": "code",
   "execution_count": 61,
   "metadata": {},
   "outputs": [
    {
     "name": "stdout",
     "output_type": "stream",
     "text": [
      "4\n",
      "[tensor([0.7900], requires_grad=True), tensor([0.9033], requires_grad=True)]\n",
      "tensor([[0.0293, 0.0781, 0.6693],\n",
      "        [0.9873, 0.4241, 0.8040],\n",
      "        [0.5723, 0.2832, 0.1554],\n",
      "        [0.4604, 0.7285, 0.9584]], requires_grad=True)\n"
     ]
    }
   ],
   "source": [
    "num_cut = [1, 1]  # \"Petal length\" and \"Petal width\"\n",
    "num_leaf = np.prod(np.array(num_cut) + 1)\n",
    "print(num_leaf)\n",
    "num_class = 3\n",
    "cut_points_list = [torch.rand([i], requires_grad=True) for i in num_cut]\n",
    "print(cut_points_list)\n",
    "leaf_score = torch.rand([num_leaf, num_class], requires_grad=True)\n",
    "print(leaf_score)\n",
    "loss_function = torch.nn.CrossEntropyLoss()\n",
    "optimizer = torch.optim.Adam(cut_points_list + [leaf_score], lr=0.01)"
   ]
  },
  {
   "cell_type": "code",
   "execution_count": 30,
   "metadata": {},
   "outputs": [
    {
     "name": "stdout",
     "output_type": "stream",
     "text": [
      "12.724256\n",
      "0.49909937\n",
      "0.20397107\n",
      "0.13334799\n",
      "0.12001412\n",
      "error rate 0.04\n"
     ]
    }
   ],
   "source": [
    "for i in range(1000):\n",
    "    optimizer.zero_grad()\n",
    "    y_pred = nn_decision_tree(x, cut_points_list, leaf_score, temperature=0.1)\n",
    "    loss = loss_function(y_pred, y)\n",
    "    loss.backward()\n",
    "    optimizer.step()\n",
    "    if i % 200 == 0:\n",
    "        print(loss.detach().numpy())\n",
    "print('error rate %.2f' % (1-np.mean(np.argmax(y_pred.detach().numpy(), axis=1)==np.argmax(_y, axis=1))))"
   ]
  },
  {
   "cell_type": "code",
   "execution_count": null,
   "metadata": {},
   "outputs": [],
   "source": []
  }
 ],
 "metadata": {
  "kernelspec": {
   "display_name": "Python 3",
   "language": "python",
   "name": "python3"
  },
  "language_info": {
   "codemirror_mode": {
    "name": "ipython",
    "version": 3
   },
   "file_extension": ".py",
   "mimetype": "text/x-python",
   "name": "python",
   "nbconvert_exporter": "python",
   "pygments_lexer": "ipython3",
   "version": "3.7.4"
  }
 },
 "nbformat": 4,
 "nbformat_minor": 2
}
