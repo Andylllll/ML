{
 "cells": [
  {
   "cell_type": "code",
   "execution_count": null,
   "metadata": {},
   "outputs": [],
   "source": [
    "TargetEncoder\n",
    " Parameters\n",
    "    verbose: int\n",
    "        integer indicating verbosity of the output. 0 for none.\n",
    "    cols: list\n",
    "        a list of columns to encode, if None, all string columns will be encoded.\n",
    "    drop_invariant: bool\n",
    "        boolean for whether or not to drop columns with 0 variance.\n",
    "    return_df: bool\n",
    "        boolean for whether to return a pandas DataFrame from transform (otherwise it will be a numpy array).\n",
    "    handle_missing: str\n",
    "        options are 'error', 'return_nan'  and 'value', defaults to 'value', which returns the target mean.\n",
    "    handle_unknown: str\n",
    "        options are 'error', 'return_nan' and 'value', defaults to 'value', which returns the target mean.\n",
    "    min_samples_leaf: int\n",
    "        minimum samples to take category average into account.\n",
    "    smoothing: float\n",
    "        smoothing effect to balance categorical average vs prior. Higher value means stronger regularization.\n",
    "        The value must be strictly bigger than 0."
   ]
  },
  {
   "cell_type": "code",
   "execution_count": 5,
   "metadata": {},
   "outputs": [],
   "source": [
    "from category_encoders import *\n",
    "import pandas as pd\n",
    "from sklearn.datasets import load_boston\n",
    "bunch = load_boston()\n",
    "y = bunch.target\n",
    "X = pd.DataFrame(bunch.data, columns=bunch.feature_names)\n"
   ]
  },
  {
   "cell_type": "code",
   "execution_count": null,
   "metadata": {},
   "outputs": [],
   "source": [
    " def target_encoder(X, y, params):\n",
    "    enc = TargetEncoder(cols=['CHAS', 'RAD']).fit(X, y)\n",
    "    numeric_dataset = enc.transform(X)\n",
    "    print(numeric_dataset.info())\n",
    "    return "
   ]
  }
 ],
 "metadata": {
  "kernelspec": {
   "display_name": "Python 3",
   "language": "python",
   "name": "python3"
  },
  "language_info": {
   "codemirror_mode": {
    "name": "ipython",
    "version": 3
   },
   "file_extension": ".py",
   "mimetype": "text/x-python",
   "name": "python",
   "nbconvert_exporter": "python",
   "pygments_lexer": "ipython3",
   "version": "3.7.4"
  }
 },
 "nbformat": 4,
 "nbformat_minor": 2
}
