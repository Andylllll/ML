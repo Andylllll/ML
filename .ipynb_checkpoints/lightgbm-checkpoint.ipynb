{
 "cells": [
  {
   "cell_type": "code",
   "execution_count": 1,
   "metadata": {},
   "outputs": [],
   "source": [
    "#直方图算法：把连续值离散化成k个整数，并且构造宽度为k的直方图，遍历数据后，\n",
    "#将离散化后的值作为索引在直方图中累积统计量。\n",
    "#Leaf-wise：每次从当前的叶子中，找到分裂增益最大的一个叶子，然后分裂，继续循环。\n",
    "\n",
    "#lightbgm参数：\n",
    "#learning_rate:学习率\n",
    "#n_estimators:树的个数，迭代的次数\n",
    "#max_depth:树的深度，深度大可能过拟合\n",
    "#num_leaves:一棵树最大的叶子数量，num_leaves = 2^(max_depth)，但是它的值的设置应该小于 2^(max_depth)，否则可能会导致过拟合。\n",
    "#min_child_samples:它的值取决于训练数据的样本个数和num_leaves,可以降低过拟合\n",
    "#min_child_weight:\n",
    "#reg_alpha:l1正则化\n",
    "#reg_lambda：l2正则化\n",
    "#colsample_bylevel, colsample_bytree, colsample_bynode ：分别表示各个层、各棵树、各个节点的列采样率\n",
    "#bagging_fraction：表示每次迭代所使用的数据分数（即所占百分比，用小数表示）。将此值设置得较低，以提高训练速度。\n"
   ]
  },
  {
   "cell_type": "code",
   "execution_count": 2,
   "metadata": {},
   "outputs": [],
   "source": [
    "import numpy as np\n",
    "import pandas as pd\n",
    "from sklearn import datasets\n",
    "import matplotlib.pyplot as plt\n",
    "from sklearn.model_selection import GridSearchCV\n",
    "from sklearn.preprocessing import StandardScaler\n",
    "from sklearn.preprocessing import Imputer,MinMaxScaler\n",
    "from sklearn.model_selection import RandomizedSearchCV,GridSearchCV\n",
    "import lightgbm as lgb\n",
    "\n",
    "iris = datasets.load_iris()\n",
    "X = iris.data\n",
    "y = iris.target\n",
    "scaler=MinMaxScaler(feature_range=(0,1))\n",
    "iris = datasets.load_iris()\n",
    "X=scaler.fit_transform(X)\n",
    "\n",
    "\n"
   ]
  },
  {
   "cell_type": "code",
   "execution_count": 3,
   "metadata": {},
   "outputs": [],
   "source": [
    "def GridSearch(model,params,X,y):\n",
    "    lgbr=GridSearchCV(model,params,scoring='neg_mean_squared_error',cv=5)\n",
    "    lgbr.fit(X,y)\n",
    "    print('GridSearchCV_best_score:',lgbr.best_score_)\n",
    "    print('GridSearchCV_best_params：',lgbr.best_params_) \n",
    "    print('GridSearchCV_best_model：',lgbr.best_estimator_) "
   ]
  },
  {
   "cell_type": "code",
   "execution_count": 4,
   "metadata": {},
   "outputs": [
    {
     "name": "stdout",
     "output_type": "stream",
     "text": [
      "GridSearchCV_best_score: -0.050241248298760095\n",
      "GridSearchCV_best_params： {'n_estimators': 60}\n",
      "GridSearchCV_best_model： LGBMRegressor(boosting_type='gbdt', class_weight=None, colsample_bytree=1,\n",
      "              importance_type='split', learning_rate=0.1, max_depth=5,\n",
      "              metric='rmse', min_child_samples=20, min_child_weight=0.001,\n",
      "              min_split_gain=0.0, n_estimators=60, n_jobs=-1, num_leaves=30,\n",
      "              objective='regression', random_state=60, reg_alpha=0.1,\n",
      "              reg_lambda=0.1, silent=True, subsample=0.8,\n",
      "              subsample_for_bin=200000, subsample_freq=0)\n"
     ]
    }
   ],
   "source": [
    "params={\n",
    "    'objective':'regression',\n",
    "    'n_estimators':30,\n",
    "    'max_depth':5,\n",
    "    'min_child_samples':20,\n",
    "    'reg_lambda':0.1,\n",
    "    'reg_alpha':0.1,\n",
    "    'metric':'rmse',\n",
    "    'colsample_bytree':1,\n",
    "    'subsample':0.8,\n",
    "    'num_leaves':30,\n",
    "    'random_state':60\n",
    "}\n",
    "model=lgb.LGBMRegressor(**params)\n",
    "change_params={\n",
    "                 'n_estimators': range(20, 200, 20),\n",
    "              #   'min_child_weight': range(3, 15, 2),\n",
    "              #   'colsample_bytree': np.arange(0.4, 1.0),\n",
    "               #  'max_depth': range(5, 15, 2),\n",
    "              #   'subsample': np.arange(0.5, 1.0, 0.1),\n",
    "               #  'reg_lambda': np.arange(0.1, 1.0, 0.2),\n",
    "               #  'reg_alpha': np.arange(0.1, 1.0, 0.2),\n",
    "                 #'min_child_samples': range(10, 30)\n",
    "}\n",
    "GridSearch(model,change_params,X,y)"
   ]
  },
  {
   "cell_type": "code",
   "execution_count": 5,
   "metadata": {},
   "outputs": [],
   "source": [
    "#RandomSearchCV:并不是所有的参数都尝试，具有随机性\n",
    "def RandomSearch(model,params,X,y):\n",
    "    lgbr=RandomizedSearchCV(model,params,scoring='neg_mean_squared_error',cv=5)\n",
    "    lgbr.fit(X,y)\n",
    "    print('RandomizedSearchCV_best_score:',lgbr.best_score_)\n",
    "    print('RandomizedSearchCV_best_params：',lgbr.best_params_) \n",
    "    print('RandomizedSearchCV_best_model：',lgbr.best_estimator_) "
   ]
  },
  {
   "cell_type": "code",
   "execution_count": 6,
   "metadata": {},
   "outputs": [
    {
     "name": "stderr",
     "output_type": "stream",
     "text": [
      "F:\\python\\Anaconda3\\lib\\site-packages\\sklearn\\model_selection\\_search.py:266: UserWarning: The total space of parameters 9 is smaller than n_iter=10. Running 9 iterations. For exhaustive searches, use GridSearchCV.\n",
      "  % (grid_size, self.n_iter, grid_size), UserWarning)\n"
     ]
    },
    {
     "name": "stdout",
     "output_type": "stream",
     "text": [
      "RandomizedSearchCV_best_score: -0.050241248298760095\n",
      "RandomizedSearchCV_best_params： {'n_estimators': 60}\n",
      "RandomizedSearchCV_best_model： LGBMRegressor(boosting_type='gbdt', class_weight=None, colsample_bytree=1,\n",
      "              importance_type='split', learning_rate=0.1, max_depth=5,\n",
      "              metric='rmse', min_child_samples=20, min_child_weight=0.001,\n",
      "              min_split_gain=0.0, n_estimators=60, n_jobs=-1, num_leaves=30,\n",
      "              objective='regression', random_state=60, reg_alpha=0.1,\n",
      "              reg_lambda=0.1, silent=True, subsample=0.8,\n",
      "              subsample_for_bin=200000, subsample_freq=0)\n"
     ]
    }
   ],
   "source": [
    "params={\n",
    "    'objective':'regression',\n",
    "    'n_estimators':30,\n",
    "    'max_depth':5,\n",
    "    'min_child_samples':20,\n",
    "    'reg_lambda':0.1,\n",
    "    'reg_alpha':0.1,\n",
    "    'metric':'rmse',\n",
    "    'colsample_bytree':1,\n",
    "    'subsample':0.8,\n",
    "    'num_leaves':30,\n",
    "    'random_state':60\n",
    "}\n",
    "model=lgb.LGBMRegressor(**params)\n",
    "change_params={\n",
    "                 'n_estimators': range(20, 200, 20),\n",
    "              #   'min_child_weight': range(3, 15, 2),\n",
    "               #  'colsample_bytree': np.arange(0.4, 1.0),\n",
    "              #   'max_depth': range(5, 15, 2),\n",
    "             #    'subsample': np.arange(0.5, 1.0, 0.1),\n",
    "               #  'reg_lambda': np.arange(0.1, 1.0, 0.2),\n",
    "              #   'reg_alpha': np.arange(0.1, 1.0, 0.2),\n",
    "               #  'min_child_samples': range(10, 30)\n",
    "}\n",
    "RandomSearch(model,change_params ,X,y)"
   ]
  },
  {
   "cell_type": "code",
   "execution_count": 7,
   "metadata": {},
   "outputs": [],
   "source": [
    "#贝叶斯优化\n",
    "from sklearn.model_selection import train_test_split,cross_val_score\t\n",
    "from bayes_opt import BayesianOptimization\n",
    "def BayesianSearch(model,params):\n",
    "    num_iters=30\n",
    "    init_points=5\n",
    "    bayes= BayesianOptimization(model, params)\n",
    "    bayes.maximize(init_points=init_points,n_iter=num_iters)\n",
    "    params = bayes.res\n",
    "    index = []\n",
    "    for i in bayes.res:\n",
    "        index.append(i['target'])\n",
    "    max_index = index.index(max(index))\n",
    "\n",
    "    print(params[max_index])\n",
    "    return max_index\n",
    "        "
   ]
  },
  {
   "cell_type": "code",
   "execution_count": 8,
   "metadata": {},
   "outputs": [],
   "source": [
    "\n",
    "def evaluate(min_child_samples, min_child_weight, colsample_bytree, max_depth, subsample, reg_alpha, reg_lambda):\n",
    "    param={\n",
    "        'objective': 'regression',\n",
    "        'n_estimators': 50,\n",
    "        'metric': 'rmse',\n",
    "        'random_state': 60\n",
    "    }#固定参数\n",
    "    param['min_child_samples'] = int(min_child_samples)\n",
    "    param['min_child_weight'] = int(min_child_weight)\n",
    "    param['colsample_bytree'] = float(colsample_bytree),\n",
    "    param['max_depth'] = int(max_depth),\n",
    "    param['subsample'] = float(subsample),\n",
    "    param['reg_lambda'] = float(reg_lambda),\n",
    "    param['reg_alpha'] = float(reg_alpha),\n",
    "    #超参数\n",
    "    cvs=cross_val_score(lgb.LGBMRegressor(**param),X,y,scoring='neg_mean_squared_error',cv=5).mean()\n",
    "    return cvs\n",
    "\n",
    "\n",
    "    "
   ]
  },
  {
   "cell_type": "code",
   "execution_count": 9,
   "metadata": {},
   "outputs": [],
   "source": [
    "change_params={\n",
    "               \n",
    "                 'min_child_weight': (3, 15),\n",
    "                 'colsample_bytree': (0.4, 1.0),\n",
    "                 'max_depth': (5, 15),\n",
    "                 'subsample': (0.5, 1.0),\n",
    "                 'reg_lambda': (0.1, 1.0),\n",
    "                 'reg_alpha': (0.1, 1.0),\n",
    "                 'min_child_samples':(10, 30)\n",
    "}"
   ]
  },
  {
   "cell_type": "code",
   "execution_count": 10,
   "metadata": {
    "scrolled": true
   },
   "outputs": [
    {
     "name": "stdout",
     "output_type": "stream",
     "text": [
      "|   iter    |  target   | colsam... | max_depth | min_ch... | min_ch... | reg_alpha | reg_la... | subsample |\n",
      "-------------------------------------------------------------------------------------------------------------\n",
      "| \u001b[0m 1       \u001b[0m | \u001b[0m-0.0522  \u001b[0m | \u001b[0m 0.9909  \u001b[0m | \u001b[0m 13.44   \u001b[0m | \u001b[0m 20.13   \u001b[0m | \u001b[0m 3.751   \u001b[0m | \u001b[0m 0.7496  \u001b[0m | \u001b[0m 0.2698  \u001b[0m | \u001b[0m 0.9786  \u001b[0m |\n",
      "| \u001b[95m 2       \u001b[0m | \u001b[95m-0.04859 \u001b[0m | \u001b[95m 0.454   \u001b[0m | \u001b[95m 6.287   \u001b[0m | \u001b[95m 20.69   \u001b[0m | \u001b[95m 7.471   \u001b[0m | \u001b[95m 0.3531  \u001b[0m | \u001b[95m 0.2169  \u001b[0m | \u001b[95m 0.776   \u001b[0m |\n",
      "| \u001b[0m 3       \u001b[0m | \u001b[0m-0.05315 \u001b[0m | \u001b[0m 0.8002  \u001b[0m | \u001b[0m 14.33   \u001b[0m | \u001b[0m 10.71   \u001b[0m | \u001b[0m 12.1    \u001b[0m | \u001b[0m 0.1457  \u001b[0m | \u001b[0m 0.9825  \u001b[0m | \u001b[0m 0.5292  \u001b[0m |\n",
      "| \u001b[0m 4       \u001b[0m | \u001b[0m-0.05289 \u001b[0m | \u001b[0m 0.4796  \u001b[0m | \u001b[0m 9.376   \u001b[0m | \u001b[0m 13.91   \u001b[0m | \u001b[0m 5.33    \u001b[0m | \u001b[0m 0.4195  \u001b[0m | \u001b[0m 0.4779  \u001b[0m | \u001b[0m 0.6597  \u001b[0m |\n",
      "| \u001b[0m 5       \u001b[0m | \u001b[0m-0.05109 \u001b[0m | \u001b[0m 0.866   \u001b[0m | \u001b[0m 8.442   \u001b[0m | \u001b[0m 20.13   \u001b[0m | \u001b[0m 13.16   \u001b[0m | \u001b[0m 0.741   \u001b[0m | \u001b[0m 0.1629  \u001b[0m | \u001b[0m 0.9036  \u001b[0m |\n",
      "| \u001b[0m 6       \u001b[0m | \u001b[0m-0.07191 \u001b[0m | \u001b[0m 0.404   \u001b[0m | \u001b[0m 5.084   \u001b[0m | \u001b[0m 29.38   \u001b[0m | \u001b[0m 14.78   \u001b[0m | \u001b[0m 0.4801  \u001b[0m | \u001b[0m 0.4845  \u001b[0m | \u001b[0m 0.9054  \u001b[0m |\n",
      "| \u001b[0m 7       \u001b[0m | \u001b[0m-0.05465 \u001b[0m | \u001b[0m 0.9785  \u001b[0m | \u001b[0m 5.235   \u001b[0m | \u001b[0m 10.54   \u001b[0m | \u001b[0m 13.18   \u001b[0m | \u001b[0m 0.9607  \u001b[0m | \u001b[0m 0.8229  \u001b[0m | \u001b[0m 0.7003  \u001b[0m |\n",
      "| \u001b[0m 8       \u001b[0m | \u001b[0m-0.04925 \u001b[0m | \u001b[0m 0.6251  \u001b[0m | \u001b[0m 8.069   \u001b[0m | \u001b[0m 17.41   \u001b[0m | \u001b[0m 9.423   \u001b[0m | \u001b[0m 0.5116  \u001b[0m | \u001b[0m 0.9325  \u001b[0m | \u001b[0m 0.9629  \u001b[0m |\n",
      "| \u001b[95m 9       \u001b[0m | \u001b[95m-0.04745 \u001b[0m | \u001b[95m 0.9651  \u001b[0m | \u001b[95m 5.963   \u001b[0m | \u001b[95m 21.99   \u001b[0m | \u001b[95m 3.632   \u001b[0m | \u001b[95m 0.1216  \u001b[0m | \u001b[95m 0.7801  \u001b[0m | \u001b[95m 0.5327  \u001b[0m |\n",
      "| \u001b[0m 10      \u001b[0m | \u001b[0m-0.06793 \u001b[0m | \u001b[0m 0.639   \u001b[0m | \u001b[0m 14.69   \u001b[0m | \u001b[0m 29.44   \u001b[0m | \u001b[0m 6.761   \u001b[0m | \u001b[0m 0.1455  \u001b[0m | \u001b[0m 0.2057  \u001b[0m | \u001b[0m 0.5239  \u001b[0m |\n",
      "| \u001b[0m 11      \u001b[0m | \u001b[0m-0.05069 \u001b[0m | \u001b[0m 0.9906  \u001b[0m | \u001b[0m 5.907   \u001b[0m | \u001b[0m 15.62   \u001b[0m | \u001b[0m 14.07   \u001b[0m | \u001b[0m 0.1147  \u001b[0m | \u001b[0m 0.1716  \u001b[0m | \u001b[0m 0.977   \u001b[0m |\n",
      "| \u001b[0m 12      \u001b[0m | \u001b[0m-0.04956 \u001b[0m | \u001b[0m 0.798   \u001b[0m | \u001b[0m 5.068   \u001b[0m | \u001b[0m 18.19   \u001b[0m | \u001b[0m 4.189   \u001b[0m | \u001b[0m 0.4078  \u001b[0m | \u001b[0m 0.1689  \u001b[0m | \u001b[0m 0.9827  \u001b[0m |\n",
      "| \u001b[0m 13      \u001b[0m | \u001b[0m-0.05048 \u001b[0m | \u001b[0m 0.9844  \u001b[0m | \u001b[0m 6.733   \u001b[0m | \u001b[0m 18.68   \u001b[0m | \u001b[0m 7.531   \u001b[0m | \u001b[0m 0.2325  \u001b[0m | \u001b[0m 0.9163  \u001b[0m | \u001b[0m 0.5039  \u001b[0m |\n",
      "| \u001b[0m 14      \u001b[0m | \u001b[0m-0.05122 \u001b[0m | \u001b[0m 0.4101  \u001b[0m | \u001b[0m 13.97   \u001b[0m | \u001b[0m 16.5    \u001b[0m | \u001b[0m 14.98   \u001b[0m | \u001b[0m 0.7088  \u001b[0m | \u001b[0m 0.9405  \u001b[0m | \u001b[0m 0.7288  \u001b[0m |\n",
      "| \u001b[0m 15      \u001b[0m | \u001b[0m-0.05945 \u001b[0m | \u001b[0m 0.5641  \u001b[0m | \u001b[0m 5.569   \u001b[0m | \u001b[0m 25.68   \u001b[0m | \u001b[0m 3.17    \u001b[0m | \u001b[0m 0.9334  \u001b[0m | \u001b[0m 0.6105  \u001b[0m | \u001b[0m 0.7066  \u001b[0m |\n",
      "| \u001b[0m 16      \u001b[0m | \u001b[0m-0.04953 \u001b[0m | \u001b[0m 0.9305  \u001b[0m | \u001b[0m 12.31   \u001b[0m | \u001b[0m 17.24   \u001b[0m | \u001b[0m 12.95   \u001b[0m | \u001b[0m 0.1322  \u001b[0m | \u001b[0m 0.1292  \u001b[0m | \u001b[0m 0.9177  \u001b[0m |\n",
      "| \u001b[0m 17      \u001b[0m | \u001b[0m-0.05087 \u001b[0m | \u001b[0m 0.9923  \u001b[0m | \u001b[0m 5.502   \u001b[0m | \u001b[0m 18.88   \u001b[0m | \u001b[0m 3.065   \u001b[0m | \u001b[0m 0.2572  \u001b[0m | \u001b[0m 0.7873  \u001b[0m | \u001b[0m 0.9945  \u001b[0m |\n",
      "| \u001b[0m 18      \u001b[0m | \u001b[0m-0.04872 \u001b[0m | \u001b[0m 0.5137  \u001b[0m | \u001b[0m 5.565   \u001b[0m | \u001b[0m 18.05   \u001b[0m | \u001b[0m 12.52   \u001b[0m | \u001b[0m 0.2505  \u001b[0m | \u001b[0m 0.1303  \u001b[0m | \u001b[0m 0.5095  \u001b[0m |\n",
      "| \u001b[0m 19      \u001b[0m | \u001b[0m-0.04915 \u001b[0m | \u001b[0m 0.401   \u001b[0m | \u001b[0m 5.392   \u001b[0m | \u001b[0m 17.25   \u001b[0m | \u001b[0m 12.63   \u001b[0m | \u001b[0m 0.1011  \u001b[0m | \u001b[0m 0.9494  \u001b[0m | \u001b[0m 0.5907  \u001b[0m |\n",
      "| \u001b[0m 20      \u001b[0m | \u001b[0m-0.04975 \u001b[0m | \u001b[0m 0.9004  \u001b[0m | \u001b[0m 5.074   \u001b[0m | \u001b[0m 17.92   \u001b[0m | \u001b[0m 4.874   \u001b[0m | \u001b[0m 0.1317  \u001b[0m | \u001b[0m 0.1672  \u001b[0m | \u001b[0m 0.556   \u001b[0m |\n",
      "| \u001b[0m 21      \u001b[0m | \u001b[0m-0.04916 \u001b[0m | \u001b[0m 0.551   \u001b[0m | \u001b[0m 8.668   \u001b[0m | \u001b[0m 18.55   \u001b[0m | \u001b[0m 3.166   \u001b[0m | \u001b[0m 0.1396  \u001b[0m | \u001b[0m 0.1329  \u001b[0m | \u001b[0m 0.5036  \u001b[0m |\n",
      "| \u001b[0m 22      \u001b[0m | \u001b[0m-0.04847 \u001b[0m | \u001b[0m 0.4309  \u001b[0m | \u001b[0m 10.51   \u001b[0m | \u001b[0m 17.83   \u001b[0m | \u001b[0m 9.891   \u001b[0m | \u001b[0m 0.1076  \u001b[0m | \u001b[0m 0.2737  \u001b[0m | \u001b[0m 0.735   \u001b[0m |\n",
      "| \u001b[0m 23      \u001b[0m | \u001b[0m-0.04902 \u001b[0m | \u001b[0m 0.4564  \u001b[0m | \u001b[0m 8.226   \u001b[0m | \u001b[0m 19.85   \u001b[0m | \u001b[0m 6.211   \u001b[0m | \u001b[0m 0.1009  \u001b[0m | \u001b[0m 0.7164  \u001b[0m | \u001b[0m 0.9811  \u001b[0m |\n",
      "| \u001b[0m 24      \u001b[0m | \u001b[0m-0.04995 \u001b[0m | \u001b[0m 0.9898  \u001b[0m | \u001b[0m 10.27   \u001b[0m | \u001b[0m 18.07   \u001b[0m | \u001b[0m 9.463   \u001b[0m | \u001b[0m 0.249   \u001b[0m | \u001b[0m 0.4057  \u001b[0m | \u001b[0m 0.5158  \u001b[0m |\n",
      "| \u001b[0m 25      \u001b[0m | \u001b[0m-0.04959 \u001b[0m | \u001b[0m 0.4375  \u001b[0m | \u001b[0m 14.66   \u001b[0m | \u001b[0m 17.54   \u001b[0m | \u001b[0m 7.127   \u001b[0m | \u001b[0m 0.1767  \u001b[0m | \u001b[0m 0.8266  \u001b[0m | \u001b[0m 0.538   \u001b[0m |\n",
      "| \u001b[0m 26      \u001b[0m | \u001b[0m-0.04894 \u001b[0m | \u001b[0m 0.4015  \u001b[0m | \u001b[0m 9.833   \u001b[0m | \u001b[0m 19.18   \u001b[0m | \u001b[0m 4.753   \u001b[0m | \u001b[0m 0.1019  \u001b[0m | \u001b[0m 0.1183  \u001b[0m | \u001b[0m 0.5383  \u001b[0m |\n",
      "| \u001b[0m 27      \u001b[0m | \u001b[0m-0.04887 \u001b[0m | \u001b[0m 0.4395  \u001b[0m | \u001b[0m 5.453   \u001b[0m | \u001b[0m 18.63   \u001b[0m | \u001b[0m 9.233   \u001b[0m | \u001b[0m 0.12    \u001b[0m | \u001b[0m 0.2089  \u001b[0m | \u001b[0m 0.5556  \u001b[0m |\n",
      "| \u001b[0m 28      \u001b[0m | \u001b[0m-0.04918 \u001b[0m | \u001b[0m 0.425   \u001b[0m | \u001b[0m 9.145   \u001b[0m | \u001b[0m 16.58   \u001b[0m | \u001b[0m 14.07   \u001b[0m | \u001b[0m 0.1003  \u001b[0m | \u001b[0m 0.2357  \u001b[0m | \u001b[0m 0.6989  \u001b[0m |\n",
      "| \u001b[0m 29      \u001b[0m | \u001b[0m-0.04914 \u001b[0m | \u001b[0m 0.4009  \u001b[0m | \u001b[0m 9.48    \u001b[0m | \u001b[0m 18.66   \u001b[0m | \u001b[0m 7.803   \u001b[0m | \u001b[0m 0.1086  \u001b[0m | \u001b[0m 0.5464  \u001b[0m | \u001b[0m 0.9007  \u001b[0m |\n",
      "| \u001b[0m 30      \u001b[0m | \u001b[0m-0.04849 \u001b[0m | \u001b[0m 0.7995  \u001b[0m | \u001b[0m 5.279   \u001b[0m | \u001b[0m 18.58   \u001b[0m | \u001b[0m 8.873   \u001b[0m | \u001b[0m 0.1157  \u001b[0m | \u001b[0m 0.2884  \u001b[0m | \u001b[0m 0.9715  \u001b[0m |\n",
      "| \u001b[0m 31      \u001b[0m | \u001b[0m-0.04883 \u001b[0m | \u001b[0m 0.4233  \u001b[0m | \u001b[0m 9.567   \u001b[0m | \u001b[0m 19.23   \u001b[0m | \u001b[0m 7.474   \u001b[0m | \u001b[0m 0.1142  \u001b[0m | \u001b[0m 0.9834  \u001b[0m | \u001b[0m 0.5853  \u001b[0m |\n",
      "| \u001b[0m 32      \u001b[0m | \u001b[0m-0.04918 \u001b[0m | \u001b[0m 0.4071  \u001b[0m | \u001b[0m 8.091   \u001b[0m | \u001b[0m 16.81   \u001b[0m | \u001b[0m 10.5    \u001b[0m | \u001b[0m 0.1027  \u001b[0m | \u001b[0m 0.1312  \u001b[0m | \u001b[0m 0.9644  \u001b[0m |\n",
      "| \u001b[0m 33      \u001b[0m | \u001b[0m-0.04856 \u001b[0m | \u001b[0m 0.6385  \u001b[0m | \u001b[0m 6.394   \u001b[0m | \u001b[0m 16.61   \u001b[0m | \u001b[0m 14.89   \u001b[0m | \u001b[0m 0.1045  \u001b[0m | \u001b[0m 0.9058  \u001b[0m | \u001b[0m 0.9723  \u001b[0m |\n",
      "| \u001b[0m 34      \u001b[0m | \u001b[0m-0.05012 \u001b[0m | \u001b[0m 0.9603  \u001b[0m | \u001b[0m 5.205   \u001b[0m | \u001b[0m 17.62   \u001b[0m | \u001b[0m 10.45   \u001b[0m | \u001b[0m 0.1079  \u001b[0m | \u001b[0m 0.9354  \u001b[0m | \u001b[0m 0.8574  \u001b[0m |\n",
      "| \u001b[0m 35      \u001b[0m | \u001b[0m-0.04891 \u001b[0m | \u001b[0m 0.4664  \u001b[0m | \u001b[0m 7.02    \u001b[0m | \u001b[0m 18.61   \u001b[0m | \u001b[0m 3.223   \u001b[0m | \u001b[0m 0.1255  \u001b[0m | \u001b[0m 0.956   \u001b[0m | \u001b[0m 0.5506  \u001b[0m |\n",
      "=============================================================================================================\n",
      "{'target': -0.04745097405487083, 'params': {'colsample_bytree': 0.9650958603333002, 'max_depth': 5.963131909968453, 'min_child_samples': 21.993007272947118, 'min_child_weight': 3.632322065114091, 'reg_alpha': 0.12158755097954993, 'reg_lambda': 0.7800755388480135, 'subsample': 0.5327195727540541}}\n"
     ]
    },
    {
     "data": {
      "text/plain": [
       "8"
      ]
     },
     "execution_count": 10,
     "metadata": {},
     "output_type": "execute_result"
    }
   ],
   "source": [
    "BayesianSearch(evaluate,change_params)"
   ]
  },
  {
   "cell_type": "code",
   "execution_count": 2,
   "metadata": {},
   "outputs": [],
   "source": []
  },
  {
   "cell_type": "code",
   "execution_count": null,
   "metadata": {},
   "outputs": [],
   "source": []
  }
 ],
 "metadata": {
  "kernelspec": {
   "display_name": "Python 3",
   "language": "python",
   "name": "python3"
  },
  "language_info": {
   "codemirror_mode": {
    "name": "ipython",
    "version": 3
   },
   "file_extension": ".py",
   "mimetype": "text/x-python",
   "name": "python",
   "nbconvert_exporter": "python",
   "pygments_lexer": "ipython3",
   "version": "3.7.4"
  }
 },
 "nbformat": 4,
 "nbformat_minor": 2
}
