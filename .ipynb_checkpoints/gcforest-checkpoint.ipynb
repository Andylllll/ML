{
 "cells": [
  {
   "cell_type": "code",
   "execution_count": 14,
   "metadata": {},
   "outputs": [],
   "source": [
    "\n",
    "from sklearn.model_selection import train_test_split\n",
    "from sklearn.preprocessing import MinMaxScaler\n",
    "from sklearn import datasets\n",
    "from gcforest.gcforest import GCForest\n",
    "from gcforest.utils.config_utils import load_json\n",
    "from gcforest.gcforest import GCForest\n",
    "import matplotlib.pyplot as  plt\n",
    "import warnings\n",
    "warnings.filterwarnings(\"ignore\")\n",
    "def get_toy_config():#生成级联结构的相关结构\n",
    "    config = {}\n",
    "    ca_config = {}\n",
    "    ca_config[\"random_state\"] = 0# 0 or 1\n",
    "    ca_config[\"max_layers\"] = 100 #最大的层数\n",
    "    ca_config[\"early_stopping_rounds\"] = 3 #如果出现某层的三层以内的准确率都没有提升，层中止\n",
    "    ca_config[\"n_classes\"] = 3\n",
    "    ca_config[\"estimators\"] = []\n",
    "    ca_config[\"estimators\"].append( {\"n_folds\": 5, \"type\": \"XGBClassifier\", \"n_estimators\": 10, \"max_depth\": 5,\n",
    "             \"objective\": \"multi:softprob\", \"silent\": True, \"nthread\": -1, \"learning_rate\": 0.1} )\n",
    "    ca_config[\"estimators\"].append({\"n_folds\": 5, \"type\": \"RandomForestClassifier\", \"n_estimators\": 10, \"max_depth\": None, \"n_jobs\": -1})\n",
    "    ca_config[\"estimators\"].append({\"n_folds\": 5, \"type\": \"ExtraTreesClassifier\", \"n_estimators\": 10, \"max_depth\": None, \"n_jobs\": -1})\n",
    "    ca_config[\"estimators\"].append({\"n_folds\": 5, \"type\": \"LogisticRegression\"})\n",
    "    #共使用了四个基学习器\n",
    "    config[\"cascade\"] = ca_config\n",
    "    return config\n",
    "\n",
    "#或者写个json,用load_json()方法加载一样的\n"
   ]
  },
  {
   "cell_type": "code",
   "execution_count": 27,
   "metadata": {},
   "outputs": [
    {
     "name": "stderr",
     "output_type": "stream",
     "text": [
      "[ 2020-03-11 13:38:58,689][cascade_classifier.fit_transform] X_groups_train.shape=[(120, 4)],y_train.shape=(120,),X_groups_test.shape=no_test,y_test.shape=no_test\n",
      "[ 2020-03-11 13:38:58,691][cascade_classifier.fit_transform] group_dims=[4]\n",
      "[ 2020-03-11 13:38:58,692][cascade_classifier.fit_transform] group_starts=[0]\n",
      "[ 2020-03-11 13:38:58,694][cascade_classifier.fit_transform] group_ends=[4]\n",
      "[ 2020-03-11 13:38:58,695][cascade_classifier.fit_transform] X_train.shape=(120, 4),X_test.shape=(0, 4)\n",
      "[ 2020-03-11 13:38:58,700][cascade_classifier.fit_transform] [layer=0] look_indexs=[0], X_cur_train.shape=(120, 4), X_cur_test.shape=(0, 4)\n",
      "[ 2020-03-11 13:38:58,745][kfold_wrapper.log_eval_metrics] Accuracy(layer_0 - estimator_0 - 5_folds.train_0.predict)=96.00%\n",
      "[ 2020-03-11 13:38:58,780][kfold_wrapper.log_eval_metrics] Accuracy(layer_0 - estimator_0 - 5_folds.train_1.predict)=100.00%\n",
      "[ 2020-03-11 13:38:58,809][kfold_wrapper.log_eval_metrics] Accuracy(layer_0 - estimator_0 - 5_folds.train_2.predict)=100.00%\n",
      "[ 2020-03-11 13:38:58,835][kfold_wrapper.log_eval_metrics] Accuracy(layer_0 - estimator_0 - 5_folds.train_3.predict)=95.65%\n",
      "[ 2020-03-11 13:38:58,862][kfold_wrapper.log_eval_metrics] Accuracy(layer_0 - estimator_0 - 5_folds.train_4.predict)=100.00%\n",
      "[ 2020-03-11 13:38:58,863][kfold_wrapper.log_eval_metrics] Accuracy(layer_0 - estimator_0 - 5_folds.train_cv.predict)=98.33%\n",
      "[ 2020-03-11 13:38:59,082][kfold_wrapper.log_eval_metrics] Accuracy(layer_0 - estimator_1 - 5_folds.train_0.predict)=100.00%\n",
      "[ 2020-03-11 13:38:59,295][kfold_wrapper.log_eval_metrics] Accuracy(layer_0 - estimator_1 - 5_folds.train_1.predict)=88.00%\n",
      "[ 2020-03-11 13:38:59,507][kfold_wrapper.log_eval_metrics] Accuracy(layer_0 - estimator_1 - 5_folds.train_2.predict)=91.67%\n",
      "[ 2020-03-11 13:38:59,718][kfold_wrapper.log_eval_metrics] Accuracy(layer_0 - estimator_1 - 5_folds.train_3.predict)=100.00%\n",
      "[ 2020-03-11 13:38:59,930][kfold_wrapper.log_eval_metrics] Accuracy(layer_0 - estimator_1 - 5_folds.train_4.predict)=95.65%\n",
      "[ 2020-03-11 13:38:59,931][kfold_wrapper.log_eval_metrics] Accuracy(layer_0 - estimator_1 - 5_folds.train_cv.predict)=95.00%\n",
      "[ 2020-03-11 13:39:00,147][kfold_wrapper.log_eval_metrics] Accuracy(layer_0 - estimator_2 - 5_folds.train_0.predict)=92.00%\n",
      "[ 2020-03-11 13:39:00,369][kfold_wrapper.log_eval_metrics] Accuracy(layer_0 - estimator_2 - 5_folds.train_1.predict)=96.00%\n",
      "[ 2020-03-11 13:39:00,581][kfold_wrapper.log_eval_metrics] Accuracy(layer_0 - estimator_2 - 5_folds.train_2.predict)=100.00%\n",
      "[ 2020-03-11 13:39:00,794][kfold_wrapper.log_eval_metrics] Accuracy(layer_0 - estimator_2 - 5_folds.train_3.predict)=91.30%\n",
      "[ 2020-03-11 13:39:01,005][kfold_wrapper.log_eval_metrics] Accuracy(layer_0 - estimator_2 - 5_folds.train_4.predict)=100.00%\n",
      "[ 2020-03-11 13:39:01,006][kfold_wrapper.log_eval_metrics] Accuracy(layer_0 - estimator_2 - 5_folds.train_cv.predict)=95.83%\n",
      "[ 2020-03-11 13:39:01,009][kfold_wrapper.log_eval_metrics] Accuracy(layer_0 - estimator_3 - 5_folds.train_0.predict)=80.00%\n",
      "[ 2020-03-11 13:39:01,012][kfold_wrapper.log_eval_metrics] Accuracy(layer_0 - estimator_3 - 5_folds.train_1.predict)=88.00%\n",
      "[ 2020-03-11 13:39:01,015][kfold_wrapper.log_eval_metrics] Accuracy(layer_0 - estimator_3 - 5_folds.train_2.predict)=91.67%\n",
      "[ 2020-03-11 13:39:01,020][kfold_wrapper.log_eval_metrics] Accuracy(layer_0 - estimator_3 - 5_folds.train_3.predict)=78.26%\n",
      "[ 2020-03-11 13:39:01,024][kfold_wrapper.log_eval_metrics] Accuracy(layer_0 - estimator_3 - 5_folds.train_4.predict)=73.91%\n",
      "[ 2020-03-11 13:39:01,026][kfold_wrapper.log_eval_metrics] Accuracy(layer_0 - estimator_3 - 5_folds.train_cv.predict)=82.50%\n",
      "[ 2020-03-11 13:39:01,031][cascade_classifier.calc_accuracy] Accuracy(layer_0 - train.classifier_average)=96.67%\n",
      "[ 2020-03-11 13:39:01,033][cascade_classifier.fit_transform] [layer=1] look_indexs=[0], X_cur_train.shape=(120, 16), X_cur_test.shape=(0, 16)\n",
      "[ 2020-03-11 13:39:01,087][kfold_wrapper.log_eval_metrics] Accuracy(layer_1 - estimator_0 - 5_folds.train_0.predict)=88.00%\n",
      "[ 2020-03-11 13:39:01,126][kfold_wrapper.log_eval_metrics] Accuracy(layer_1 - estimator_0 - 5_folds.train_1.predict)=96.00%\n",
      "[ 2020-03-11 13:39:01,155][kfold_wrapper.log_eval_metrics] Accuracy(layer_1 - estimator_0 - 5_folds.train_2.predict)=100.00%\n",
      "[ 2020-03-11 13:39:01,183][kfold_wrapper.log_eval_metrics] Accuracy(layer_1 - estimator_0 - 5_folds.train_3.predict)=100.00%\n",
      "[ 2020-03-11 13:39:01,211][kfold_wrapper.log_eval_metrics] Accuracy(layer_1 - estimator_0 - 5_folds.train_4.predict)=95.65%\n",
      "[ 2020-03-11 13:39:01,213][kfold_wrapper.log_eval_metrics] Accuracy(layer_1 - estimator_0 - 5_folds.train_cv.predict)=95.83%\n",
      "[ 2020-03-11 13:39:01,426][kfold_wrapper.log_eval_metrics] Accuracy(layer_1 - estimator_1 - 5_folds.train_0.predict)=96.00%\n",
      "[ 2020-03-11 13:39:01,637][kfold_wrapper.log_eval_metrics] Accuracy(layer_1 - estimator_1 - 5_folds.train_1.predict)=96.00%\n",
      "[ 2020-03-11 13:39:01,849][kfold_wrapper.log_eval_metrics] Accuracy(layer_1 - estimator_1 - 5_folds.train_2.predict)=95.83%\n",
      "[ 2020-03-11 13:39:02,061][kfold_wrapper.log_eval_metrics] Accuracy(layer_1 - estimator_1 - 5_folds.train_3.predict)=95.65%\n",
      "[ 2020-03-11 13:39:02,271][kfold_wrapper.log_eval_metrics] Accuracy(layer_1 - estimator_1 - 5_folds.train_4.predict)=95.65%\n",
      "[ 2020-03-11 13:39:02,272][kfold_wrapper.log_eval_metrics] Accuracy(layer_1 - estimator_1 - 5_folds.train_cv.predict)=95.83%\n",
      "[ 2020-03-11 13:39:02,490][kfold_wrapper.log_eval_metrics] Accuracy(layer_1 - estimator_2 - 5_folds.train_0.predict)=92.00%\n",
      "[ 2020-03-11 13:39:02,712][kfold_wrapper.log_eval_metrics] Accuracy(layer_1 - estimator_2 - 5_folds.train_1.predict)=96.00%\n",
      "[ 2020-03-11 13:39:02,931][kfold_wrapper.log_eval_metrics] Accuracy(layer_1 - estimator_2 - 5_folds.train_2.predict)=91.67%\n",
      "[ 2020-03-11 13:39:03,142][kfold_wrapper.log_eval_metrics] Accuracy(layer_1 - estimator_2 - 5_folds.train_3.predict)=95.65%\n",
      "[ 2020-03-11 13:39:03,352][kfold_wrapper.log_eval_metrics] Accuracy(layer_1 - estimator_2 - 5_folds.train_4.predict)=95.65%\n",
      "[ 2020-03-11 13:39:03,353][kfold_wrapper.log_eval_metrics] Accuracy(layer_1 - estimator_2 - 5_folds.train_cv.predict)=94.17%\n",
      "[ 2020-03-11 13:39:03,357][kfold_wrapper.log_eval_metrics] Accuracy(layer_1 - estimator_3 - 5_folds.train_0.predict)=96.00%\n",
      "[ 2020-03-11 13:39:03,361][kfold_wrapper.log_eval_metrics] Accuracy(layer_1 - estimator_3 - 5_folds.train_1.predict)=92.00%\n",
      "[ 2020-03-11 13:39:03,363][kfold_wrapper.log_eval_metrics] Accuracy(layer_1 - estimator_3 - 5_folds.train_2.predict)=100.00%\n",
      "[ 2020-03-11 13:39:03,368][kfold_wrapper.log_eval_metrics] Accuracy(layer_1 - estimator_3 - 5_folds.train_3.predict)=95.65%\n",
      "[ 2020-03-11 13:39:03,372][kfold_wrapper.log_eval_metrics] Accuracy(layer_1 - estimator_3 - 5_folds.train_4.predict)=100.00%\n",
      "[ 2020-03-11 13:39:03,373][kfold_wrapper.log_eval_metrics] Accuracy(layer_1 - estimator_3 - 5_folds.train_cv.predict)=96.67%\n",
      "[ 2020-03-11 13:39:03,375][cascade_classifier.calc_accuracy] Accuracy(layer_1 - train.classifier_average)=95.83%\n",
      "[ 2020-03-11 13:39:03,379][cascade_classifier.fit_transform] [layer=2] look_indexs=[0], X_cur_train.shape=(120, 16), X_cur_test.shape=(0, 16)\n",
      "[ 2020-03-11 13:39:03,420][kfold_wrapper.log_eval_metrics] Accuracy(layer_2 - estimator_0 - 5_folds.train_0.predict)=96.00%\n",
      "[ 2020-03-11 13:39:03,458][kfold_wrapper.log_eval_metrics] Accuracy(layer_2 - estimator_0 - 5_folds.train_1.predict)=100.00%\n",
      "[ 2020-03-11 13:39:03,491][kfold_wrapper.log_eval_metrics] Accuracy(layer_2 - estimator_0 - 5_folds.train_2.predict)=100.00%\n",
      "[ 2020-03-11 13:39:03,517][kfold_wrapper.log_eval_metrics] Accuracy(layer_2 - estimator_0 - 5_folds.train_3.predict)=91.30%\n",
      "[ 2020-03-11 13:39:03,549][kfold_wrapper.log_eval_metrics] Accuracy(layer_2 - estimator_0 - 5_folds.train_4.predict)=100.00%\n",
      "[ 2020-03-11 13:39:03,550][kfold_wrapper.log_eval_metrics] Accuracy(layer_2 - estimator_0 - 5_folds.train_cv.predict)=97.50%\n",
      "[ 2020-03-11 13:39:03,763][kfold_wrapper.log_eval_metrics] Accuracy(layer_2 - estimator_1 - 5_folds.train_0.predict)=96.00%\n",
      "[ 2020-03-11 13:39:03,975][kfold_wrapper.log_eval_metrics] Accuracy(layer_2 - estimator_1 - 5_folds.train_1.predict)=100.00%\n",
      "[ 2020-03-11 13:39:04,188][kfold_wrapper.log_eval_metrics] Accuracy(layer_2 - estimator_1 - 5_folds.train_2.predict)=95.83%\n"
     ]
    },
    {
     "name": "stderr",
     "output_type": "stream",
     "text": [
      "[ 2020-03-11 13:39:04,399][kfold_wrapper.log_eval_metrics] Accuracy(layer_2 - estimator_1 - 5_folds.train_3.predict)=95.65%\n",
      "[ 2020-03-11 13:39:04,613][kfold_wrapper.log_eval_metrics] Accuracy(layer_2 - estimator_1 - 5_folds.train_4.predict)=100.00%\n",
      "[ 2020-03-11 13:39:04,614][kfold_wrapper.log_eval_metrics] Accuracy(layer_2 - estimator_1 - 5_folds.train_cv.predict)=97.50%\n",
      "[ 2020-03-11 13:39:04,826][kfold_wrapper.log_eval_metrics] Accuracy(layer_2 - estimator_2 - 5_folds.train_0.predict)=96.00%\n",
      "[ 2020-03-11 13:39:05,037][kfold_wrapper.log_eval_metrics] Accuracy(layer_2 - estimator_2 - 5_folds.train_1.predict)=100.00%\n",
      "[ 2020-03-11 13:39:05,260][kfold_wrapper.log_eval_metrics] Accuracy(layer_2 - estimator_2 - 5_folds.train_2.predict)=100.00%\n",
      "[ 2020-03-11 13:39:05,482][kfold_wrapper.log_eval_metrics] Accuracy(layer_2 - estimator_2 - 5_folds.train_3.predict)=95.65%\n",
      "[ 2020-03-11 13:39:05,693][kfold_wrapper.log_eval_metrics] Accuracy(layer_2 - estimator_2 - 5_folds.train_4.predict)=95.65%\n",
      "[ 2020-03-11 13:39:05,694][kfold_wrapper.log_eval_metrics] Accuracy(layer_2 - estimator_2 - 5_folds.train_cv.predict)=97.50%\n",
      "[ 2020-03-11 13:39:05,696][kfold_wrapper.log_eval_metrics] Accuracy(layer_2 - estimator_3 - 5_folds.train_0.predict)=96.00%\n",
      "[ 2020-03-11 13:39:05,699][kfold_wrapper.log_eval_metrics] Accuracy(layer_2 - estimator_3 - 5_folds.train_1.predict)=96.00%\n",
      "[ 2020-03-11 13:39:05,702][kfold_wrapper.log_eval_metrics] Accuracy(layer_2 - estimator_3 - 5_folds.train_2.predict)=100.00%\n",
      "[ 2020-03-11 13:39:05,704][kfold_wrapper.log_eval_metrics] Accuracy(layer_2 - estimator_3 - 5_folds.train_3.predict)=95.65%\n",
      "[ 2020-03-11 13:39:05,708][kfold_wrapper.log_eval_metrics] Accuracy(layer_2 - estimator_3 - 5_folds.train_4.predict)=91.30%\n",
      "[ 2020-03-11 13:39:05,711][kfold_wrapper.log_eval_metrics] Accuracy(layer_2 - estimator_3 - 5_folds.train_cv.predict)=95.83%\n",
      "[ 2020-03-11 13:39:05,712][cascade_classifier.calc_accuracy] Accuracy(layer_2 - train.classifier_average)=98.33%\n",
      "[ 2020-03-11 13:39:05,714][cascade_classifier.fit_transform] [layer=3] look_indexs=[0], X_cur_train.shape=(120, 16), X_cur_test.shape=(0, 16)\n",
      "[ 2020-03-11 13:39:05,761][kfold_wrapper.log_eval_metrics] Accuracy(layer_3 - estimator_0 - 5_folds.train_0.predict)=100.00%\n",
      "[ 2020-03-11 13:39:05,806][kfold_wrapper.log_eval_metrics] Accuracy(layer_3 - estimator_0 - 5_folds.train_1.predict)=96.00%\n",
      "[ 2020-03-11 13:39:05,840][kfold_wrapper.log_eval_metrics] Accuracy(layer_3 - estimator_0 - 5_folds.train_2.predict)=100.00%\n",
      "[ 2020-03-11 13:39:05,869][kfold_wrapper.log_eval_metrics] Accuracy(layer_3 - estimator_0 - 5_folds.train_3.predict)=95.65%\n",
      "[ 2020-03-11 13:39:05,902][kfold_wrapper.log_eval_metrics] Accuracy(layer_3 - estimator_0 - 5_folds.train_4.predict)=100.00%\n",
      "[ 2020-03-11 13:39:05,904][kfold_wrapper.log_eval_metrics] Accuracy(layer_3 - estimator_0 - 5_folds.train_cv.predict)=98.33%\n",
      "[ 2020-03-11 13:39:06,141][kfold_wrapper.log_eval_metrics] Accuracy(layer_3 - estimator_1 - 5_folds.train_0.predict)=96.00%\n",
      "[ 2020-03-11 13:39:06,351][kfold_wrapper.log_eval_metrics] Accuracy(layer_3 - estimator_1 - 5_folds.train_1.predict)=96.00%\n",
      "[ 2020-03-11 13:39:06,580][kfold_wrapper.log_eval_metrics] Accuracy(layer_3 - estimator_1 - 5_folds.train_2.predict)=95.83%\n",
      "[ 2020-03-11 13:39:06,798][kfold_wrapper.log_eval_metrics] Accuracy(layer_3 - estimator_1 - 5_folds.train_3.predict)=100.00%\n",
      "[ 2020-03-11 13:39:07,010][kfold_wrapper.log_eval_metrics] Accuracy(layer_3 - estimator_1 - 5_folds.train_4.predict)=100.00%\n",
      "[ 2020-03-11 13:39:07,012][kfold_wrapper.log_eval_metrics] Accuracy(layer_3 - estimator_1 - 5_folds.train_cv.predict)=97.50%\n",
      "[ 2020-03-11 13:39:07,244][kfold_wrapper.log_eval_metrics] Accuracy(layer_3 - estimator_2 - 5_folds.train_0.predict)=100.00%\n",
      "[ 2020-03-11 13:39:07,468][kfold_wrapper.log_eval_metrics] Accuracy(layer_3 - estimator_2 - 5_folds.train_1.predict)=100.00%\n",
      "[ 2020-03-11 13:39:07,686][kfold_wrapper.log_eval_metrics] Accuracy(layer_3 - estimator_2 - 5_folds.train_2.predict)=87.50%\n",
      "[ 2020-03-11 13:39:07,902][kfold_wrapper.log_eval_metrics] Accuracy(layer_3 - estimator_2 - 5_folds.train_3.predict)=91.30%\n",
      "[ 2020-03-11 13:39:08,114][kfold_wrapper.log_eval_metrics] Accuracy(layer_3 - estimator_2 - 5_folds.train_4.predict)=95.65%\n",
      "[ 2020-03-11 13:39:08,115][kfold_wrapper.log_eval_metrics] Accuracy(layer_3 - estimator_2 - 5_folds.train_cv.predict)=95.00%\n",
      "[ 2020-03-11 13:39:08,117][kfold_wrapper.log_eval_metrics] Accuracy(layer_3 - estimator_3 - 5_folds.train_0.predict)=96.00%\n",
      "[ 2020-03-11 13:39:08,119][kfold_wrapper.log_eval_metrics] Accuracy(layer_3 - estimator_3 - 5_folds.train_1.predict)=100.00%\n",
      "[ 2020-03-11 13:39:08,121][kfold_wrapper.log_eval_metrics] Accuracy(layer_3 - estimator_3 - 5_folds.train_2.predict)=100.00%\n",
      "[ 2020-03-11 13:39:08,123][kfold_wrapper.log_eval_metrics] Accuracy(layer_3 - estimator_3 - 5_folds.train_3.predict)=100.00%\n",
      "[ 2020-03-11 13:39:08,125][kfold_wrapper.log_eval_metrics] Accuracy(layer_3 - estimator_3 - 5_folds.train_4.predict)=95.65%\n",
      "[ 2020-03-11 13:39:08,126][kfold_wrapper.log_eval_metrics] Accuracy(layer_3 - estimator_3 - 5_folds.train_cv.predict)=98.33%\n",
      "[ 2020-03-11 13:39:08,127][cascade_classifier.calc_accuracy] Accuracy(layer_3 - train.classifier_average)=98.33%\n",
      "[ 2020-03-11 13:39:08,127][cascade_classifier.fit_transform] [layer=4] look_indexs=[0], X_cur_train.shape=(120, 16), X_cur_test.shape=(0, 16)\n",
      "[ 2020-03-11 13:39:08,166][kfold_wrapper.log_eval_metrics] Accuracy(layer_4 - estimator_0 - 5_folds.train_0.predict)=100.00%\n",
      "[ 2020-03-11 13:39:08,192][kfold_wrapper.log_eval_metrics] Accuracy(layer_4 - estimator_0 - 5_folds.train_1.predict)=96.00%\n",
      "[ 2020-03-11 13:39:08,214][kfold_wrapper.log_eval_metrics] Accuracy(layer_4 - estimator_0 - 5_folds.train_2.predict)=87.50%\n",
      "[ 2020-03-11 13:39:08,239][kfold_wrapper.log_eval_metrics] Accuracy(layer_4 - estimator_0 - 5_folds.train_3.predict)=100.00%\n",
      "[ 2020-03-11 13:39:08,265][kfold_wrapper.log_eval_metrics] Accuracy(layer_4 - estimator_0 - 5_folds.train_4.predict)=100.00%\n",
      "[ 2020-03-11 13:39:08,266][kfold_wrapper.log_eval_metrics] Accuracy(layer_4 - estimator_0 - 5_folds.train_cv.predict)=96.67%\n",
      "[ 2020-03-11 13:39:08,479][kfold_wrapper.log_eval_metrics] Accuracy(layer_4 - estimator_1 - 5_folds.train_0.predict)=100.00%\n",
      "[ 2020-03-11 13:39:08,692][kfold_wrapper.log_eval_metrics] Accuracy(layer_4 - estimator_1 - 5_folds.train_1.predict)=100.00%\n",
      "[ 2020-03-11 13:39:08,904][kfold_wrapper.log_eval_metrics] Accuracy(layer_4 - estimator_1 - 5_folds.train_2.predict)=91.67%\n",
      "[ 2020-03-11 13:39:09,115][kfold_wrapper.log_eval_metrics] Accuracy(layer_4 - estimator_1 - 5_folds.train_3.predict)=95.65%\n",
      "[ 2020-03-11 13:39:09,327][kfold_wrapper.log_eval_metrics] Accuracy(layer_4 - estimator_1 - 5_folds.train_4.predict)=95.65%\n",
      "[ 2020-03-11 13:39:09,328][kfold_wrapper.log_eval_metrics] Accuracy(layer_4 - estimator_1 - 5_folds.train_cv.predict)=96.67%\n",
      "[ 2020-03-11 13:39:09,541][kfold_wrapper.log_eval_metrics] Accuracy(layer_4 - estimator_2 - 5_folds.train_0.predict)=100.00%\n",
      "[ 2020-03-11 13:39:09,752][kfold_wrapper.log_eval_metrics] Accuracy(layer_4 - estimator_2 - 5_folds.train_1.predict)=92.00%\n",
      "[ 2020-03-11 13:39:09,962][kfold_wrapper.log_eval_metrics] Accuracy(layer_4 - estimator_2 - 5_folds.train_2.predict)=100.00%\n",
      "[ 2020-03-11 13:39:10,174][kfold_wrapper.log_eval_metrics] Accuracy(layer_4 - estimator_2 - 5_folds.train_3.predict)=100.00%\n",
      "[ 2020-03-11 13:39:10,385][kfold_wrapper.log_eval_metrics] Accuracy(layer_4 - estimator_2 - 5_folds.train_4.predict)=95.65%\n",
      "[ 2020-03-11 13:39:10,386][kfold_wrapper.log_eval_metrics] Accuracy(layer_4 - estimator_2 - 5_folds.train_cv.predict)=97.50%\n",
      "[ 2020-03-11 13:39:10,388][kfold_wrapper.log_eval_metrics] Accuracy(layer_4 - estimator_3 - 5_folds.train_0.predict)=92.00%\n",
      "[ 2020-03-11 13:39:10,391][kfold_wrapper.log_eval_metrics] Accuracy(layer_4 - estimator_3 - 5_folds.train_1.predict)=100.00%\n",
      "[ 2020-03-11 13:39:10,394][kfold_wrapper.log_eval_metrics] Accuracy(layer_4 - estimator_3 - 5_folds.train_2.predict)=100.00%\n",
      "[ 2020-03-11 13:39:10,397][kfold_wrapper.log_eval_metrics] Accuracy(layer_4 - estimator_3 - 5_folds.train_3.predict)=100.00%\n",
      "[ 2020-03-11 13:39:10,400][kfold_wrapper.log_eval_metrics] Accuracy(layer_4 - estimator_3 - 5_folds.train_4.predict)=100.00%\n"
     ]
    },
    {
     "name": "stderr",
     "output_type": "stream",
     "text": [
      "[ 2020-03-11 13:39:10,402][kfold_wrapper.log_eval_metrics] Accuracy(layer_4 - estimator_3 - 5_folds.train_cv.predict)=98.33%\n",
      "[ 2020-03-11 13:39:10,403][cascade_classifier.calc_accuracy] Accuracy(layer_4 - train.classifier_average)=98.33%\n",
      "[ 2020-03-11 13:39:10,404][cascade_classifier.fit_transform] [layer=5] look_indexs=[0], X_cur_train.shape=(120, 16), X_cur_test.shape=(0, 16)\n",
      "[ 2020-03-11 13:39:10,436][kfold_wrapper.log_eval_metrics] Accuracy(layer_5 - estimator_0 - 5_folds.train_0.predict)=100.00%\n",
      "[ 2020-03-11 13:39:10,460][kfold_wrapper.log_eval_metrics] Accuracy(layer_5 - estimator_0 - 5_folds.train_1.predict)=96.00%\n",
      "[ 2020-03-11 13:39:10,485][kfold_wrapper.log_eval_metrics] Accuracy(layer_5 - estimator_0 - 5_folds.train_2.predict)=100.00%\n",
      "[ 2020-03-11 13:39:10,509][kfold_wrapper.log_eval_metrics] Accuracy(layer_5 - estimator_0 - 5_folds.train_3.predict)=100.00%\n",
      "[ 2020-03-11 13:39:10,532][kfold_wrapper.log_eval_metrics] Accuracy(layer_5 - estimator_0 - 5_folds.train_4.predict)=95.65%\n",
      "[ 2020-03-11 13:39:10,533][kfold_wrapper.log_eval_metrics] Accuracy(layer_5 - estimator_0 - 5_folds.train_cv.predict)=98.33%\n",
      "[ 2020-03-11 13:39:10,747][kfold_wrapper.log_eval_metrics] Accuracy(layer_5 - estimator_1 - 5_folds.train_0.predict)=96.00%\n",
      "[ 2020-03-11 13:39:10,963][kfold_wrapper.log_eval_metrics] Accuracy(layer_5 - estimator_1 - 5_folds.train_1.predict)=100.00%\n",
      "[ 2020-03-11 13:39:11,174][kfold_wrapper.log_eval_metrics] Accuracy(layer_5 - estimator_1 - 5_folds.train_2.predict)=100.00%\n",
      "[ 2020-03-11 13:39:11,388][kfold_wrapper.log_eval_metrics] Accuracy(layer_5 - estimator_1 - 5_folds.train_3.predict)=95.65%\n",
      "[ 2020-03-11 13:39:11,601][kfold_wrapper.log_eval_metrics] Accuracy(layer_5 - estimator_1 - 5_folds.train_4.predict)=100.00%\n",
      "[ 2020-03-11 13:39:11,603][kfold_wrapper.log_eval_metrics] Accuracy(layer_5 - estimator_1 - 5_folds.train_cv.predict)=98.33%\n",
      "[ 2020-03-11 13:39:11,826][kfold_wrapper.log_eval_metrics] Accuracy(layer_5 - estimator_2 - 5_folds.train_0.predict)=100.00%\n",
      "[ 2020-03-11 13:39:12,040][kfold_wrapper.log_eval_metrics] Accuracy(layer_5 - estimator_2 - 5_folds.train_1.predict)=96.00%\n",
      "[ 2020-03-11 13:39:12,256][kfold_wrapper.log_eval_metrics] Accuracy(layer_5 - estimator_2 - 5_folds.train_2.predict)=100.00%\n",
      "[ 2020-03-11 13:39:12,473][kfold_wrapper.log_eval_metrics] Accuracy(layer_5 - estimator_2 - 5_folds.train_3.predict)=100.00%\n",
      "[ 2020-03-11 13:39:12,684][kfold_wrapper.log_eval_metrics] Accuracy(layer_5 - estimator_2 - 5_folds.train_4.predict)=100.00%\n",
      "[ 2020-03-11 13:39:12,685][kfold_wrapper.log_eval_metrics] Accuracy(layer_5 - estimator_2 - 5_folds.train_cv.predict)=99.17%\n",
      "[ 2020-03-11 13:39:12,687][kfold_wrapper.log_eval_metrics] Accuracy(layer_5 - estimator_3 - 5_folds.train_0.predict)=100.00%\n",
      "[ 2020-03-11 13:39:12,690][kfold_wrapper.log_eval_metrics] Accuracy(layer_5 - estimator_3 - 5_folds.train_1.predict)=100.00%\n",
      "[ 2020-03-11 13:39:12,692][kfold_wrapper.log_eval_metrics] Accuracy(layer_5 - estimator_3 - 5_folds.train_2.predict)=100.00%\n",
      "[ 2020-03-11 13:39:12,694][kfold_wrapper.log_eval_metrics] Accuracy(layer_5 - estimator_3 - 5_folds.train_3.predict)=100.00%\n",
      "[ 2020-03-11 13:39:12,696][kfold_wrapper.log_eval_metrics] Accuracy(layer_5 - estimator_3 - 5_folds.train_4.predict)=91.30%\n",
      "[ 2020-03-11 13:39:12,697][kfold_wrapper.log_eval_metrics] Accuracy(layer_5 - estimator_3 - 5_folds.train_cv.predict)=98.33%\n",
      "[ 2020-03-11 13:39:12,699][cascade_classifier.calc_accuracy] Accuracy(layer_5 - train.classifier_average)=98.33%\n",
      "[ 2020-03-11 13:39:12,700][cascade_classifier.fit_transform] [Result][Optimal Level Detected] opt_layer_num=3, accuracy_train=98.33%, accuracy_test=0.00%\n",
      "[ 2020-03-11 13:39:12,703][cascade_classifier.transform] X_groups_test.shape=[(30, 4)]\n",
      "[ 2020-03-11 13:39:12,704][cascade_classifier.transform] group_dims=[4]\n",
      "[ 2020-03-11 13:39:12,706][cascade_classifier.transform] X_test.shape=(30, 4)\n",
      "[ 2020-03-11 13:39:12,708][cascade_classifier.transform] [layer=0] look_indexs=[0], X_cur_test.shape=(30, 4)\n",
      "[ 2020-03-11 13:39:13,749][cascade_classifier.transform] [layer=1] look_indexs=[0], X_cur_test.shape=(30, 16)\n",
      "[ 2020-03-11 13:39:14,784][cascade_classifier.transform] [layer=2] look_indexs=[0], X_cur_test.shape=(30, 16)\n"
     ]
    }
   ],
   "source": [
    "iris = datasets.load_iris()\n",
    "X = iris.data\n",
    "y = iris.target\n",
    "scaler=MinMaxScaler(feature_range=(0,1))\n",
    "X=scaler.fit_transform(X)\n",
    "X_train, X_test, Y_train, Y_test = train_test_split(X, y, test_size=0.2,random_state=60)\n",
    "config=get_toy_config()\n",
    "gc = GCForest(config) \n",
    "X_train_enc = gc.fit_transform(X_train,Y_train)\n",
    "y_pred = gc.predict(X_test)\n"
   ]
  },
  {
   "cell_type": "code",
   "execution_count": 28,
   "metadata": {},
   "outputs": [
    {
     "name": "stdout",
     "output_type": "stream",
     "text": [
      "Test Accuracy of Other classifier using gcforest's X_encode = 93.33 %\n"
     ]
    }
   ],
   "source": [
    "from sklearn.metrics import accuracy_score\n",
    "acc = accuracy_score(Y_test, y_pred)\n",
    "print(\"Test Accuracy of Other classifier using gcforest's X_encode = {:.2f} %\".format(acc * 100))"
   ]
  },
  {
   "cell_type": "code",
   "execution_count": 29,
   "metadata": {},
   "outputs": [
    {
     "data": {
      "text/plain": [
       "<matplotlib.legend.Legend at 0x19f0d337308>"
      ]
     },
     "execution_count": 29,
     "metadata": {},
     "output_type": "execute_result"
    },
    {
     "data": {
      "image/png": "[encoded data removed]",
      "text/plain": [
       "<Figure size 432x288 with 1 Axes>"
      ]
     },
     "metadata": {
      "needs_background": "light"
     },
     "output_type": "display_data"
    }
   ],
   "source": [
    "plt.plot(Y_test,label='Actual')\n",
    "plt.plot(y_pred,label='Prediction')\n",
    "plt.legend()"
   ]
  },
  {
   "cell_type": "code",
   "execution_count": null,
   "metadata": {},
   "outputs": [],
   "source": []
  },
  {
   "cell_type": "code",
   "execution_count": null,
   "metadata": {},
   "outputs": [],
   "source": [
    "\n"
   ]
  },
  {
   "cell_type": "code",
   "execution_count": null,
   "metadata": {},
   "outputs": [],
   "source": []
  }
 ],
 "metadata": {
  "kernelspec": {
   "display_name": "Python 3",
   "language": "python",
   "name": "python3"
  },
  "language_info": {
   "codemirror_mode": {
    "name": "ipython",
    "version": 3
   },
   "file_extension": ".py",
   "mimetype": "text/x-python",
   "name": "python",
   "nbconvert_exporter": "python",
   "pygments_lexer": "ipython3",
   "version": "3.7.4"
  }
 },
 "nbformat": 4,
 "nbformat_minor": 2
}
