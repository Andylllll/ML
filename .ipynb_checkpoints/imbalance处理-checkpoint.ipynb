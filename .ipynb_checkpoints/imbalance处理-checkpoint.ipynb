{
 "cells": [
  {
   "cell_type": "code",
   "execution_count": 1,
   "metadata": {},
   "outputs": [
    {
     "data": {
      "text/html": [
       "<div>\n",
       "<style scoped>\n",
       "    .dataframe tbody tr th:only-of-type {\n",
       "        vertical-align: middle;\n",
       "    }\n",
       "\n",
       "    .dataframe tbody tr th {\n",
       "        vertical-align: top;\n",
       "    }\n",
       "\n",
       "    .dataframe thead th {\n",
       "        text-align: right;\n",
       "    }\n",
       "</style>\n",
       "<table border=\"1\" class=\"dataframe\">\n",
       "  <thead>\n",
       "    <tr style=\"text-align: right;\">\n",
       "      <th></th>\n",
       "      <th>ID</th>\n",
       "      <th>Bone</th>\n",
       "      <th>Age</th>\n",
       "      <th>Race</th>\n",
       "      <th>Grade</th>\n",
       "      <th>T</th>\n",
       "      <th>N</th>\n",
       "      <th>Brain</th>\n",
       "      <th>Liver</th>\n",
       "      <th>Lung</th>\n",
       "      <th>Insurance</th>\n",
       "      <th>Marital</th>\n",
       "    </tr>\n",
       "  </thead>\n",
       "  <tbody>\n",
       "    <tr>\n",
       "      <td>0</td>\n",
       "      <td>712</td>\n",
       "      <td>No</td>\n",
       "      <td>60</td>\n",
       "      <td>Black</td>\n",
       "      <td>II</td>\n",
       "      <td>1</td>\n",
       "      <td>N0</td>\n",
       "      <td>No</td>\n",
       "      <td>No</td>\n",
       "      <td>No</td>\n",
       "      <td>Yes</td>\n",
       "      <td>Yes</td>\n",
       "    </tr>\n",
       "    <tr>\n",
       "      <td>1</td>\n",
       "      <td>1013</td>\n",
       "      <td>No</td>\n",
       "      <td>80</td>\n",
       "      <td>White</td>\n",
       "      <td>III</td>\n",
       "      <td>1</td>\n",
       "      <td>N0</td>\n",
       "      <td>No</td>\n",
       "      <td>No</td>\n",
       "      <td>No</td>\n",
       "      <td>Yes</td>\n",
       "      <td>Yes</td>\n",
       "    </tr>\n",
       "    <tr>\n",
       "      <td>2</td>\n",
       "      <td>2726</td>\n",
       "      <td>No</td>\n",
       "      <td>66</td>\n",
       "      <td>White</td>\n",
       "      <td>II</td>\n",
       "      <td>1</td>\n",
       "      <td>N0</td>\n",
       "      <td>No</td>\n",
       "      <td>No</td>\n",
       "      <td>No</td>\n",
       "      <td>Yes</td>\n",
       "      <td>Yes</td>\n",
       "    </tr>\n",
       "    <tr>\n",
       "      <td>3</td>\n",
       "      <td>2790</td>\n",
       "      <td>No</td>\n",
       "      <td>60</td>\n",
       "      <td>White</td>\n",
       "      <td>II</td>\n",
       "      <td>1</td>\n",
       "      <td>N0</td>\n",
       "      <td>No</td>\n",
       "      <td>No</td>\n",
       "      <td>No</td>\n",
       "      <td>Yes</td>\n",
       "      <td>Yes</td>\n",
       "    </tr>\n",
       "    <tr>\n",
       "      <td>4</td>\n",
       "      <td>2904</td>\n",
       "      <td>No</td>\n",
       "      <td>58</td>\n",
       "      <td>White</td>\n",
       "      <td>III</td>\n",
       "      <td>2</td>\n",
       "      <td>N0</td>\n",
       "      <td>No</td>\n",
       "      <td>No</td>\n",
       "      <td>No</td>\n",
       "      <td>Yes</td>\n",
       "      <td>No</td>\n",
       "    </tr>\n",
       "  </tbody>\n",
       "</table>\n",
       "</div>"
      ],
      "text/plain": [
       "     ID Bone  Age   Race Grade  T   N Brain Liver Lung Insurance Marital\n",
       "0   712   No   60  Black    II  1  N0    No    No   No       Yes     Yes\n",
       "1  1013   No   80  White   III  1  N0    No    No   No       Yes     Yes\n",
       "2  2726   No   66  White    II  1  N0    No    No   No       Yes     Yes\n",
       "3  2790   No   60  White    II  1  N0    No    No   No       Yes     Yes\n",
       "4  2904   No   58  White   III  2  N0    No    No   No       Yes      No"
      ]
     },
     "execution_count": 1,
     "metadata": {},
     "output_type": "execute_result"
    }
   ],
   "source": [
    "import lightgbm as lig\n",
    "import pandas as pd\n",
    "import numpy as np\n",
    "dataset=pd.read_csv(\"data/transfusion_index.csv\")\n",
    "dataset.head()"
   ]
  },
  {
   "cell_type": "code",
   "execution_count": 2,
   "metadata": {},
   "outputs": [
    {
     "name": "stdout",
     "output_type": "stream",
     "text": [
      "<class 'pandas.core.frame.DataFrame'>\n",
      "RangeIndex: 203486 entries, 0 to 203485\n",
      "Data columns (total 12 columns):\n",
      "ID           203486 non-null int64\n",
      "Bone         203486 non-null object\n",
      "Age          203486 non-null int64\n",
      "Race         203486 non-null object\n",
      "Grade        203486 non-null object\n",
      "T            203486 non-null int64\n",
      "N            203486 non-null object\n",
      "Brain        203486 non-null object\n",
      "Liver        203486 non-null object\n",
      "Lung         203486 non-null object\n",
      "Insurance    203486 non-null object\n",
      "Marital      203486 non-null object\n",
      "dtypes: int64(3), object(9)\n",
      "memory usage: 18.6+ MB\n"
     ]
    }
   ],
   "source": [
    "dataset.info()"
   ]
  },
  {
   "cell_type": "code",
   "execution_count": 3,
   "metadata": {},
   "outputs": [
    {
     "data": {
      "text/plain": [
       "Marital      0\n",
       "Insurance    0\n",
       "Lung         0\n",
       "Liver        0\n",
       "Brain        0\n",
       "N            0\n",
       "T            0\n",
       "Grade        0\n",
       "Race         0\n",
       "Age          0\n",
       "Bone         0\n",
       "ID           0\n",
       "dtype: int64"
      ]
     },
     "execution_count": 3,
     "metadata": {},
     "output_type": "execute_result"
    }
   ],
   "source": [
    "dataset.isnull().sum().sort_values(ascending=False)"
   ]
  },
  {
   "cell_type": "code",
   "execution_count": 4,
   "metadata": {},
   "outputs": [],
   "source": [
    "dataset[\"Bone\"]=dataset[\"Bone\"].map({\"Yes\":1,\"No\":0})\n",
    "\n",
    "dataset[\"Brain\"]=dataset[\"Brain\"].map({\"Yes\":1,\"No\":0})\n",
    "dataset[\"Liver\"]=dataset[\"Liver\"].map({\"Yes\":1,\"No\":0})\n",
    "dataset[\"Lung\"]=dataset[\"Lung\"].map({\"Yes\":1,\"No\":0})\n",
    "dataset[\"Insurance\"]=dataset[\"Insurance\"].map({\"Yes\":1,\"No\":0})\n",
    "dataset[\"Marital\"]=dataset[\"Marital\"].map({\"Yes\":1,\"No\":0})\n",
    "dataset[\"Race\"]=dataset[\"Race\"].map({\"Black\":0,\"White\":1,\"Other (American Indian/AK Native, Asian/Pacific Islander)\":3})\n",
    "dataset[\"Grade\"]=dataset[\"Grade\"].map({\"I\":1,\"II\":2,\"III\":3,\"IV\":4})\n",
    "dataset[\"N\"]=dataset[\"N\"].map({\"N0\":0,\"N1\":1})\n"
   ]
  },
  {
   "cell_type": "code",
   "execution_count": 5,
   "metadata": {},
   "outputs": [
    {
     "name": "stdout",
     "output_type": "stream",
     "text": [
      "<class 'pandas.core.frame.DataFrame'>\n",
      "RangeIndex: 203486 entries, 0 to 203485\n",
      "Data columns (total 12 columns):\n",
      "ID           203486 non-null int64\n",
      "Bone         203486 non-null int64\n",
      "Age          203486 non-null int64\n",
      "Race         203486 non-null int64\n",
      "Grade        203486 non-null int64\n",
      "T            203486 non-null int64\n",
      "N            203486 non-null int64\n",
      "Brain        203486 non-null int64\n",
      "Liver        203486 non-null int64\n",
      "Lung         203486 non-null int64\n",
      "Insurance    203486 non-null int64\n",
      "Marital      203486 non-null int64\n",
      "dtypes: int64(12)\n",
      "memory usage: 18.6 MB\n"
     ]
    }
   ],
   "source": [
    "dataset.info()\n"
   ]
  },
  {
   "cell_type": "code",
   "execution_count": 6,
   "metadata": {},
   "outputs": [
    {
     "data": {
      "text/html": [
       "<div>\n",
       "<style scoped>\n",
       "    .dataframe tbody tr th:only-of-type {\n",
       "        vertical-align: middle;\n",
       "    }\n",
       "\n",
       "    .dataframe tbody tr th {\n",
       "        vertical-align: top;\n",
       "    }\n",
       "\n",
       "    .dataframe thead th {\n",
       "        text-align: right;\n",
       "    }\n",
       "</style>\n",
       "<table border=\"1\" class=\"dataframe\">\n",
       "  <thead>\n",
       "    <tr style=\"text-align: right;\">\n",
       "      <th></th>\n",
       "      <th>Age</th>\n",
       "      <th>Race</th>\n",
       "      <th>Grade</th>\n",
       "      <th>T</th>\n",
       "      <th>N</th>\n",
       "      <th>Brain</th>\n",
       "      <th>Liver</th>\n",
       "      <th>Lung</th>\n",
       "      <th>Insurance</th>\n",
       "      <th>Marital</th>\n",
       "    </tr>\n",
       "  </thead>\n",
       "  <tbody>\n",
       "    <tr>\n",
       "      <td>0</td>\n",
       "      <td>60</td>\n",
       "      <td>0</td>\n",
       "      <td>2</td>\n",
       "      <td>1</td>\n",
       "      <td>0</td>\n",
       "      <td>0</td>\n",
       "      <td>0</td>\n",
       "      <td>0</td>\n",
       "      <td>1</td>\n",
       "      <td>1</td>\n",
       "    </tr>\n",
       "    <tr>\n",
       "      <td>1</td>\n",
       "      <td>80</td>\n",
       "      <td>1</td>\n",
       "      <td>3</td>\n",
       "      <td>1</td>\n",
       "      <td>0</td>\n",
       "      <td>0</td>\n",
       "      <td>0</td>\n",
       "      <td>0</td>\n",
       "      <td>1</td>\n",
       "      <td>1</td>\n",
       "    </tr>\n",
       "    <tr>\n",
       "      <td>2</td>\n",
       "      <td>66</td>\n",
       "      <td>1</td>\n",
       "      <td>2</td>\n",
       "      <td>1</td>\n",
       "      <td>0</td>\n",
       "      <td>0</td>\n",
       "      <td>0</td>\n",
       "      <td>0</td>\n",
       "      <td>1</td>\n",
       "      <td>1</td>\n",
       "    </tr>\n",
       "    <tr>\n",
       "      <td>3</td>\n",
       "      <td>60</td>\n",
       "      <td>1</td>\n",
       "      <td>2</td>\n",
       "      <td>1</td>\n",
       "      <td>0</td>\n",
       "      <td>0</td>\n",
       "      <td>0</td>\n",
       "      <td>0</td>\n",
       "      <td>1</td>\n",
       "      <td>1</td>\n",
       "    </tr>\n",
       "    <tr>\n",
       "      <td>4</td>\n",
       "      <td>58</td>\n",
       "      <td>1</td>\n",
       "      <td>3</td>\n",
       "      <td>2</td>\n",
       "      <td>0</td>\n",
       "      <td>0</td>\n",
       "      <td>0</td>\n",
       "      <td>0</td>\n",
       "      <td>1</td>\n",
       "      <td>0</td>\n",
       "    </tr>\n",
       "    <tr>\n",
       "      <td>...</td>\n",
       "      <td>...</td>\n",
       "      <td>...</td>\n",
       "      <td>...</td>\n",
       "      <td>...</td>\n",
       "      <td>...</td>\n",
       "      <td>...</td>\n",
       "      <td>...</td>\n",
       "      <td>...</td>\n",
       "      <td>...</td>\n",
       "      <td>...</td>\n",
       "    </tr>\n",
       "    <tr>\n",
       "      <td>203481</td>\n",
       "      <td>80</td>\n",
       "      <td>1</td>\n",
       "      <td>2</td>\n",
       "      <td>1</td>\n",
       "      <td>0</td>\n",
       "      <td>0</td>\n",
       "      <td>0</td>\n",
       "      <td>0</td>\n",
       "      <td>1</td>\n",
       "      <td>1</td>\n",
       "    </tr>\n",
       "    <tr>\n",
       "      <td>203482</td>\n",
       "      <td>72</td>\n",
       "      <td>1</td>\n",
       "      <td>3</td>\n",
       "      <td>1</td>\n",
       "      <td>0</td>\n",
       "      <td>0</td>\n",
       "      <td>0</td>\n",
       "      <td>0</td>\n",
       "      <td>1</td>\n",
       "      <td>1</td>\n",
       "    </tr>\n",
       "    <tr>\n",
       "      <td>203483</td>\n",
       "      <td>68</td>\n",
       "      <td>1</td>\n",
       "      <td>2</td>\n",
       "      <td>2</td>\n",
       "      <td>0</td>\n",
       "      <td>0</td>\n",
       "      <td>0</td>\n",
       "      <td>0</td>\n",
       "      <td>1</td>\n",
       "      <td>1</td>\n",
       "    </tr>\n",
       "    <tr>\n",
       "      <td>203484</td>\n",
       "      <td>71</td>\n",
       "      <td>1</td>\n",
       "      <td>3</td>\n",
       "      <td>2</td>\n",
       "      <td>0</td>\n",
       "      <td>0</td>\n",
       "      <td>0</td>\n",
       "      <td>0</td>\n",
       "      <td>1</td>\n",
       "      <td>1</td>\n",
       "    </tr>\n",
       "    <tr>\n",
       "      <td>203485</td>\n",
       "      <td>68</td>\n",
       "      <td>0</td>\n",
       "      <td>2</td>\n",
       "      <td>1</td>\n",
       "      <td>0</td>\n",
       "      <td>0</td>\n",
       "      <td>0</td>\n",
       "      <td>0</td>\n",
       "      <td>1</td>\n",
       "      <td>1</td>\n",
       "    </tr>\n",
       "  </tbody>\n",
       "</table>\n",
       "<p>203486 rows × 10 columns</p>\n",
       "</div>"
      ],
      "text/plain": [
       "        Age  Race  Grade  T  N  Brain  Liver  Lung  Insurance  Marital\n",
       "0        60     0      2  1  0      0      0     0          1        1\n",
       "1        80     1      3  1  0      0      0     0          1        1\n",
       "2        66     1      2  1  0      0      0     0          1        1\n",
       "3        60     1      2  1  0      0      0     0          1        1\n",
       "4        58     1      3  2  0      0      0     0          1        0\n",
       "...     ...   ...    ... .. ..    ...    ...   ...        ...      ...\n",
       "203481   80     1      2  1  0      0      0     0          1        1\n",
       "203482   72     1      3  1  0      0      0     0          1        1\n",
       "203483   68     1      2  2  0      0      0     0          1        1\n",
       "203484   71     1      3  2  0      0      0     0          1        1\n",
       "203485   68     0      2  1  0      0      0     0          1        1\n",
       "\n",
       "[203486 rows x 10 columns]"
      ]
     },
     "execution_count": 6,
     "metadata": {},
     "output_type": "execute_result"
    }
   ],
   "source": [
    "dataset\n",
    "y=dataset[\"Bone\"]\n",
    "X=dataset.drop(columns=[\"Bone\",\"ID\"])\n",
    "X"
   ]
  },
  {
   "cell_type": "code",
   "execution_count": 7,
   "metadata": {},
   "outputs": [],
   "source": [
    "import lightgbm as lgb\n",
    "import matplotlib.pyplot as plt\n",
    "model=lgb.LGBMClassifier(is_unbalance=True)\n",
    "res1=model.fit(X,y)\n",
    "y_pre=model.predict(X)\n"
   ]
  },
  {
   "cell_type": "code",
   "execution_count": 8,
   "metadata": {},
   "outputs": [
    {
     "data": {
      "text/plain": [
       "<Figure size 432x288 with 0 Axes>"
      ]
     },
     "metadata": {},
     "output_type": "display_data"
    },
    {
     "data": {
      "image/png": "[encoded data removed]",
      "text/plain": [
       "<Figure size 720x720 with 1 Axes>"
      ]
     },
     "metadata": {
      "needs_background": "light"
     },
     "output_type": "display_data"
    },
    {
     "data": {
      "text/plain": [
       "0.7839590330277626"
      ]
     },
     "execution_count": 8,
     "metadata": {},
     "output_type": "execute_result"
    }
   ],
   "source": [
    "from sklearn.metrics import roc_curve\n",
    "from sklearn.metrics import auc\n",
    "def aucc(y,y_pre):\n",
    "    fpr,tpr,threshold=roc_curve(y,y_pre)\n",
    "    roc_auc=auc(fpr,tpr)\n",
    "    plt.figure()\n",
    "    plt.figure(figsize=(10,10))\n",
    "    plt.plot(fpr, tpr, color='darkorange',lw=2, label='ROC curve (area = %0.3f)' % roc_auc) ###假正率为横坐标，真正率为纵坐标做曲线\n",
    "    plt.plot([0, 1], [0, 1], color='navy', lw=2, linestyle='--')\n",
    "    plt.xlim([0.0, 1.0])\n",
    "    plt.ylim([0.0, 1.05])\n",
    "    plt.xlabel('False Positive Rate')\n",
    "    plt.ylabel('True Positive Rate')\n",
    "    plt.title('AUC')\n",
    "    plt.legend(loc=\"lower right\")\n",
    "    plt.show()\n",
    "    return roc_auc\n",
    "aucc(y,y_pre)"
   ]
  },
  {
   "cell_type": "code",
   "execution_count": 9,
   "metadata": {},
   "outputs": [
    {
     "name": "stdout",
     "output_type": "stream",
     "text": [
      "197700\n",
      "5786\n"
     ]
    }
   ],
   "source": [
    "print(dataset[\"Bone\"][dataset[\"Bone\"]==0].count())\n",
    "print(dataset[\"Bone\"][dataset[\"Bone\"]==1].count())"
   ]
  },
  {
   "cell_type": "code",
   "execution_count": 10,
   "metadata": {},
   "outputs": [
    {
     "name": "stdout",
     "output_type": "stream",
     "text": [
      "Age          True\n",
      "Race         True\n",
      "Grade        True\n",
      "T            True\n",
      "N            True\n",
      "Brain        True\n",
      "Liver        True\n",
      "Lung         True\n",
      "Insurance    True\n",
      "Marital      True\n",
      "dtype: bool\n",
      "Age          False\n",
      "Race         False\n",
      "Grade        False\n",
      "T            False\n",
      "N            False\n",
      "Brain        False\n",
      "Liver        False\n",
      "Lung         False\n",
      "Insurance    False\n",
      "Marital      False\n",
      "dtype: bool\n",
      "Age          False\n",
      "Race         False\n",
      "Grade        False\n",
      "T            False\n",
      "N            False\n",
      "Brain        False\n",
      "Liver        False\n",
      "Lung         False\n",
      "Insurance    False\n",
      "Marital      False\n",
      "dtype: bool\n",
      "Age          False\n",
      "Race         False\n",
      "Grade        False\n",
      "T            False\n",
      "N            False\n",
      "Brain        False\n",
      "Liver        False\n",
      "Lung         False\n",
      "Insurance    False\n",
      "Marital      False\n",
      "dtype: bool\n"
     ]
    }
   ],
   "source": [
    "print(np.isfinite(X).all())\n",
    "print(np.isinf(X).all())\n",
    "#True：有缺失值\n",
    "print(X.isnull().any())\n",
    "print(np.isnan(X).any())\n"
   ]
  },
  {
   "cell_type": "code",
   "execution_count": 11,
   "metadata": {},
   "outputs": [
    {
     "name": "stderr",
     "output_type": "stream",
     "text": [
      "Using TensorFlow backend.\n"
     ]
    },
    {
     "data": {
      "text/plain": [
       "(395400, 10)"
      ]
     },
     "execution_count": 11,
     "metadata": {},
     "output_type": "execute_result"
    }
   ],
   "source": [
    "#过拟合\n",
    "from imblearn.over_sampling import SMOTE\n",
    "smo= SMOTE(random_state=0)\n",
    "X_smo, y_smo = smo.fit_resample(X, y)\n",
    "X_smo.shape\n"
   ]
  },
  {
   "cell_type": "code",
   "execution_count": 12,
   "metadata": {},
   "outputs": [
    {
     "data": {
      "text/plain": [
       "(11572, 10)"
      ]
     },
     "execution_count": 12,
     "metadata": {},
     "output_type": "execute_result"
    }
   ],
   "source": [
    "#欠拟合\n",
    "from imblearn.under_sampling import RandomUnderSampler\n",
    "rus= RandomUnderSampler(random_state=0)\n",
    "X_rus, y_rus = rus.fit_resample(X, y)\n",
    "X_rus.shape"
   ]
  },
  {
   "cell_type": "code",
   "execution_count": 13,
   "metadata": {},
   "outputs": [
    {
     "name": "stdout",
     "output_type": "stream",
     "text": [
      "<class 'pandas.core.frame.DataFrame'>\n",
      "Int64Index: 8100 entries, 3481 to 2715\n",
      "Data columns (total 10 columns):\n",
      "Age          8100 non-null int64\n",
      "Race         8100 non-null int64\n",
      "Grade        8100 non-null int64\n",
      "T            8100 non-null int64\n",
      "N            8100 non-null int64\n",
      "Brain        8100 non-null int64\n",
      "Liver        8100 non-null int64\n",
      "Lung         8100 non-null int64\n",
      "Insurance    8100 non-null int64\n",
      "Marital      8100 non-null int64\n",
      "dtypes: int64(10)\n",
      "memory usage: 696.1 KB\n"
     ]
    }
   ],
   "source": [
    "from sklearn.model_selection import train_test_split\n",
    "X_train,X_test,y_train,y_test=train_test_split(X_rus,y_rus,test_size=0.3)\n",
    "X_train.info()"
   ]
  },
  {
   "cell_type": "code",
   "execution_count": 14,
   "metadata": {},
   "outputs": [],
   "source": [
    "import xgboost as xgb\n",
    "from sklearn import model_selection\n",
    "from mlxtend.classifier import StackingClassifier\n",
    "from sklearn.linear_model import LogisticRegression\n",
    "xgb_model=xgb.XGBClassifier()\n",
    "lgb_model=lgb.LGBMClassifier()\n",
    "lr = LogisticRegression()\n",
    "train_set=[]\n",
    "test_set=[]\n",
    "get_stacking=StackingClassifier(classifiers=[xgb_model,lgb_model],meta_classifier=lr)\n",
    "for mol,label in zip([xgb_model, lgb_model, get_stacking], \n",
    "                       ['xgboost', \n",
    "                       'lightgbm', \n",
    "                        'StackingClassifier']):\n",
    "    scores = model_selection.cross_val_score(mol,X_rus, y_rus,cv=5, scoring='accuracy')\n",
    "get_stacking.fit(X_train, y_train)\n",
    "y_prerus = get_stacking.predict(X_test)\n"
   ]
  },
  {
   "cell_type": "code",
   "execution_count": 15,
   "metadata": {},
   "outputs": [
    {
     "data": {
      "text/plain": [
       "<Figure size 432x288 with 0 Axes>"
      ]
     },
     "metadata": {},
     "output_type": "display_data"
    },
    {
     "data": {
      "image/png": "[encoded data removed]",
      "text/plain": [
       "<Figure size 720x720 with 1 Axes>"
      ]
     },
     "metadata": {
      "needs_background": "light"
     },
     "output_type": "display_data"
    },
    {
     "data": {
      "text/plain": [
       "0.7752714676191718"
      ]
     },
     "execution_count": 15,
     "metadata": {},
     "output_type": "execute_result"
    }
   ],
   "source": [
    "aucc(y_test,y_prerus)"
   ]
  },
  {
   "cell_type": "code",
   "execution_count": 16,
   "metadata": {},
   "outputs": [],
   "source": [
    "#过拟合\n",
    "from sklearn.model_selection import train_test_split\n",
    "X_train1,X_test1,y_train1,y_test1=train_test_split(X_smo,y_smo,test_size=0.3)\n",
    "import xgboost as xgb\n",
    "from sklearn import model_selection\n",
    "from mlxtend.classifier import StackingClassifier\n",
    "from sklearn.linear_model import LogisticRegression\n",
    "xgb_model=xgb.XGBClassifier()\n",
    "lgb_model=lgb.LGBMClassifier()\n",
    "lr = LogisticRegression()\n",
    "train_set=[]\n",
    "test_set=[]\n",
    "get_stacking=StackingClassifier(classifiers=[xgb_model,lgb_model],meta_classifier=lr)\n",
    "get_stacking.fit(X_train1, y_train1)\n",
    "y_presmo = get_stacking.predict(X_test1)\n"
   ]
  },
  {
   "cell_type": "code",
   "execution_count": 17,
   "metadata": {},
   "outputs": [
    {
     "data": {
      "text/plain": [
       "<Figure size 432x288 with 0 Axes>"
      ]
     },
     "metadata": {},
     "output_type": "display_data"
    },
    {
     "data": {
      "image/png": "[encoded data removed]",
      "text/plain": [
       "<Figure size 720x720 with 1 Axes>"
      ]
     },
     "metadata": {
      "needs_background": "light"
     },
     "output_type": "display_data"
    },
    {
     "data": {
      "text/plain": [
       "0.7755527181762838"
      ]
     },
     "execution_count": 17,
     "metadata": {},
     "output_type": "execute_result"
    }
   ],
   "source": [
    "aucc(y_test1,y_presmo)\n"
   ]
  },
  {
   "cell_type": "code",
   "execution_count": 82,
   "metadata": {},
   "outputs": [],
   "source": [
    "#focal loss\n",
    "from sklearn.model_selection import train_test_split\n",
    "from sklearn.preprocessing import MinMaxScaler\n",
    "scaler=MinMaxScaler(feature_range=(0,1))\n",
    "X=scaler.fit_transform(X)\n",
    "X_train2,X_test2,y_train2,y_test2=train_test_split(X,y,test_size=0.3)\n",
    "scaler = MinMaxScaler(feature_range=(0, 1))\n"
   ]
  },
  {
   "cell_type": "code",
   "execution_count": 83,
   "metadata": {},
   "outputs": [],
   "source": [
    "from keras import backend as K\n",
    "import tensorflow as tf\n",
    "def focal_loss(gamma, alpha):\n",
    "   \n",
    "    gamma = float(gamma)\n",
    "    alpha = float(alpha)\n",
    " \n",
    "    def focal_loss_fixed(y_true, y_pred):\n",
    "        epsilon = 1.e-9\n",
    "        y_true = tf.convert_to_tensor(y_true, tf.float32)\n",
    "        y_pred = tf.convert_to_tensor(y_pred, tf.float32)\n",
    "\n",
    "        model_out = tf.add(y_pred, epsilon)\n",
    "        ce = tf.multiply(y_true, -tf.math.log(model_out))\n",
    "        weight = tf.multiply(y_true, tf.pow(tf.subtract(1., model_out), gamma))\n",
    "        fl = tf.multiply(alpha, tf.multiply(weight, ce))\n",
    "        reduced_fl = tf.reduce_max(fl, axis=1)\n",
    "        return tf.reduce_mean(reduced_fl)\n",
    "\n",
    "    return focal_loss_fixed\n"
   ]
  },
  {
   "cell_type": "code",
   "execution_count": 84,
   "metadata": {},
   "outputs": [],
   "source": [
    "from keras.models import Sequential\n",
    "from keras.layers import Dense\n",
    "\n",
    "model1 = Sequential()\n",
    "\n",
    "\n",
    "model1.add(Dense(15, input_shape=(X_train2.shape[1],), activation='relu'))\n",
    "model1.add(Dense(30, activation='relu'))\n",
    "model1.add(Dense(10, activation = 'relu'))\n",
    "model1.add(Dense(1,activation='sigmoid',name='output'))\n",
    "model1.compile(optimizer=\"nadam\",loss=focal_loss(gamma=1,alpha=0.9),metrics=['accuracy'])\n"
   ]
  },
  {
   "cell_type": "code",
   "execution_count": 85,
   "metadata": {
    "scrolled": true
   },
   "outputs": [
    {
     "name": "stdout",
     "output_type": "stream",
     "text": [
      "Model: \"sequential_15\"\n",
      "_________________________________________________________________\n",
      "Layer (type)                 Output Shape              Param #   \n",
      "=================================================================\n",
      "dense_43 (Dense)             (None, 15)                165       \n",
      "_________________________________________________________________\n",
      "dense_44 (Dense)             (None, 30)                480       \n",
      "_________________________________________________________________\n",
      "dense_45 (Dense)             (None, 10)                310       \n",
      "_________________________________________________________________\n",
      "output (Dense)               (None, 1)                 11        \n",
      "=================================================================\n",
      "Total params: 966\n",
      "Trainable params: 966\n",
      "Non-trainable params: 0\n",
      "_________________________________________________________________\n"
     ]
    }
   ],
   "source": [
    "model1.summary()"
   ]
  },
  {
   "cell_type": "code",
   "execution_count": 86,
   "metadata": {
    "scrolled": true
   },
   "outputs": [],
   "source": [
    "model1.fit(X_train2, y_train2, epochs=10, batch_size=100,verbose=0)\n",
    "y_predfl=model1.predict(X_test2)"
   ]
  },
  {
   "cell_type": "code",
   "execution_count": 87,
   "metadata": {
    "scrolled": true
   },
   "outputs": [
    {
     "data": {
      "text/plain": [
       "<Figure size 432x288 with 0 Axes>"
      ]
     },
     "metadata": {},
     "output_type": "display_data"
    },
    {
     "data": {
      "image/png": "[encoded data removed]",
      "text/plain": [
       "<Figure size 720x720 with 1 Axes>"
      ]
     },
     "metadata": {
      "needs_background": "light"
     },
     "output_type": "display_data"
    },
    {
     "data": {
      "text/plain": [
       "0.7282652158013827"
      ]
     },
     "execution_count": 87,
     "metadata": {},
     "output_type": "execute_result"
    }
   ],
   "source": [
    "aucc(y_test,y_predfl)"
   ]
  },
  {
   "cell_type": "code",
   "execution_count": null,
   "metadata": {},
   "outputs": [],
   "source": []
  },
  {
   "cell_type": "code",
   "execution_count": null,
   "metadata": {},
   "outputs": [],
   "source": []
  }
 ],
 "metadata": {
  "kernelspec": {
   "display_name": "Python 3",
   "language": "python",
   "name": "python3"
  },
  "language_info": {
   "codemirror_mode": {
    "name": "ipython",
    "version": 3
   },
   "file_extension": ".py",
   "mimetype": "text/x-python",
   "name": "python",
   "nbconvert_exporter": "python",
   "pygments_lexer": "ipython3",
   "version": "3.7.4"
  }
 },
 "nbformat": 4,
 "nbformat_minor": 2
}
