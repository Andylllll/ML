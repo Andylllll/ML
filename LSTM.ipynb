{
 "cells": [
  {
   "cell_type": "code",
   "execution_count": 1,
   "metadata": {},
   "outputs": [
    {
     "data": {
      "text/plain": [
       "<Figure size 1600x900 with 4 Axes>"
      ]
     },
     "metadata": {},
     "output_type": "display_data"
    }
   ],
   "source": [
    "from pandas import read_csv\n",
    "from matplotlib import pyplot\n",
    "import numpy as np\n",
    "# load dataset\n",
    "dataset = read_csv('airport.csv', header=0, index_col=0)\n",
    "values = dataset.values\n",
    "# specify columns to plot\n",
    "groups = [ 1, 2, 3,4]\n",
    "i = 1\n",
    "# plot each column\n",
    "pyplot.figure(figsize=(16,9))\n",
    "\n",
    "for group in groups:\n",
    "    pyplot.subplot(len(groups), 1, i)\n",
    "    pyplot.plot(values[:, group])\n",
    "    pyplot.title(dataset.columns[group], y=0.5, loc='right')\n",
    "    i += 1\n",
    "pyplot.show()\n",
    "pyplot.savefig('1.png')"
   ]
  },
  {
   "cell_type": "code",
   "execution_count": 27,
   "metadata": {},
   "outputs": [
    {
     "name": "stdout",
     "output_type": "stream",
     "text": [
      "            tourist  airplane  festival   GDP\n",
      "date                                         \n",
      "2012-01-01  1848748     16034         9  1991\n",
      "2012-02-01  1839680     15487         2  1991\n",
      "2012-03-01  1999918     16662         1  1991\n",
      "2012-04-01  1991792     16462         5  4162\n",
      "2012-05-01  1898756     16772         3  4162\n"
     ]
    }
   ],
   "source": [
    "from pandas import read_csv\n",
    "from keras import optimizers\n",
    "from datetime import datetime\n",
    "import warnings\n",
    "warnings.filterwarnings('ignore')\n",
    "# load data\n",
    "def parse(x):\n",
    "    return datetime.strptime(x, '%Y %m')\n",
    "dataset = read_csv('airport.csv',  parse_dates = [['year', 'month']], index_col=0, date_parser=parse)\n",
    "# manually specify column names\n",
    "dataset.columns = ['tourist', 'airplane', 'festival', 'GDP']\n",
    "dataset.index.name = 'date'\n",
    "# mark all NA values with 0\n",
    "\n",
    "# summarize first 5 rows\n",
    "print(dataset.head(5))\n",
    "# save to file\n",
    "dataset.to_csv('airport1.csv')"
   ]
  },
  {
   "cell_type": "code",
   "execution_count": 30,
   "metadata": {},
   "outputs": [
    {
     "name": "stdout",
     "output_type": "stream",
     "text": [
      "(81, 16)\n",
      "(57, 12) 57 (57,)\n",
      "(57, 3, 4) (57,) (24, 3, 4) (24,)\n"
     ]
    }
   ],
   "source": [
    "from math import sqrt\n",
    "from numpy import concatenate\n",
    "from matplotlib import pyplot\n",
    "from pandas import read_csv\n",
    "from pandas import DataFrame\n",
    "from pandas import concat\n",
    "from sklearn.preprocessing import MinMaxScaler\n",
    "from sklearn.preprocessing import LabelEncoder\n",
    "from sklearn.metrics import mean_squared_error,mean_absolute_error\n",
    "from keras.models import Sequential\n",
    "from keras.layers import Dense\n",
    "from keras.layers import LSTM\n",
    "# convert series to supervised learning\n",
    "def series_to_supervised(data, n_in=1, n_out=1, dropnan=True):\n",
    "    n_vars = 1 if type(data) is list else data.shape[1]\n",
    "    df = DataFrame(data)\n",
    "    cols, names = list(), list()\n",
    "    # input sequence (t-n, ... t-1)\n",
    "    for i in range(n_in, 0, -1):\n",
    "        cols.append(df.shift(i))\n",
    "        names += [('var%d(t-%d)' % (j+1, i)) for j in range(n_vars)]\n",
    "    # forecast sequence (t, t+1, ... t+n)\n",
    "    for i in range(0, n_out):\n",
    "        cols.append(df.shift(-i))\n",
    "        if i == 0:\n",
    "            names += [('var%d(t)' % (j+1)) for j in range(n_vars)]\n",
    "        else:\n",
    "            names += [('var%d(t+%d)' % (j+1, i)) for j in range(n_vars)]\n",
    "    # put it all together\n",
    "    agg = concat(cols, axis=1)\n",
    "    agg.columns = names\n",
    "    # drop rows with NaN values\n",
    "    if dropnan:\n",
    "        agg.dropna(inplace=True)\n",
    "    return agg\n",
    " \n",
    "# load dataset\n",
    "dataset = read_csv('airport1.csv', header=0, index_col=0)\n",
    "values = dataset.values\n",
    "\n",
    "\n",
    "# ensure all data is float\n",
    "values = values.astype('float32')\n",
    "# normalize features\n",
    "scaler = MinMaxScaler(feature_range=(0, 1))\n",
    "scaled = scaler.fit_transform(values)\n",
    "# frame as supervised learning\n",
    "\n",
    "n_hours = 3\n",
    "n_features = 4\n",
    "# frame as supervised learning\n",
    "reframed = series_to_supervised(scaled, n_hours, 1)\n",
    "print(reframed.shape)\n",
    " # drop columns we don't want to predict\n",
    "#reframed.drop(reframed.columns[[5,6,7]], axis=1, inplace=True)\n",
    "#print(reframed.head())\n",
    "# split into train and test sets\n",
    "values = reframed.values\n",
    "n_train_hours = 57\n",
    "train = values[:n_train_hours, :]\n",
    "test = values[n_train_hours:, :]\n",
    "\n",
    "n_obs = n_hours * n_features\n",
    "train_X, train_y = train[:, :n_obs], train[:, -n_features]\n",
    "test_X, test_y = test[:, :n_obs], test[:, -n_features]\n",
    "print(train_X.shape, len(train_X), train_y.shape)\n",
    "# reshape input to be 3D [samples, timesteps, features]\n",
    "train_X = train_X.reshape((train_X.shape[0], n_hours, n_features))\n",
    "test_X = test_X.reshape((test_X.shape[0], n_hours, n_features))\n",
    "print(train_X.shape, train_y.shape, test_X.shape, test_y.shape)\n"
   ]
  },
  {
   "cell_type": "code",
   "execution_count": 31,
   "metadata": {},
   "outputs": [
    {
     "data": {
      "image/png": "[encoded data removed]",
      "text/plain": [
       "<Figure size 432x288 with 1 Axes>"
      ]
     },
     "metadata": {
      "needs_background": "light"
     },
     "output_type": "display_data"
    },
    {
     "name": "stdout",
     "output_type": "stream",
     "text": [
      "Test MAE:128561.102 \n",
      "Test RMSE: 157006.753\n"
     ]
    }
   ],
   "source": [
    "\n",
    "model = Sequential()\n",
    "model.add(LSTM(40,activation='tanh', input_shape=(train_X.shape[1], train_X.shape[2])))\n",
    "model.add(Dense(1))\n",
    "adam=optimizers.Adam(lr=0.001,amsgrad=False)\n",
    "model.compile(loss='mae', optimizer=adam)\n",
    "# fit network\n",
    "history = model.fit(train_X, train_y, epochs=70, batch_size=15, validation_data=(test_X, test_y), verbose=0, shuffle=False)\n",
    "# plot history\n",
    "pyplot.plot(history.history['loss'], label='train')\n",
    "pyplot.plot(history.history['val_loss'], label='test')\n",
    "pyplot.legend()\n",
    "pyplot.show()\n",
    " \n",
    "yhat = model.predict(test_X)\n",
    "test_X = test_X.reshape((test_X.shape[0], n_hours*n_features))\n",
    "# invert scaling for forecast\n",
    "inv_yhat = concatenate((yhat, test_X[:,-3:]), axis=1)\n",
    "inv_yhat = scaler.inverse_transform(inv_yhat)\n",
    "inv_yhat = inv_yhat[:,0]\n",
    "# invert scaling for actual\n",
    "test_y = test_y.reshape((len(test_y), 1))\n",
    "inv_y = concatenate((test_y, test_X[:, -3:]), axis=1)\n",
    "inv_y = scaler.inverse_transform(inv_y) \n",
    "inv_y = inv_y[:,0]\n",
    "# calculate RMSE\n",
    "rmse = sqrt(mean_squared_error(inv_y, inv_yhat))\n",
    "mae=mean_absolute_error(inv_y, inv_yhat)\n",
    "\n",
    "print('Test MAE:%.3f '%mae)\n",
    "print('Test RMSE: %.3f' %rmse)"
   ]
  },
  {
   "cell_type": "code",
   "execution_count": null,
   "metadata": {},
   "outputs": [],
   "source": [
    "import numpy as np\n",
    "predAll=dataset.tourist*np.nan\n",
    "predAll[-24:] = inv_yhat\n",
    "pyplot.figure(figsize=(16,9))\n",
    "ax.xaxis.set_major_locator(ticker.MultipleLocator(12))\n",
    "pyplot.plot(predAll, label='train')\n",
    "pyplot.plot(dataset.tourist,label='actual')\n",
    "pyplot.gca().xaxis.set_major_locator(ticker.MultipleLocator(12))\n",
    "pyplot.gca().set_xticklabels([0,2012,2013,2014,2015,2016,2017,2018,2019])\n",
    "pyplot.savefig('one.png')\n",
    "pyplot.show()"
   ]
  },
  {
   "cell_type": "code",
   "execution_count": null,
   "metadata": {
    "scrolled": true
   },
   "outputs": [],
   "source": []
  },
  {
   "cell_type": "code",
   "execution_count": null,
   "metadata": {},
   "outputs": [],
   "source": [
    "\n",
    "predAll=dataset.tourist*np.nan\n",
    "predAll[-24:] = inv_y\n",
    "ax.xaxis.set_major_locator(ticker.MultipleLocator(12))\n",
    "pyplot.plot(predAll, label='train')\n",
    "pyplot.plot(dataset.tourist,label='actual')\n",
    "pyplot.gca().xaxis.set_major_locator(ticker.MultipleLocator(12))\n",
    "pyplot.gca().set_xticklabels([0,2012,2013,2014,2015,2016,2017,2018,2019])\n",
    "pyplot.show()"
   ]
  },
  {
   "cell_type": "code",
   "execution_count": null,
   "metadata": {},
   "outputs": [],
   "source": [
    "\n",
    "pyplot.plot(dataset.tourist)\n",
    "#ticks=ax.set_xticks([0,12,24,36,48,60,72,84])\n",
    "#labels=ax.set_xticklabels([2012,2013,2014,2015,2016,2017,2018])\n",
    "pyplot.gca().xaxis.set_major_locator(ticker.MultipleLocator(12))\n",
    "pyplot.show()\n",
    "pyplot.close()"
   ]
  },
  {
   "cell_type": "code",
   "execution_count": null,
   "metadata": {},
   "outputs": [],
   "source": []
  },
  {
   "cell_type": "code",
   "execution_count": null,
   "metadata": {},
   "outputs": [],
   "source": []
  }
 ],
 "metadata": {
  "kernelspec": {
   "display_name": "Python 3",
   "language": "python",
   "name": "python3"
  },
  "language_info": {
   "codemirror_mode": {
    "name": "ipython",
    "version": 3
   },
   "file_extension": ".py",
   "mimetype": "text/x-python",
   "name": "python",
   "nbconvert_exporter": "python",
   "pygments_lexer": "ipython3",
   "version": "3.7.4"
  }
 },
 "nbformat": 4,
 "nbformat_minor": 2
}
