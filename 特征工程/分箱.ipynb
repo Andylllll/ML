{
 "cells": [
  {
   "cell_type": "code",
   "execution_count": 1,
   "metadata": {},
   "outputs": [],
   "source": [
    "#n_bins：分箱的数量，默认值是5，也可以是列表，指定各个特征的分箱数量，例如，[feature1_bins,feature2_bins,...]\n",
    "#encode：编码方式，{‘onehot’, ‘onehot-dense’, ‘ordinal’}, (default=’onehot’)\n",
    "# onehot：以onehot方式编码，返回稀疏矩阵\n",
    "#onehot-dense：以onehot方式编码，返回密集矩阵\n",
    "#ordinal：以ordinal方式编码，返回分箱的序号（返回编码为整数值的bin标识符）\n",
    "\n",
    "#strategy：定义分箱宽度的策略，{‘uniform’, ‘quantile’, ‘kmeans’}, (default=’quantile’)\n",
    "#uniform：等距\n",
    "#quantile：每个分箱中拥有相同数量的数据点（等频）\n",
    "#kmeans：每个箱中的值具有与1D k均值簇最近的中心\n"
   ]
  },
  {
   "cell_type": "code",
   "execution_count": 10,
   "metadata": {},
   "outputs": [],
   "source": [
    "from sklearn.preprocessing import KBinsDiscretizer\n",
    "import numpy as np\n",
    "def discretizer(X,params):\n",
    "    discretizer = KBinsDiscretizer(**params)\n",
    "    result = discretizer.fit_transform(X)\n",
    "    return result"
   ]
  },
  {
   "cell_type": "code",
   "execution_count": 15,
   "metadata": {},
   "outputs": [
    {
     "data": {
      "text/plain": [
       "array([[0., 0., 1.],\n",
       "       [1., 1., 1.],\n",
       "       [2., 1., 0.]])"
      ]
     },
     "execution_count": 15,
     "metadata": {},
     "output_type": "execute_result"
    }
   ],
   "source": [
    "X = np.array([[ -3., 2., 15 ],\n",
    "              [  0., 6., 14 ],\n",
    "              [  6., 3., 11 ]])\n",
    "params={\n",
    "    \"n_bins\":[3,2,2],\n",
    "    \"encode\":'ordinal',\n",
    "    \"strategy\":\"quantile\"\n",
    "}\n",
    "#uniform 等距\n",
    "#kmeans\n",
    "discretizer(X,params)"
   ]
  },
  {
   "cell_type": "code",
   "execution_count": null,
   "metadata": {},
   "outputs": [],
   "source": []
  }
 ],
 "metadata": {
  "kernelspec": {
   "display_name": "Python 3",
   "language": "python",
   "name": "python3"
  },
  "language_info": {
   "codemirror_mode": {
    "name": "ipython",
    "version": 3
   },
   "file_extension": ".py",
   "mimetype": "text/x-python",
   "name": "python",
   "nbconvert_exporter": "python",
   "pygments_lexer": "ipython3",
   "version": "3.7.4"
  }
 },
 "nbformat": 4,
 "nbformat_minor": 2
}
