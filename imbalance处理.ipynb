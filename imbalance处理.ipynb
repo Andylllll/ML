{
 "cells": [
  {
   "cell_type": "code",
   "execution_count": 1,
   "metadata": {},
   "outputs": [
    {
     "data": {
      "text/html": [
       "<div>\n",
       "<style scoped>\n",
       "    .dataframe tbody tr th:only-of-type {\n",
       "        vertical-align: middle;\n",
       "    }\n",
       "\n",
       "    .dataframe tbody tr th {\n",
       "        vertical-align: top;\n",
       "    }\n",
       "\n",
       "    .dataframe thead th {\n",
       "        text-align: right;\n",
       "    }\n",
       "</style>\n",
       "<table border=\"1\" class=\"dataframe\">\n",
       "  <thead>\n",
       "    <tr style=\"text-align: right;\">\n",
       "      <th></th>\n",
       "      <th>ID</th>\n",
       "      <th>Bone</th>\n",
       "      <th>Age</th>\n",
       "      <th>Race</th>\n",
       "      <th>Grade</th>\n",
       "      <th>T</th>\n",
       "      <th>N</th>\n",
       "      <th>Brain</th>\n",
       "      <th>Liver</th>\n",
       "      <th>Lung</th>\n",
       "      <th>Insurance</th>\n",
       "      <th>Marital</th>\n",
       "    </tr>\n",
       "  </thead>\n",
       "  <tbody>\n",
       "    <tr>\n",
       "      <td>0</td>\n",
       "      <td>712</td>\n",
       "      <td>No</td>\n",
       "      <td>60</td>\n",
       "      <td>Black</td>\n",
       "      <td>II</td>\n",
       "      <td>1</td>\n",
       "      <td>N0</td>\n",
       "      <td>No</td>\n",
       "      <td>No</td>\n",
       "      <td>No</td>\n",
       "      <td>Yes</td>\n",
       "      <td>Yes</td>\n",
       "    </tr>\n",
       "    <tr>\n",
       "      <td>1</td>\n",
       "      <td>1013</td>\n",
       "      <td>No</td>\n",
       "      <td>80</td>\n",
       "      <td>White</td>\n",
       "      <td>III</td>\n",
       "      <td>1</td>\n",
       "      <td>N0</td>\n",
       "      <td>No</td>\n",
       "      <td>No</td>\n",
       "      <td>No</td>\n",
       "      <td>Yes</td>\n",
       "      <td>Yes</td>\n",
       "    </tr>\n",
       "    <tr>\n",
       "      <td>2</td>\n",
       "      <td>2726</td>\n",
       "      <td>No</td>\n",
       "      <td>66</td>\n",
       "      <td>White</td>\n",
       "      <td>II</td>\n",
       "      <td>1</td>\n",
       "      <td>N0</td>\n",
       "      <td>No</td>\n",
       "      <td>No</td>\n",
       "      <td>No</td>\n",
       "      <td>Yes</td>\n",
       "      <td>Yes</td>\n",
       "    </tr>\n",
       "    <tr>\n",
       "      <td>3</td>\n",
       "      <td>2790</td>\n",
       "      <td>No</td>\n",
       "      <td>60</td>\n",
       "      <td>White</td>\n",
       "      <td>II</td>\n",
       "      <td>1</td>\n",
       "      <td>N0</td>\n",
       "      <td>No</td>\n",
       "      <td>No</td>\n",
       "      <td>No</td>\n",
       "      <td>Yes</td>\n",
       "      <td>Yes</td>\n",
       "    </tr>\n",
       "    <tr>\n",
       "      <td>4</td>\n",
       "      <td>2904</td>\n",
       "      <td>No</td>\n",
       "      <td>58</td>\n",
       "      <td>White</td>\n",
       "      <td>III</td>\n",
       "      <td>2</td>\n",
       "      <td>N0</td>\n",
       "      <td>No</td>\n",
       "      <td>No</td>\n",
       "      <td>No</td>\n",
       "      <td>Yes</td>\n",
       "      <td>No</td>\n",
       "    </tr>\n",
       "  </tbody>\n",
       "</table>\n",
       "</div>"
      ],
      "text/plain": [
       "     ID Bone  Age   Race Grade  T   N Brain Liver Lung Insurance Marital\n",
       "0   712   No   60  Black    II  1  N0    No    No   No       Yes     Yes\n",
       "1  1013   No   80  White   III  1  N0    No    No   No       Yes     Yes\n",
       "2  2726   No   66  White    II  1  N0    No    No   No       Yes     Yes\n",
       "3  2790   No   60  White    II  1  N0    No    No   No       Yes     Yes\n",
       "4  2904   No   58  White   III  2  N0    No    No   No       Yes      No"
      ]
     },
     "execution_count": 1,
     "metadata": {},
     "output_type": "execute_result"
    }
   ],
   "source": [
    "import lightgbm as lig\n",
    "import pandas as pd\n",
    "import numpy as np\n",
    "import warnings\n",
    "warnings.filterwarnings(\"ignore\")\n",
    "dataset=pd.read_csv(\"data/transfusion_index.csv\")\n",
    "dataset.head()"
   ]
  },
  {
   "cell_type": "code",
   "execution_count": 2,
   "metadata": {},
   "outputs": [
    {
     "name": "stdout",
     "output_type": "stream",
     "text": [
      "<class 'pandas.core.frame.DataFrame'>\n",
      "RangeIndex: 203486 entries, 0 to 203485\n",
      "Data columns (total 12 columns):\n",
      "ID           203486 non-null int64\n",
      "Bone         203486 non-null object\n",
      "Age          203486 non-null int64\n",
      "Race         203486 non-null object\n",
      "Grade        203486 non-null object\n",
      "T            203486 non-null int64\n",
      "N            203486 non-null object\n",
      "Brain        203486 non-null object\n",
      "Liver        203486 non-null object\n",
      "Lung         203486 non-null object\n",
      "Insurance    203486 non-null object\n",
      "Marital      203486 non-null object\n",
      "dtypes: int64(3), object(9)\n",
      "memory usage: 18.6+ MB\n"
     ]
    }
   ],
   "source": [
    "dataset.info()"
   ]
  },
  {
   "cell_type": "code",
   "execution_count": 77,
   "metadata": {},
   "outputs": [
    {
     "data": {
      "text/plain": [
       "Marital      0\n",
       "Insurance    0\n",
       "Lung         0\n",
       "Liver        0\n",
       "Brain        0\n",
       "N            0\n",
       "T            0\n",
       "Grade        0\n",
       "Race         0\n",
       "Age          0\n",
       "Bone         0\n",
       "ID           0\n",
       "dtype: int64"
      ]
     },
     "execution_count": 77,
     "metadata": {},
     "output_type": "execute_result"
    }
   ],
   "source": [
    "dataset.isnull().sum().sort_values(ascending=False)"
   ]
  },
  {
   "cell_type": "code",
   "execution_count": 4,
   "metadata": {},
   "outputs": [],
   "source": [
    "dataset[\"Bone\"]=dataset[\"Bone\"].map({\"Yes\":1,\"No\":0})\n",
    "\n",
    "dataset[\"Brain\"]=dataset[\"Brain\"].map({\"Yes\":1,\"No\":0})\n",
    "dataset[\"Liver\"]=dataset[\"Liver\"].map({\"Yes\":1,\"No\":0})\n",
    "dataset[\"Lung\"]=dataset[\"Lung\"].map({\"Yes\":1,\"No\":0})\n",
    "dataset[\"Insurance\"]=dataset[\"Insurance\"].map({\"Yes\":1,\"No\":0})\n",
    "dataset[\"Marital\"]=dataset[\"Marital\"].map({\"Yes\":1,\"No\":0})\n",
    "dataset[\"Race\"]=dataset[\"Race\"].map({\"Black\":0,\"White\":1,\"Other (American Indian/AK Native, Asian/Pacific Islander)\":3})\n",
    "dataset[\"Grade\"]=dataset[\"Grade\"].map({\"I\":1,\"II\":2,\"III\":3,\"IV\":4})\n",
    "dataset[\"N\"]=dataset[\"N\"].map({\"N0\":0,\"N1\":1})\n"
   ]
  },
  {
   "cell_type": "code",
   "execution_count": 5,
   "metadata": {},
   "outputs": [
    {
     "name": "stdout",
     "output_type": "stream",
     "text": [
      "<class 'pandas.core.frame.DataFrame'>\n",
      "RangeIndex: 203486 entries, 0 to 203485\n",
      "Data columns (total 12 columns):\n",
      "ID           203486 non-null int64\n",
      "Bone         203486 non-null int64\n",
      "Age          203486 non-null int64\n",
      "Race         203486 non-null int64\n",
      "Grade        203486 non-null int64\n",
      "T            203486 non-null int64\n",
      "N            203486 non-null int64\n",
      "Brain        203486 non-null int64\n",
      "Liver        203486 non-null int64\n",
      "Lung         203486 non-null int64\n",
      "Insurance    203486 non-null int64\n",
      "Marital      203486 non-null int64\n",
      "dtypes: int64(12)\n",
      "memory usage: 18.6 MB\n"
     ]
    }
   ],
   "source": [
    "dataset.info()\n"
   ]
  },
  {
   "cell_type": "code",
   "execution_count": 78,
   "metadata": {},
   "outputs": [
    {
     "data": {
      "text/html": [
       "<div>\n",
       "<style scoped>\n",
       "    .dataframe tbody tr th:only-of-type {\n",
       "        vertical-align: middle;\n",
       "    }\n",
       "\n",
       "    .dataframe tbody tr th {\n",
       "        vertical-align: top;\n",
       "    }\n",
       "\n",
       "    .dataframe thead th {\n",
       "        text-align: right;\n",
       "    }\n",
       "</style>\n",
       "<table border=\"1\" class=\"dataframe\">\n",
       "  <thead>\n",
       "    <tr style=\"text-align: right;\">\n",
       "      <th></th>\n",
       "      <th>Age</th>\n",
       "      <th>Race</th>\n",
       "      <th>Grade</th>\n",
       "      <th>T</th>\n",
       "      <th>N</th>\n",
       "      <th>Brain</th>\n",
       "      <th>Liver</th>\n",
       "      <th>Lung</th>\n",
       "      <th>Insurance</th>\n",
       "      <th>Marital</th>\n",
       "    </tr>\n",
       "  </thead>\n",
       "  <tbody>\n",
       "    <tr>\n",
       "      <td>0</td>\n",
       "      <td>60</td>\n",
       "      <td>0</td>\n",
       "      <td>2</td>\n",
       "      <td>1</td>\n",
       "      <td>0</td>\n",
       "      <td>0</td>\n",
       "      <td>0</td>\n",
       "      <td>0</td>\n",
       "      <td>1</td>\n",
       "      <td>1</td>\n",
       "    </tr>\n",
       "    <tr>\n",
       "      <td>1</td>\n",
       "      <td>80</td>\n",
       "      <td>1</td>\n",
       "      <td>3</td>\n",
       "      <td>1</td>\n",
       "      <td>0</td>\n",
       "      <td>0</td>\n",
       "      <td>0</td>\n",
       "      <td>0</td>\n",
       "      <td>1</td>\n",
       "      <td>1</td>\n",
       "    </tr>\n",
       "    <tr>\n",
       "      <td>2</td>\n",
       "      <td>66</td>\n",
       "      <td>1</td>\n",
       "      <td>2</td>\n",
       "      <td>1</td>\n",
       "      <td>0</td>\n",
       "      <td>0</td>\n",
       "      <td>0</td>\n",
       "      <td>0</td>\n",
       "      <td>1</td>\n",
       "      <td>1</td>\n",
       "    </tr>\n",
       "    <tr>\n",
       "      <td>3</td>\n",
       "      <td>60</td>\n",
       "      <td>1</td>\n",
       "      <td>2</td>\n",
       "      <td>1</td>\n",
       "      <td>0</td>\n",
       "      <td>0</td>\n",
       "      <td>0</td>\n",
       "      <td>0</td>\n",
       "      <td>1</td>\n",
       "      <td>1</td>\n",
       "    </tr>\n",
       "    <tr>\n",
       "      <td>4</td>\n",
       "      <td>58</td>\n",
       "      <td>1</td>\n",
       "      <td>3</td>\n",
       "      <td>2</td>\n",
       "      <td>0</td>\n",
       "      <td>0</td>\n",
       "      <td>0</td>\n",
       "      <td>0</td>\n",
       "      <td>1</td>\n",
       "      <td>0</td>\n",
       "    </tr>\n",
       "    <tr>\n",
       "      <td>...</td>\n",
       "      <td>...</td>\n",
       "      <td>...</td>\n",
       "      <td>...</td>\n",
       "      <td>...</td>\n",
       "      <td>...</td>\n",
       "      <td>...</td>\n",
       "      <td>...</td>\n",
       "      <td>...</td>\n",
       "      <td>...</td>\n",
       "      <td>...</td>\n",
       "    </tr>\n",
       "    <tr>\n",
       "      <td>203481</td>\n",
       "      <td>80</td>\n",
       "      <td>1</td>\n",
       "      <td>2</td>\n",
       "      <td>1</td>\n",
       "      <td>0</td>\n",
       "      <td>0</td>\n",
       "      <td>0</td>\n",
       "      <td>0</td>\n",
       "      <td>1</td>\n",
       "      <td>1</td>\n",
       "    </tr>\n",
       "    <tr>\n",
       "      <td>203482</td>\n",
       "      <td>72</td>\n",
       "      <td>1</td>\n",
       "      <td>3</td>\n",
       "      <td>1</td>\n",
       "      <td>0</td>\n",
       "      <td>0</td>\n",
       "      <td>0</td>\n",
       "      <td>0</td>\n",
       "      <td>1</td>\n",
       "      <td>1</td>\n",
       "    </tr>\n",
       "    <tr>\n",
       "      <td>203483</td>\n",
       "      <td>68</td>\n",
       "      <td>1</td>\n",
       "      <td>2</td>\n",
       "      <td>2</td>\n",
       "      <td>0</td>\n",
       "      <td>0</td>\n",
       "      <td>0</td>\n",
       "      <td>0</td>\n",
       "      <td>1</td>\n",
       "      <td>1</td>\n",
       "    </tr>\n",
       "    <tr>\n",
       "      <td>203484</td>\n",
       "      <td>71</td>\n",
       "      <td>1</td>\n",
       "      <td>3</td>\n",
       "      <td>2</td>\n",
       "      <td>0</td>\n",
       "      <td>0</td>\n",
       "      <td>0</td>\n",
       "      <td>0</td>\n",
       "      <td>1</td>\n",
       "      <td>1</td>\n",
       "    </tr>\n",
       "    <tr>\n",
       "      <td>203485</td>\n",
       "      <td>68</td>\n",
       "      <td>0</td>\n",
       "      <td>2</td>\n",
       "      <td>1</td>\n",
       "      <td>0</td>\n",
       "      <td>0</td>\n",
       "      <td>0</td>\n",
       "      <td>0</td>\n",
       "      <td>1</td>\n",
       "      <td>1</td>\n",
       "    </tr>\n",
       "  </tbody>\n",
       "</table>\n",
       "<p>203486 rows × 10 columns</p>\n",
       "</div>"
      ],
      "text/plain": [
       "        Age  Race  Grade  T  N  Brain  Liver  Lung  Insurance  Marital\n",
       "0        60     0      2  1  0      0      0     0          1        1\n",
       "1        80     1      3  1  0      0      0     0          1        1\n",
       "2        66     1      2  1  0      0      0     0          1        1\n",
       "3        60     1      2  1  0      0      0     0          1        1\n",
       "4        58     1      3  2  0      0      0     0          1        0\n",
       "...     ...   ...    ... .. ..    ...    ...   ...        ...      ...\n",
       "203481   80     1      2  1  0      0      0     0          1        1\n",
       "203482   72     1      3  1  0      0      0     0          1        1\n",
       "203483   68     1      2  2  0      0      0     0          1        1\n",
       "203484   71     1      3  2  0      0      0     0          1        1\n",
       "203485   68     0      2  1  0      0      0     0          1        1\n",
       "\n",
       "[203486 rows x 10 columns]"
      ]
     },
     "execution_count": 78,
     "metadata": {},
     "output_type": "execute_result"
    }
   ],
   "source": [
    "dataset\n",
    "y=dataset[\"Bone\"]\n",
    "X=dataset.drop(columns=[\"Bone\",\"ID\"])\n",
    "X"
   ]
  },
  {
   "cell_type": "code",
   "execution_count": 99,
   "metadata": {},
   "outputs": [
    {
     "name": "stdout",
     "output_type": "stream",
     "text": [
      "f1_score: 0.8438300779439308\n",
      "auc: 0.7675740124003773\n"
     ]
    }
   ],
   "source": [
    "#lightgbm unbalance\n",
    "import lightgbm as lgb\n",
    "import matplotlib.pyplot as plt\n",
    "from sklearn.model_selection import train_test_split\n",
    "X_train,X_test,y_train,y_test=train_test_split(X,y,test_size=0.3)\n",
    "model=lgb.LGBMClassifier(is_unbalance=True)\n",
    "res1=model.fit(X_train,y_train)\n",
    "y_pre=model.predict(X_test)\n",
    "fpr,tpr,threshold=roc_curve(y_test,y_pre)\n",
    "roc_auc=auc(fpr,tpr)\n",
    "print(\"f1_score:\",f1_score(y_test,y_pre, average=\"weighted\"))  \n",
    "print(\"auc:\",roc_auc)  \n",
    "def aucc(y,y_pre):\n",
    "    fpr,tpr,threshold=roc_curve(y,y_pre)\n",
    "    roc_auc=auc(fpr,tpr)\n",
    "    plt.figure()\n",
    "    plt.figure(figsize=(10,10))\n",
    "    plt.plot(fpr, tpr, color='darkorange',lw=2, label='ROC curve (area = %0.3f)' % roc_auc) ###假正率为横坐标，真正率为纵坐标做曲线\n",
    "    plt.plot([0, 1], [0, 1], color='navy', lw=2, linestyle='--')\n",
    "    plt.xlim([0.0, 1.0])\n",
    "    plt.ylim([0.0, 1.05])\n",
    "    plt.xlabel('False Positive Rate')\n",
    "    plt.ylabel('True Positive Rate')\n",
    "    plt.title('AUC')\n",
    "    plt.legend(loc=\"lower right\")\n",
    "    "
   ]
  },
  {
   "cell_type": "code",
   "execution_count": 83,
   "metadata": {},
   "outputs": [
    {
     "data": {
      "text/plain": [
       "<Figure size 432x288 with 0 Axes>"
      ]
     },
     "metadata": {},
     "output_type": "display_data"
    },
    {
     "data": {
      "image/png": "[encoded data removed]",
      "text/plain": [
       "<Figure size 720x720 with 1 Axes>"
      ]
     },
     "metadata": {
      "needs_background": "light"
     },
     "output_type": "display_data"
    }
   ],
   "source": [
    "aucc(y_test,y_pre)"
   ]
  },
  {
   "cell_type": "code",
   "execution_count": 85,
   "metadata": {},
   "outputs": [
    {
     "name": "stdout",
     "output_type": "stream",
     "text": [
      "197700\n",
      "5786\n"
     ]
    }
   ],
   "source": [
    "print(dataset[\"Bone\"][dataset[\"Bone\"]==0].count())\n",
    "print(dataset[\"Bone\"][dataset[\"Bone\"]==1].count())"
   ]
  },
  {
   "cell_type": "code",
   "execution_count": 86,
   "metadata": {},
   "outputs": [
    {
     "name": "stdout",
     "output_type": "stream",
     "text": [
      "Age          True\n",
      "Race         True\n",
      "Grade        True\n",
      "T            True\n",
      "N            True\n",
      "Brain        True\n",
      "Liver        True\n",
      "Lung         True\n",
      "Insurance    True\n",
      "Marital      True\n",
      "dtype: bool\n",
      "Age          False\n",
      "Race         False\n",
      "Grade        False\n",
      "T            False\n",
      "N            False\n",
      "Brain        False\n",
      "Liver        False\n",
      "Lung         False\n",
      "Insurance    False\n",
      "Marital      False\n",
      "dtype: bool\n",
      "Age          False\n",
      "Race         False\n",
      "Grade        False\n",
      "T            False\n",
      "N            False\n",
      "Brain        False\n",
      "Liver        False\n",
      "Lung         False\n",
      "Insurance    False\n",
      "Marital      False\n",
      "dtype: bool\n",
      "Age          False\n",
      "Race         False\n",
      "Grade        False\n",
      "T            False\n",
      "N            False\n",
      "Brain        False\n",
      "Liver        False\n",
      "Lung         False\n",
      "Insurance    False\n",
      "Marital      False\n",
      "dtype: bool\n"
     ]
    }
   ],
   "source": [
    "print(np.isfinite(X).all())\n",
    "print(np.isinf(X).all())\n",
    "#True：有缺失值\n",
    "print(X.isnull().any())\n",
    "print(np.isnan(X).any())\n"
   ]
  },
  {
   "cell_type": "code",
   "execution_count": 100,
   "metadata": {},
   "outputs": [
    {
     "data": {
      "text/plain": [
       "(276818, 10)"
      ]
     },
     "execution_count": 100,
     "metadata": {},
     "output_type": "execute_result"
    }
   ],
   "source": [
    "#过采样\n",
    "from imblearn.over_sampling import SMOTE\n",
    "smo= SMOTE(random_state=0)\n",
    "X_smo, y_smo = smo.fit_resample(X_train, y_train)\n",
    "X_smo.shape\n"
   ]
  },
  {
   "cell_type": "code",
   "execution_count": 101,
   "metadata": {},
   "outputs": [
    {
     "data": {
      "text/plain": [
       "(8062, 10)"
      ]
     },
     "execution_count": 101,
     "metadata": {},
     "output_type": "execute_result"
    }
   ],
   "source": [
    "#欠采样\n",
    "from imblearn.under_sampling import RandomUnderSampler\n",
    "rus= RandomUnderSampler(random_state=0)\n",
    "X_rus, y_rus = rus.fit_resample(X_train, y_train)\n",
    "X_rus.shape"
   ]
  },
  {
   "cell_type": "code",
   "execution_count": 114,
   "metadata": {},
   "outputs": [],
   "source": [
    "import xgboost as xgb\n",
    "from sklearn import model_selection\n",
    "from mlxtend.classifier import StackingClassifier\n",
    "from sklearn.linear_model import LogisticRegression\n",
    "xgb_model=xgb.XGBClassifier()\n",
    "lgb_model=lgb.LGBMClassifier()\n",
    "lr = LogisticRegression()\n",
    "train_set=[]\n",
    "test_set=[]\n",
    "get_stacking=StackingClassifier(classifiers=[xgb_model,lgb_model],meta_classifier=lr)\n",
    "for mol,label in zip([xgb_model, lgb_model, get_stacking], \n",
    "                       ['xgboost', \n",
    "                       'lightgbm', \n",
    "                        'StackingClassifier']):\n",
    "    scores = model_selection.cross_val_score(mol,X_rus, y_rus,cv=5, scoring='accuracy')\n",
    "get_stacking.fit(X_rus, y_rus)\n",
    "\n",
    "y_prerus = get_stacking.predict(X_test)"
   ]
  },
  {
   "cell_type": "code",
   "execution_count": 115,
   "metadata": {},
   "outputs": [
    {
     "name": "stdout",
     "output_type": "stream",
     "text": [
      "f1_score: 0.826297913920471\n",
      "auc: 0.7625926949416182\n"
     ]
    }
   ],
   "source": [
    "fpr,tpr,threshold=roc_curve(y_test,y_prerus)\n",
    "roc_auc=auc(fpr,tpr)\n",
    "print(\"f1_score:\",f1_score(y_test,y_prerus, average=\"weighted\"))  \n",
    "print(\"auc:\",roc_auc)  "
   ]
  },
  {
   "cell_type": "code",
   "execution_count": 111,
   "metadata": {},
   "outputs": [
    {
     "data": {
      "text/plain": [
       "<Figure size 432x288 with 0 Axes>"
      ]
     },
     "metadata": {},
     "output_type": "display_data"
    },
    {
     "data": {
      "image/png": "[encoded data removed]",
      "text/plain": [
       "<Figure size 720x720 with 1 Axes>"
      ]
     },
     "metadata": {
      "needs_background": "light"
     },
     "output_type": "display_data"
    }
   ],
   "source": [
    "aucc(y_test,y_prerus)"
   ]
  },
  {
   "cell_type": "code",
   "execution_count": 117,
   "metadata": {},
   "outputs": [],
   "source": [
    "#过采样\n",
    "\n",
    "from imblearn.over_sampling import SMOTE\n",
    "import xgboost as xgb\n",
    "from sklearn import model_selection\n",
    "from mlxtend.classifier import StackingClassifier\n",
    "from sklearn.linear_model import LogisticRegression\n",
    "smo= SMOTE(random_state=0)\n",
    "X_smo, y_smo = smo.fit_resample(X_train, y_train)\n",
    "X_smo.shape\n",
    "xgb_model=xgb.XGBClassifier()\n",
    "lgb_model=lgb.LGBMClassifier()\n",
    "lr = LogisticRegression()\n",
    "train_set=[]\n",
    "test_set=[]\n",
    "get_stacking=StackingClassifier(classifiers=[xgb_model,lgb_model],meta_classifier=lr)\n",
    "get_stacking.fit(X_smo, y_smo)\n",
    "y_presmo = get_stacking.predict(X_test)\n"
   ]
  },
  {
   "cell_type": "code",
   "execution_count": 119,
   "metadata": {},
   "outputs": [
    {
     "name": "stdout",
     "output_type": "stream",
     "text": [
      "f1_score: 0.8364280207167566\n",
      "auc: 0.7662293288003768\n"
     ]
    },
    {
     "data": {
      "text/plain": [
       "<Figure size 432x288 with 0 Axes>"
      ]
     },
     "metadata": {},
     "output_type": "display_data"
    },
    {
     "data": {
      "image/png": "[encoded data removed]",
      "text/plain": [
       "<Figure size 720x720 with 1 Axes>"
      ]
     },
     "metadata": {
      "needs_background": "light"
     },
     "output_type": "display_data"
    }
   ],
   "source": [
    "aucc(y_test,y_presmo)\n",
    "fpr,tpr,threshold=roc_curve(y_test,y_presmo)\n",
    "roc_auc=auc(fpr,tpr)\n",
    "print(\"f1_score:\",f1_score(y_test,y_presmo, average=\"weighted\"))  \n",
    "print(\"auc:\",roc_auc)  "
   ]
  },
  {
   "cell_type": "code",
   "execution_count": 120,
   "metadata": {},
   "outputs": [],
   "source": [
    "#lightgbm(focal loss)\n",
    "import numpy as np\n",
    "from sklearn.metrics import f1_score\n",
    "import numpy as np\n",
    "\n",
    "def custom_f1_eval(y_true, y_pred):\n",
    "    eli=1e-9\n",
    "    num_TP = 0\n",
    "    threshold = 0.5\n",
    "    num_pred=0\n",
    "    for i in range(len(y_true)):\n",
    "        if y_pred[i] >= 0.5:\n",
    "            num_pred += 1\n",
    "            if y_true[i] == 1:\n",
    "                num_TP += 1\n",
    "                \n",
    "    precision = num_TP /(num_pred+eli)\n",
    "    recall = num_TP / (len(y_true[y_true == 1])+eli)\n",
    "    f1 = 2 * precision * recall / (precision + recall+eli)\n",
    "    return \"f1\",np.mean(f1), True\n",
    "\n",
    "def robust_pow(num_base,num_pow):\n",
    "    return np.sign(num_base) * (np.abs(num_base)) ** (num_pow)\n",
    "    \n",
    "def focal_binary_object(y_true, pred):\n",
    "        gamma_indct =1\n",
    "        label = y_true\n",
    "        sigmoid_pred = 1.0 / (1.0 + np.exp(-pred))\n",
    "        g1 = sigmoid_pred * (1 - sigmoid_pred)\n",
    "        g2 = label + ((-1) ** label) * sigmoid_pred\n",
    "        g3 = sigmoid_pred + label - 1\n",
    "        g4 = 1 - label - ((-1) ** label) * sigmoid_pred\n",
    "        g5 = label + ((-1) ** label) * sigmoid_pred\n",
    "        grad = gamma_indct * g3 * robust_pow(g2, gamma_indct) * np.log(g4 + 1e-9) + \\\n",
    "               ((-1) ** label) * robust_pow(g5, (gamma_indct + 1))\n",
    "        hess_1 = robust_pow(g2, gamma_indct) + gamma_indct * ((-1) ** label) * g3 *robust_pow(g2, (gamma_indct - 1))\n",
    "        hess_2 = ((-1) ** label) * g3 * robust_pow(g2, gamma_indct) / g4\n",
    "        hess = ((hess_1 * np.log(g4 + 1e-9) - hess_2) * gamma_indct+(gamma_indct + 1) * robust_pow(g5, gamma_indct)) * g1\n",
    "\n",
    "        return grad, hess"
   ]
  },
  {
   "cell_type": "code",
   "execution_count": 124,
   "metadata": {},
   "outputs": [
    {
     "data": {
      "text/plain": [
       "LGBMClassifier(boosting_type='gbdt', class_weight=None, colsample_bytree=1.0,\n",
       "               importance_type='split', learning_rate=0.1, max_depth=-1,\n",
       "               min_child_samples=20, min_child_weight=0.001, min_split_gain=0.0,\n",
       "               n_estimators=1000, n_jobs=-1, num_leaves=31,\n",
       "               objective=<function focal_binary_object at 0x000001CA471EC5E8>,\n",
       "               random_state=33, reg_alpha=0.0, reg_lambda=0.0, silent=True,\n",
       "               subsample=1.0, subsample_for_bin=200000, subsample_freq=0)"
      ]
     },
     "execution_count": 124,
     "metadata": {},
     "output_type": "execute_result"
    }
   ],
   "source": [
    "model3 = lgb.LGBMClassifier(random_state=33,\n",
    "                         n_estimators=1000)\n",
    "model3.set_params(**{\"objective\": focal_binary_object})\n",
    "model3.fit(X_train, y_train, eval_set=[(X_test, y_test)],eval_metric=\"auc\", verbose=False)"
   ]
  },
  {
   "cell_type": "code",
   "execution_count": 125,
   "metadata": {},
   "outputs": [
    {
     "name": "stdout",
     "output_type": "stream",
     "text": [
      "f1_score: 0.9625883588882783\n",
      "auc: 0.5451960420078248\n"
     ]
    }
   ],
   "source": [
    "y_f=model3.predict(X_test)\n",
    "fpr,tpr,threshold=roc_curve(y_test,y_f)\n",
    "roc_auc=auc(fpr,tpr)\n",
    "print(\"f1_score:\",f1_score(y_test,y_f, average=\"weighted\"))  \n",
    "print(\"auc:\",roc_auc)  "
   ]
  },
  {
   "cell_type": "code",
   "execution_count": 139,
   "metadata": {},
   "outputs": [],
   "source": [
    "#lightgbm(dice_loss)\n",
    "def sigmoid(inx):\n",
    "    if inx>=0:    \n",
    "        return 1.0/(1+exp(-inx))\n",
    "    else:\n",
    "        return exp(inx)/(1+exp(inx))\n",
    "    \n",
    "def dice_loss(y_true, y_pred):\n",
    "    smooth=1\n",
    "    p = 1.0 / (1.0 + np.exp(-y_pred))\n",
    "    r=y_true\n",
    "    p1 =p * (1 - p)\n",
    "    g1=(p+r+smooth)\n",
    "    g2= 1.0 + np.exp(-y_pred)**3\n",
    "    g3= np.exp(-2 * y_pred) + 3 * np.exp(-y_pred)\n",
    "    p2=g3/g2\n",
    "    grad=(2*r*r*p1+smooth)/(g2**2)\n",
    "    hess=(2*r*r*p*p2+2*r**3*p2-4*r*r*p1*p1)/(g1**3)\n",
    "   \n",
    "    return grad,hess"
   ]
  },
  {
   "cell_type": "code",
   "execution_count": 209,
   "metadata": {},
   "outputs": [
    {
     "data": {
      "text/plain": [
       "LGBMClassifier(boosting_type='gbdt', class_weight=None, colsample_bytree=1.0,\n",
       "               importance_type='split', learning_rate=0.1, max_depth=-1,\n",
       "               min_child_samples=20, min_child_weight=0.001, min_split_gain=0.0,\n",
       "               n_estimators=1000, n_jobs=-1, num_leaves=31,\n",
       "               objective=<function dice_loss at 0x000001CA308CC4C8>,\n",
       "               random_state=33, reg_alpha=0.0, reg_lambda=0.0, silent=True,\n",
       "               subsample=1.0, subsample_for_bin=200000, subsample_freq=0)"
      ]
     },
     "execution_count": 209,
     "metadata": {},
     "output_type": "execute_result"
    }
   ],
   "source": [
    "model4 = lgb.LGBMClassifier(random_state=33,\n",
    "                         n_estimators=1000)\n",
    "model4.set_params(**{\"objective\": dice_loss})\n",
    "model4.fit(X_train, y_train, eval_set=[(X_test, y_test)],eval_metric='auc', verbose=False)"
   ]
  },
  {
   "cell_type": "code",
   "execution_count": 210,
   "metadata": {},
   "outputs": [
    {
     "name": "stdout",
     "output_type": "stream",
     "text": [
      "f1_score: 0.9573297353082777\n",
      "auc: 0.5\n"
     ]
    }
   ],
   "source": [
    "y_d=model4.predict(X_test)\n",
    "fpr,tpr,threshold=roc_curve(y_test,y_d)\n",
    "roc_auc=auc(fpr,tpr)\n",
    "print(\"f1_score:\",f1_score(y_test,y_d, average=\"weighted\"))  \n",
    "print(\"auc:\",roc_auc)  "
   ]
  },
  {
   "cell_type": "code",
   "execution_count": 184,
   "metadata": {},
   "outputs": [],
   "source": [
    "\n",
    "#keras focal loss\n",
    "from sklearn.model_selection import train_test_split\n",
    "from sklearn.preprocessing import MinMaxScaler\n",
    "from keras import backend as K\n",
    "import tensorflow as tf\n",
    "def focal_loss(gamma, alpha):\n",
    "   \n",
    "    gamma = float(gamma)\n",
    "    alpha = float(alpha)\n",
    " \n",
    "    def focal_loss_fixed(y_pred, y_true):\n",
    "        epsilon = 1.e-9\n",
    "        y_true = tf.convert_to_tensor(y_true, tf.float32)\n",
    "        y_pred = tf.convert_to_tensor(y_pred, tf.float32)\n",
    "\n",
    "        model_out = tf.add(y_pred, epsilon)\n",
    "        ce = tf.multiply(y_true, -tf.math.log(model_out))\n",
    "        weight = tf.multiply(y_true, tf.pow(tf.subtract(1., model_out), gamma))\n",
    "        fl = tf.multiply(alpha, tf.multiply(weight, ce))\n",
    "        reduced_fl = tf.reduce_max(fl, axis=1)\n",
    "        return tf.reduce_mean(reduced_fl)\n",
    "\n",
    "    return focal_loss_fixed\n"
   ]
  },
  {
   "cell_type": "code",
   "execution_count": 205,
   "metadata": {},
   "outputs": [
    {
     "name": "stdout",
     "output_type": "stream",
     "text": [
      "Model: \"sequential_23\"\n",
      "_________________________________________________________________\n",
      "Layer (type)                 Output Shape              Param #   \n",
      "=================================================================\n",
      "dense_49 (Dense)             (None, 15)                165       \n",
      "_________________________________________________________________\n",
      "dense_50 (Dense)             (None, 30)                480       \n",
      "_________________________________________________________________\n",
      "output (Dense)               (None, 1)                 31        \n",
      "=================================================================\n",
      "Total params: 676\n",
      "Trainable params: 676\n",
      "Non-trainable params: 0\n",
      "_________________________________________________________________\n"
     ]
    }
   ],
   "source": [
    "from keras.models import Sequential\n",
    "from keras.layers import Dense\n",
    "\n",
    "model5 = Sequential()\n",
    "\n",
    "\n",
    "model5.add(Dense(15, input_shape=(X_train.shape[1],), activation='relu'))\n",
    "model5.add(Dense(30, activation='relu'))\n",
    "model5.add(Dense(1,activation='sigmoid',name='output'))\n",
    "model5.compile(optimizer=\"adam\",loss=focal_loss(gamma=3,alpha=0.3),metrics=['accuracy'])\n",
    "\n",
    "model5.summary()\n",
    "model5.fit(X_train, y_train, epochs=20, batch_size=1000,verbose=0)\n",
    "y_predk=model5.predict_classes(X_test,batch_size=1)\n"
   ]
  },
  {
   "cell_type": "code",
   "execution_count": 206,
   "metadata": {},
   "outputs": [
    {
     "name": "stdout",
     "output_type": "stream",
     "text": [
      "f1_score: 0.9573297353082777\n",
      "auc: 0.5\n"
     ]
    }
   ],
   "source": [
    "fpr,tpr,threshold=roc_curve(y_test,y_predk)\n",
    "roc_auc=auc(fpr,tpr)\n",
    "print(\"f1_score:\",f1_score(y_test,y_predk, average=\"weighted\"))  \n",
    "print(\"auc:\",roc_auc)  "
   ]
  },
  {
   "cell_type": "code",
   "execution_count": null,
   "metadata": {},
   "outputs": [],
   "source": []
  },
  {
   "cell_type": "code",
   "execution_count": null,
   "metadata": {},
   "outputs": [],
   "source": []
  },
  {
   "cell_type": "code",
   "execution_count": null,
   "metadata": {},
   "outputs": [],
   "source": []
  }
 ],
 "metadata": {
  "kernelspec": {
   "display_name": "Python 3",
   "language": "python",
   "name": "python3"
  },
  "language_info": {
   "codemirror_mode": {
    "name": "ipython",
    "version": 3
   },
   "file_extension": ".py",
   "mimetype": "text/x-python",
   "name": "python",
   "nbconvert_exporter": "python",
   "pygments_lexer": "ipython3",
   "version": "3.7.4"
  }
 },
 "nbformat": 4,
 "nbformat_minor": 2
}
