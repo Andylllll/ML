{
 "cells": [
  {
   "cell_type": "code",
   "execution_count": 1,
   "metadata": {},
   "outputs": [
    {
     "name": "stderr",
     "output_type": "stream",
     "text": [
      "F:\\python\\Anaconda3\\lib\\site-packages\\sklearn\\externals\\joblib\\__init__.py:15: DeprecationWarning: sklearn.externals.joblib is deprecated in 0.21 and will be removed in 0.23. Please import this functionality directly from joblib, which can be installed with: pip install joblib. If this warning is raised when loading pickled models, you may need to re-serialize those models with scikit-learn 0.21+.\n",
      "  warnings.warn(msg, category=DeprecationWarning)\n"
     ]
    }
   ],
   "source": [
    "\n",
    "from sklearn.model_selection import train_test_split\n",
    "from sklearn.preprocessing import MinMaxScaler\n",
    "from sklearn import datasets\n",
    "from gcforest.gcforest import GCForest\n",
    "from gcforest.utils.config_utils import load_json\n",
    "from gcforest.gcforest import GCForest\n",
    "import matplotlib.pyplot as  plt\n",
    "import warnings\n",
    "warnings.filterwarnings(\"ignore\")\n",
    "def get_toy_config():#生成级联结构的相关结构\n",
    "    config = {}\n",
    "    ca_config = {}\n",
    "    ca_config[\"random_state\"] = 0# 0 or 1\n",
    "    ca_config[\"max_layers\"] = 100 #最大的层数\n",
    "    ca_config[\"early_stopping_rounds\"] = 3 #如果出现某层的三层以内的准确率都没有提升，层中止\n",
    "    ca_config[\"n_classes\"] = 3\n",
    "    ca_config[\"estimators\"] = []\n",
    "    ca_config[\"estimators\"].append( {\"n_folds\": 5, \"type\": \"XGBClassifier\", \"n_estimators\": 10, \"max_depth\": 5,\n",
    "             \"objective\": \"multi:softprob\", \"silent\": True, \"nthread\": -1, \"learning_rate\": 0.1} )\n",
    "    ca_config[\"estimators\"].append({\"n_folds\": 5, \"type\": \"RandomForestClassifier\", \"n_estimators\": 10, \"max_depth\": None, \"n_jobs\": -1})\n",
    "    ca_config[\"estimators\"].append({\"n_folds\": 5, \"type\": \"ExtraTreesClassifier\", \"n_estimators\": 10, \"max_depth\": None, \"n_jobs\": -1})\n",
    "    ca_config[\"estimators\"].append({\"n_folds\": 5, \"type\": \"LogisticRegression\"})\n",
    "    #共使用了四个基学习器\n",
    "    config[\"cascade\"] = ca_config\n",
    "    return config\n",
    "\n",
    "#或者写个json,用load_json()方法加载\n"
   ]
  },
  {
   "cell_type": "code",
   "execution_count": 2,
   "metadata": {},
   "outputs": [
    {
     "name": "stderr",
     "output_type": "stream",
     "text": [
      "[ 2020-03-26 13:47:38,957][cascade_classifier.fit_transform] X_groups_train.shape=[(120, 4)],y_train.shape=(120,),X_groups_test.shape=no_test,y_test.shape=no_test\n",
      "[ 2020-03-26 13:47:38,960][cascade_classifier.fit_transform] group_dims=[4]\n",
      "[ 2020-03-26 13:47:38,961][cascade_classifier.fit_transform] group_starts=[0]\n",
      "[ 2020-03-26 13:47:38,962][cascade_classifier.fit_transform] group_ends=[4]\n",
      "[ 2020-03-26 13:47:38,964][cascade_classifier.fit_transform] X_train.shape=(120, 4),X_test.shape=(0, 4)\n",
      "[ 2020-03-26 13:47:38,965][cascade_classifier.fit_transform] [layer=0] look_indexs=[0], X_cur_train.shape=(120, 4), X_cur_test.shape=(0, 4)\n",
      "[ 2020-03-26 13:47:44,416][kfold_wrapper.log_eval_metrics] Accuracy(layer_0 - estimator_0 - 5_folds.train_0.predict)=92.00%\n",
      "[ 2020-03-26 13:47:44,460][kfold_wrapper.log_eval_metrics] Accuracy(layer_0 - estimator_0 - 5_folds.train_1.predict)=100.00%\n",
      "[ 2020-03-26 13:47:44,490][kfold_wrapper.log_eval_metrics] Accuracy(layer_0 - estimator_0 - 5_folds.train_2.predict)=91.67%\n",
      "[ 2020-03-26 13:47:44,518][kfold_wrapper.log_eval_metrics] Accuracy(layer_0 - estimator_0 - 5_folds.train_3.predict)=91.30%\n",
      "[ 2020-03-26 13:47:44,544][kfold_wrapper.log_eval_metrics] Accuracy(layer_0 - estimator_0 - 5_folds.train_4.predict)=100.00%\n",
      "[ 2020-03-26 13:47:44,545][kfold_wrapper.log_eval_metrics] Accuracy(layer_0 - estimator_0 - 5_folds.train_cv.predict)=95.00%\n",
      "[ 2020-03-26 13:47:45,852][kfold_wrapper.log_eval_metrics] Accuracy(layer_0 - estimator_1 - 5_folds.train_0.predict)=100.00%\n",
      "[ 2020-03-26 13:47:46,075][kfold_wrapper.log_eval_metrics] Accuracy(layer_0 - estimator_1 - 5_folds.train_1.predict)=100.00%\n",
      "[ 2020-03-26 13:47:46,291][kfold_wrapper.log_eval_metrics] Accuracy(layer_0 - estimator_1 - 5_folds.train_2.predict)=100.00%\n",
      "[ 2020-03-26 13:47:46,509][kfold_wrapper.log_eval_metrics] Accuracy(layer_0 - estimator_1 - 5_folds.train_3.predict)=86.96%\n",
      "[ 2020-03-26 13:47:46,721][kfold_wrapper.log_eval_metrics] Accuracy(layer_0 - estimator_1 - 5_folds.train_4.predict)=91.30%\n",
      "[ 2020-03-26 13:47:46,722][kfold_wrapper.log_eval_metrics] Accuracy(layer_0 - estimator_1 - 5_folds.train_cv.predict)=95.83%\n",
      "[ 2020-03-26 13:47:46,936][kfold_wrapper.log_eval_metrics] Accuracy(layer_0 - estimator_2 - 5_folds.train_0.predict)=96.00%\n",
      "[ 2020-03-26 13:47:47,151][kfold_wrapper.log_eval_metrics] Accuracy(layer_0 - estimator_2 - 5_folds.train_1.predict)=96.00%\n",
      "[ 2020-03-26 13:47:47,375][kfold_wrapper.log_eval_metrics] Accuracy(layer_0 - estimator_2 - 5_folds.train_2.predict)=95.83%\n",
      "[ 2020-03-26 13:47:47,585][kfold_wrapper.log_eval_metrics] Accuracy(layer_0 - estimator_2 - 5_folds.train_3.predict)=95.65%\n",
      "[ 2020-03-26 13:47:47,798][kfold_wrapper.log_eval_metrics] Accuracy(layer_0 - estimator_2 - 5_folds.train_4.predict)=100.00%\n",
      "[ 2020-03-26 13:47:47,799][kfold_wrapper.log_eval_metrics] Accuracy(layer_0 - estimator_2 - 5_folds.train_cv.predict)=96.67%\n",
      "[ 2020-03-26 13:47:47,875][kfold_wrapper.log_eval_metrics] Accuracy(layer_0 - estimator_3 - 5_folds.train_0.predict)=80.00%\n",
      "[ 2020-03-26 13:47:47,876][kfold_wrapper.log_eval_metrics] Accuracy(layer_0 - estimator_3 - 5_folds.train_1.predict)=76.00%\n",
      "[ 2020-03-26 13:47:47,878][kfold_wrapper.log_eval_metrics] Accuracy(layer_0 - estimator_3 - 5_folds.train_2.predict)=87.50%\n",
      "[ 2020-03-26 13:47:47,880][kfold_wrapper.log_eval_metrics] Accuracy(layer_0 - estimator_3 - 5_folds.train_3.predict)=91.30%\n",
      "[ 2020-03-26 13:47:47,882][kfold_wrapper.log_eval_metrics] Accuracy(layer_0 - estimator_3 - 5_folds.train_4.predict)=78.26%\n",
      "[ 2020-03-26 13:47:47,883][kfold_wrapper.log_eval_metrics] Accuracy(layer_0 - estimator_3 - 5_folds.train_cv.predict)=82.50%\n",
      "[ 2020-03-26 13:47:47,883][cascade_classifier.calc_accuracy] Accuracy(layer_0 - train.classifier_average)=95.83%\n",
      "[ 2020-03-26 13:47:47,885][cascade_classifier.fit_transform] [layer=1] look_indexs=[0], X_cur_train.shape=(120, 16), X_cur_test.shape=(0, 16)\n",
      "[ 2020-03-26 13:47:47,928][kfold_wrapper.log_eval_metrics] Accuracy(layer_1 - estimator_0 - 5_folds.train_0.predict)=92.00%\n",
      "[ 2020-03-26 13:47:47,961][kfold_wrapper.log_eval_metrics] Accuracy(layer_1 - estimator_0 - 5_folds.train_1.predict)=96.00%\n",
      "[ 2020-03-26 13:47:47,990][kfold_wrapper.log_eval_metrics] Accuracy(layer_1 - estimator_0 - 5_folds.train_2.predict)=95.83%\n",
      "[ 2020-03-26 13:47:48,015][kfold_wrapper.log_eval_metrics] Accuracy(layer_1 - estimator_0 - 5_folds.train_3.predict)=95.65%\n",
      "[ 2020-03-26 13:47:48,059][kfold_wrapper.log_eval_metrics] Accuracy(layer_1 - estimator_0 - 5_folds.train_4.predict)=100.00%\n",
      "[ 2020-03-26 13:47:48,060][kfold_wrapper.log_eval_metrics] Accuracy(layer_1 - estimator_0 - 5_folds.train_cv.predict)=95.83%\n",
      "[ 2020-03-26 13:47:48,273][kfold_wrapper.log_eval_metrics] Accuracy(layer_1 - estimator_1 - 5_folds.train_0.predict)=92.00%\n",
      "[ 2020-03-26 13:47:48,486][kfold_wrapper.log_eval_metrics] Accuracy(layer_1 - estimator_1 - 5_folds.train_1.predict)=96.00%\n",
      "[ 2020-03-26 13:47:48,706][kfold_wrapper.log_eval_metrics] Accuracy(layer_1 - estimator_1 - 5_folds.train_2.predict)=95.83%\n",
      "[ 2020-03-26 13:47:48,921][kfold_wrapper.log_eval_metrics] Accuracy(layer_1 - estimator_1 - 5_folds.train_3.predict)=100.00%\n",
      "[ 2020-03-26 13:47:49,135][kfold_wrapper.log_eval_metrics] Accuracy(layer_1 - estimator_1 - 5_folds.train_4.predict)=95.65%\n",
      "[ 2020-03-26 13:47:49,136][kfold_wrapper.log_eval_metrics] Accuracy(layer_1 - estimator_1 - 5_folds.train_cv.predict)=95.83%\n",
      "[ 2020-03-26 13:47:49,349][kfold_wrapper.log_eval_metrics] Accuracy(layer_1 - estimator_2 - 5_folds.train_0.predict)=96.00%\n",
      "[ 2020-03-26 13:47:49,560][kfold_wrapper.log_eval_metrics] Accuracy(layer_1 - estimator_2 - 5_folds.train_1.predict)=100.00%\n",
      "[ 2020-03-26 13:47:49,771][kfold_wrapper.log_eval_metrics] Accuracy(layer_1 - estimator_2 - 5_folds.train_2.predict)=95.83%\n",
      "[ 2020-03-26 13:47:49,982][kfold_wrapper.log_eval_metrics] Accuracy(layer_1 - estimator_2 - 5_folds.train_3.predict)=86.96%\n",
      "[ 2020-03-26 13:47:50,194][kfold_wrapper.log_eval_metrics] Accuracy(layer_1 - estimator_2 - 5_folds.train_4.predict)=86.96%\n",
      "[ 2020-03-26 13:47:50,195][kfold_wrapper.log_eval_metrics] Accuracy(layer_1 - estimator_2 - 5_folds.train_cv.predict)=93.33%\n",
      "[ 2020-03-26 13:47:50,197][kfold_wrapper.log_eval_metrics] Accuracy(layer_1 - estimator_3 - 5_folds.train_0.predict)=88.00%\n",
      "[ 2020-03-26 13:47:50,199][kfold_wrapper.log_eval_metrics] Accuracy(layer_1 - estimator_3 - 5_folds.train_1.predict)=96.00%\n",
      "[ 2020-03-26 13:47:50,201][kfold_wrapper.log_eval_metrics] Accuracy(layer_1 - estimator_3 - 5_folds.train_2.predict)=100.00%\n",
      "[ 2020-03-26 13:47:50,205][kfold_wrapper.log_eval_metrics] Accuracy(layer_1 - estimator_3 - 5_folds.train_3.predict)=95.65%\n",
      "[ 2020-03-26 13:47:50,210][kfold_wrapper.log_eval_metrics] Accuracy(layer_1 - estimator_3 - 5_folds.train_4.predict)=100.00%\n",
      "[ 2020-03-26 13:47:50,213][kfold_wrapper.log_eval_metrics] Accuracy(layer_1 - estimator_3 - 5_folds.train_cv.predict)=95.83%\n",
      "[ 2020-03-26 13:47:50,214][cascade_classifier.calc_accuracy] Accuracy(layer_1 - train.classifier_average)=96.67%\n",
      "[ 2020-03-26 13:47:50,249][cascade_classifier.fit_transform] [layer=2] look_indexs=[0], X_cur_train.shape=(120, 16), X_cur_test.shape=(0, 16)\n",
      "[ 2020-03-26 13:47:50,299][kfold_wrapper.log_eval_metrics] Accuracy(layer_2 - estimator_0 - 5_folds.train_0.predict)=96.00%\n",
      "[ 2020-03-26 13:47:50,351][kfold_wrapper.log_eval_metrics] Accuracy(layer_2 - estimator_0 - 5_folds.train_1.predict)=96.00%\n",
      "[ 2020-03-26 13:47:50,404][kfold_wrapper.log_eval_metrics] Accuracy(layer_2 - estimator_0 - 5_folds.train_2.predict)=91.67%\n",
      "[ 2020-03-26 13:47:50,452][kfold_wrapper.log_eval_metrics] Accuracy(layer_2 - estimator_0 - 5_folds.train_3.predict)=91.30%\n",
      "[ 2020-03-26 13:47:50,519][kfold_wrapper.log_eval_metrics] Accuracy(layer_2 - estimator_0 - 5_folds.train_4.predict)=91.30%\n",
      "[ 2020-03-26 13:47:50,523][kfold_wrapper.log_eval_metrics] Accuracy(layer_2 - estimator_0 - 5_folds.train_cv.predict)=93.33%\n",
      "[ 2020-03-26 13:47:50,754][kfold_wrapper.log_eval_metrics] Accuracy(layer_2 - estimator_1 - 5_folds.train_0.predict)=100.00%\n",
      "[ 2020-03-26 13:47:50,966][kfold_wrapper.log_eval_metrics] Accuracy(layer_2 - estimator_1 - 5_folds.train_1.predict)=88.00%\n",
      "[ 2020-03-26 13:47:51,177][kfold_wrapper.log_eval_metrics] Accuracy(layer_2 - estimator_1 - 5_folds.train_2.predict)=95.83%\n"
     ]
    },
    {
     "name": "stderr",
     "output_type": "stream",
     "text": [
      "[ 2020-03-26 13:47:51,392][kfold_wrapper.log_eval_metrics] Accuracy(layer_2 - estimator_1 - 5_folds.train_3.predict)=100.00%\n",
      "[ 2020-03-26 13:47:51,615][kfold_wrapper.log_eval_metrics] Accuracy(layer_2 - estimator_1 - 5_folds.train_4.predict)=91.30%\n",
      "[ 2020-03-26 13:47:51,617][kfold_wrapper.log_eval_metrics] Accuracy(layer_2 - estimator_1 - 5_folds.train_cv.predict)=95.00%\n",
      "[ 2020-03-26 13:47:51,838][kfold_wrapper.log_eval_metrics] Accuracy(layer_2 - estimator_2 - 5_folds.train_0.predict)=100.00%\n",
      "[ 2020-03-26 13:47:52,050][kfold_wrapper.log_eval_metrics] Accuracy(layer_2 - estimator_2 - 5_folds.train_1.predict)=88.00%\n",
      "[ 2020-03-26 13:47:52,261][kfold_wrapper.log_eval_metrics] Accuracy(layer_2 - estimator_2 - 5_folds.train_2.predict)=95.83%\n",
      "[ 2020-03-26 13:47:52,473][kfold_wrapper.log_eval_metrics] Accuracy(layer_2 - estimator_2 - 5_folds.train_3.predict)=91.30%\n",
      "[ 2020-03-26 13:47:52,686][kfold_wrapper.log_eval_metrics] Accuracy(layer_2 - estimator_2 - 5_folds.train_4.predict)=95.65%\n",
      "[ 2020-03-26 13:47:52,687][kfold_wrapper.log_eval_metrics] Accuracy(layer_2 - estimator_2 - 5_folds.train_cv.predict)=94.17%\n",
      "[ 2020-03-26 13:47:52,689][kfold_wrapper.log_eval_metrics] Accuracy(layer_2 - estimator_3 - 5_folds.train_0.predict)=96.00%\n",
      "[ 2020-03-26 13:47:52,692][kfold_wrapper.log_eval_metrics] Accuracy(layer_2 - estimator_3 - 5_folds.train_1.predict)=100.00%\n",
      "[ 2020-03-26 13:47:52,694][kfold_wrapper.log_eval_metrics] Accuracy(layer_2 - estimator_3 - 5_folds.train_2.predict)=91.67%\n",
      "[ 2020-03-26 13:47:52,696][kfold_wrapper.log_eval_metrics] Accuracy(layer_2 - estimator_3 - 5_folds.train_3.predict)=100.00%\n",
      "[ 2020-03-26 13:47:52,701][kfold_wrapper.log_eval_metrics] Accuracy(layer_2 - estimator_3 - 5_folds.train_4.predict)=95.65%\n",
      "[ 2020-03-26 13:47:52,702][kfold_wrapper.log_eval_metrics] Accuracy(layer_2 - estimator_3 - 5_folds.train_cv.predict)=96.67%\n",
      "[ 2020-03-26 13:47:52,703][cascade_classifier.calc_accuracy] Accuracy(layer_2 - train.classifier_average)=95.00%\n",
      "[ 2020-03-26 13:47:52,704][cascade_classifier.fit_transform] [layer=3] look_indexs=[0], X_cur_train.shape=(120, 16), X_cur_test.shape=(0, 16)\n",
      "[ 2020-03-26 13:47:52,756][kfold_wrapper.log_eval_metrics] Accuracy(layer_3 - estimator_0 - 5_folds.train_0.predict)=100.00%\n",
      "[ 2020-03-26 13:47:52,795][kfold_wrapper.log_eval_metrics] Accuracy(layer_3 - estimator_0 - 5_folds.train_1.predict)=92.00%\n",
      "[ 2020-03-26 13:47:52,826][kfold_wrapper.log_eval_metrics] Accuracy(layer_3 - estimator_0 - 5_folds.train_2.predict)=87.50%\n",
      "[ 2020-03-26 13:47:52,861][kfold_wrapper.log_eval_metrics] Accuracy(layer_3 - estimator_0 - 5_folds.train_3.predict)=95.65%\n",
      "[ 2020-03-26 13:47:52,896][kfold_wrapper.log_eval_metrics] Accuracy(layer_3 - estimator_0 - 5_folds.train_4.predict)=86.96%\n",
      "[ 2020-03-26 13:47:52,897][kfold_wrapper.log_eval_metrics] Accuracy(layer_3 - estimator_0 - 5_folds.train_cv.predict)=92.50%\n",
      "[ 2020-03-26 13:47:53,129][kfold_wrapper.log_eval_metrics] Accuracy(layer_3 - estimator_1 - 5_folds.train_0.predict)=84.00%\n",
      "[ 2020-03-26 13:47:53,349][kfold_wrapper.log_eval_metrics] Accuracy(layer_3 - estimator_1 - 5_folds.train_1.predict)=100.00%\n",
      "[ 2020-03-26 13:47:53,560][kfold_wrapper.log_eval_metrics] Accuracy(layer_3 - estimator_1 - 5_folds.train_2.predict)=91.67%\n",
      "[ 2020-03-26 13:47:53,772][kfold_wrapper.log_eval_metrics] Accuracy(layer_3 - estimator_1 - 5_folds.train_3.predict)=95.65%\n",
      "[ 2020-03-26 13:47:53,984][kfold_wrapper.log_eval_metrics] Accuracy(layer_3 - estimator_1 - 5_folds.train_4.predict)=95.65%\n",
      "[ 2020-03-26 13:47:53,985][kfold_wrapper.log_eval_metrics] Accuracy(layer_3 - estimator_1 - 5_folds.train_cv.predict)=93.33%\n",
      "[ 2020-03-26 13:47:54,197][kfold_wrapper.log_eval_metrics] Accuracy(layer_3 - estimator_2 - 5_folds.train_0.predict)=96.00%\n",
      "[ 2020-03-26 13:47:54,419][kfold_wrapper.log_eval_metrics] Accuracy(layer_3 - estimator_2 - 5_folds.train_1.predict)=92.00%\n",
      "[ 2020-03-26 13:47:54,640][kfold_wrapper.log_eval_metrics] Accuracy(layer_3 - estimator_2 - 5_folds.train_2.predict)=95.83%\n",
      "[ 2020-03-26 13:47:54,852][kfold_wrapper.log_eval_metrics] Accuracy(layer_3 - estimator_2 - 5_folds.train_3.predict)=100.00%\n",
      "[ 2020-03-26 13:47:55,065][kfold_wrapper.log_eval_metrics] Accuracy(layer_3 - estimator_2 - 5_folds.train_4.predict)=91.30%\n",
      "[ 2020-03-26 13:47:55,065][kfold_wrapper.log_eval_metrics] Accuracy(layer_3 - estimator_2 - 5_folds.train_cv.predict)=95.00%\n",
      "[ 2020-03-26 13:47:55,068][kfold_wrapper.log_eval_metrics] Accuracy(layer_3 - estimator_3 - 5_folds.train_0.predict)=92.00%\n",
      "[ 2020-03-26 13:47:55,070][kfold_wrapper.log_eval_metrics] Accuracy(layer_3 - estimator_3 - 5_folds.train_1.predict)=96.00%\n",
      "[ 2020-03-26 13:47:55,072][kfold_wrapper.log_eval_metrics] Accuracy(layer_3 - estimator_3 - 5_folds.train_2.predict)=95.83%\n",
      "[ 2020-03-26 13:47:55,075][kfold_wrapper.log_eval_metrics] Accuracy(layer_3 - estimator_3 - 5_folds.train_3.predict)=100.00%\n",
      "[ 2020-03-26 13:47:55,080][kfold_wrapper.log_eval_metrics] Accuracy(layer_3 - estimator_3 - 5_folds.train_4.predict)=91.30%\n",
      "[ 2020-03-26 13:47:55,082][kfold_wrapper.log_eval_metrics] Accuracy(layer_3 - estimator_3 - 5_folds.train_cv.predict)=95.00%\n",
      "[ 2020-03-26 13:47:55,083][cascade_classifier.calc_accuracy] Accuracy(layer_3 - train.classifier_average)=94.17%\n",
      "[ 2020-03-26 13:47:55,084][cascade_classifier.fit_transform] [layer=4] look_indexs=[0], X_cur_train.shape=(120, 16), X_cur_test.shape=(0, 16)\n",
      "[ 2020-03-26 13:47:55,131][kfold_wrapper.log_eval_metrics] Accuracy(layer_4 - estimator_0 - 5_folds.train_0.predict)=96.00%\n",
      "[ 2020-03-26 13:47:55,160][kfold_wrapper.log_eval_metrics] Accuracy(layer_4 - estimator_0 - 5_folds.train_1.predict)=92.00%\n",
      "[ 2020-03-26 13:47:55,186][kfold_wrapper.log_eval_metrics] Accuracy(layer_4 - estimator_0 - 5_folds.train_2.predict)=95.83%\n",
      "[ 2020-03-26 13:47:55,209][kfold_wrapper.log_eval_metrics] Accuracy(layer_4 - estimator_0 - 5_folds.train_3.predict)=86.96%\n",
      "[ 2020-03-26 13:47:55,236][kfold_wrapper.log_eval_metrics] Accuracy(layer_4 - estimator_0 - 5_folds.train_4.predict)=100.00%\n",
      "[ 2020-03-26 13:47:55,238][kfold_wrapper.log_eval_metrics] Accuracy(layer_4 - estimator_0 - 5_folds.train_cv.predict)=94.17%\n",
      "[ 2020-03-26 13:47:55,451][kfold_wrapper.log_eval_metrics] Accuracy(layer_4 - estimator_1 - 5_folds.train_0.predict)=96.00%\n",
      "[ 2020-03-26 13:47:55,664][kfold_wrapper.log_eval_metrics] Accuracy(layer_4 - estimator_1 - 5_folds.train_1.predict)=96.00%\n",
      "[ 2020-03-26 13:47:55,877][kfold_wrapper.log_eval_metrics] Accuracy(layer_4 - estimator_1 - 5_folds.train_2.predict)=91.67%\n",
      "[ 2020-03-26 13:47:56,092][kfold_wrapper.log_eval_metrics] Accuracy(layer_4 - estimator_1 - 5_folds.train_3.predict)=86.96%\n",
      "[ 2020-03-26 13:47:56,303][kfold_wrapper.log_eval_metrics] Accuracy(layer_4 - estimator_1 - 5_folds.train_4.predict)=91.30%\n",
      "[ 2020-03-26 13:47:56,304][kfold_wrapper.log_eval_metrics] Accuracy(layer_4 - estimator_1 - 5_folds.train_cv.predict)=92.50%\n",
      "[ 2020-03-26 13:47:56,517][kfold_wrapper.log_eval_metrics] Accuracy(layer_4 - estimator_2 - 5_folds.train_0.predict)=92.00%\n",
      "[ 2020-03-26 13:47:56,729][kfold_wrapper.log_eval_metrics] Accuracy(layer_4 - estimator_2 - 5_folds.train_1.predict)=92.00%\n",
      "[ 2020-03-26 13:47:56,940][kfold_wrapper.log_eval_metrics] Accuracy(layer_4 - estimator_2 - 5_folds.train_2.predict)=95.83%\n",
      "[ 2020-03-26 13:47:57,156][kfold_wrapper.log_eval_metrics] Accuracy(layer_4 - estimator_2 - 5_folds.train_3.predict)=86.96%\n",
      "[ 2020-03-26 13:47:57,375][kfold_wrapper.log_eval_metrics] Accuracy(layer_4 - estimator_2 - 5_folds.train_4.predict)=95.65%\n",
      "[ 2020-03-26 13:47:57,376][kfold_wrapper.log_eval_metrics] Accuracy(layer_4 - estimator_2 - 5_folds.train_cv.predict)=92.50%\n",
      "[ 2020-03-26 13:47:57,379][kfold_wrapper.log_eval_metrics] Accuracy(layer_4 - estimator_3 - 5_folds.train_0.predict)=88.00%\n",
      "[ 2020-03-26 13:47:57,381][kfold_wrapper.log_eval_metrics] Accuracy(layer_4 - estimator_3 - 5_folds.train_1.predict)=96.00%\n",
      "[ 2020-03-26 13:47:57,384][kfold_wrapper.log_eval_metrics] Accuracy(layer_4 - estimator_3 - 5_folds.train_2.predict)=95.83%\n",
      "[ 2020-03-26 13:47:57,387][kfold_wrapper.log_eval_metrics] Accuracy(layer_4 - estimator_3 - 5_folds.train_3.predict)=100.00%\n",
      "[ 2020-03-26 13:47:57,391][kfold_wrapper.log_eval_metrics] Accuracy(layer_4 - estimator_3 - 5_folds.train_4.predict)=95.65%\n"
     ]
    },
    {
     "name": "stderr",
     "output_type": "stream",
     "text": [
      "[ 2020-03-26 13:47:57,393][kfold_wrapper.log_eval_metrics] Accuracy(layer_4 - estimator_3 - 5_folds.train_cv.predict)=95.00%\n",
      "[ 2020-03-26 13:47:57,395][cascade_classifier.calc_accuracy] Accuracy(layer_4 - train.classifier_average)=94.17%\n",
      "[ 2020-03-26 13:47:57,396][cascade_classifier.fit_transform] [Result][Optimal Level Detected] opt_layer_num=2, accuracy_train=96.67%, accuracy_test=0.00%\n",
      "[ 2020-03-26 13:47:57,398][cascade_classifier.transform] X_groups_test.shape=[(30, 4)]\n",
      "[ 2020-03-26 13:47:57,399][cascade_classifier.transform] group_dims=[4]\n",
      "[ 2020-03-26 13:47:57,400][cascade_classifier.transform] X_test.shape=(30, 4)\n",
      "[ 2020-03-26 13:47:57,402][cascade_classifier.transform] [layer=0] look_indexs=[0], X_cur_test.shape=(30, 4)\n",
      "[ 2020-03-26 13:47:58,487][cascade_classifier.transform] [layer=1] look_indexs=[0], X_cur_test.shape=(30, 16)\n"
     ]
    }
   ],
   "source": [
    "iris = datasets.load_iris()\n",
    "X = iris.data\n",
    "y = iris.target\n",
    "scaler=MinMaxScaler(feature_range=(0,1))\n",
    "X=scaler.fit_transform(X)\n",
    "X_train, X_test, Y_train, Y_test = train_test_split(X, y, test_size=0.2,random_state=60)\n",
    "config=get_toy_config()\n",
    "gc = GCForest(config) \n",
    "X_train_enc = gc.fit_transform(X_train,Y_train)\n",
    "y_pred = gc.predict(X_test)\n"
   ]
  },
  {
   "cell_type": "code",
   "execution_count": 3,
   "metadata": {},
   "outputs": [
    {
     "name": "stdout",
     "output_type": "stream",
     "text": [
      "Test Accuracy 's X_encode = 90.00 %\n"
     ]
    }
   ],
   "source": [
    "from sklearn.metrics import accuracy_score\n",
    "acc = accuracy_score(Y_test, y_pred)\n",
    "print(\"Test Accuracy 's X_encode = {:.2f} %\".format(acc * 100))"
   ]
  },
  {
   "cell_type": "code",
   "execution_count": 4,
   "metadata": {},
   "outputs": [
    {
     "data": {
      "text/plain": [
       "<matplotlib.legend.Legend at 0x1ee301a7ac8>"
      ]
     },
     "execution_count": 4,
     "metadata": {},
     "output_type": "execute_result"
    },
    {
     "data": {
      "image/png": "[encoded data removed]",
      "text/plain": [
       "<Figure size 432x288 with 1 Axes>"
      ]
     },
     "metadata": {
      "needs_background": "light"
     },
     "output_type": "display_data"
    }
   ],
   "source": [
    "plt.plot(Y_test,label='Actual')\n",
    "plt.plot(y_pred,label='Prediction')\n",
    "plt.legend()"
   ]
  },
  {
   "cell_type": "code",
   "execution_count": null,
   "metadata": {},
   "outputs": [],
   "source": []
  },
  {
   "cell_type": "code",
   "execution_count": null,
   "metadata": {},
   "outputs": [],
   "source": [
    "\n"
   ]
  },
  {
   "cell_type": "code",
   "execution_count": null,
   "metadata": {},
   "outputs": [],
   "source": []
  }
 ],
 "metadata": {
  "kernelspec": {
   "display_name": "Python 3",
   "language": "python",
   "name": "python3"
  },
  "language_info": {
   "codemirror_mode": {
    "name": "ipython",
    "version": 3
   },
   "file_extension": ".py",
   "mimetype": "text/x-python",
   "name": "python",
   "nbconvert_exporter": "python",
   "pygments_lexer": "ipython3",
   "version": "3.7.4"
  }
 },
 "nbformat": 4,
 "nbformat_minor": 2
}
