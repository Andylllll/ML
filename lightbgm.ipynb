{
 "cells": [
  {
   "cell_type": "code",
   "execution_count": 1,
   "metadata": {},
   "outputs": [],
   "source": [
    "#直方图算法：把连续值离散化成k个整数，并且构造宽度为k的直方图，遍历数据后，\n",
    "#将离散化后的值作为索引在直方图中累积统计量。\n",
    "#Leaf-wise：每次从当前的叶子中，找到分裂增益最大的一个叶子，然后分裂，继续循环。\n",
    "\n",
    "#lightbgm参数：\n",
    "#learning_rate:学习率\n",
    "#n_estimators:树的个数，迭代的次数\n",
    "#max_depth:树的深度，深度大可能过拟合\n",
    "#num_leaves:一棵树最大的叶子数量，num_leaves = 2^(max_depth)，但是它的值的设置应该小于 2^(max_depth)，否则可能会导致过拟合。\n",
    "#min_child_samples:它的值取决于训练数据的样本个数和num_leaves,可以降低过拟合\n",
    "#min_child_weight:\n",
    "#reg_alpha:l1正则化\n",
    "#reg_lambda：l2正则化\n",
    "#colsample_bylevel, colsample_bytree, colsample_bynode ：分别表示各个层、各棵树、各个节点的列采样率\n",
    "#bagging_fraction：表示每次迭代所使用的数据分数（即所占百分比，用小数表示）。将此值设置得较低，以提高训练速度。\n"
   ]
  },
  {
   "cell_type": "code",
   "execution_count": 62,
   "metadata": {},
   "outputs": [],
   "source": [
    "import numpy as np\n",
    "import pandas as pd\n",
    "from sklearn import datasets\n",
    "import matplotlib.pyplot as plt\n",
    "from sklearn.model_selection import GridSearchCV\n",
    "from sklearn.preprocessing import StandardScaler\n",
    "from sklearn.preprocessing import Imputer,MinMaxScaler\n",
    "from sklearn.model_selection import RandomizedSearchCV,GridSearchCV\n",
    "import lightgbm as lgb\n",
    "\n",
    "iris = datasets.load_iris()\n",
    "X = iris.data\n",
    "y = iris.target\n",
    "scaler=MinMaxScaler(feature_range=(0,1))\n",
    "iris = datasets.load_iris()\n",
    "X=scaler.fit_transform(X)\n",
    "\n",
    "\n"
   ]
  },
  {
   "cell_type": "code",
   "execution_count": 63,
   "metadata": {},
   "outputs": [],
   "source": [
    "def GridSearch(model,params,X,y):\n",
    "    lgbr=GridSearchCV(model,params,scoring='neg_mean_squared_error',cv=5)\n",
    "    lgbr.fit(X,y)\n",
    "    print('GridSearchCV_best_score:',lgbr.best_score_)\n",
    "    print('GridSearchCV_best_params：',lgbr.best_params_) \n",
    "    print('GridSearchCV_best_model：',lgbr.best_estimator_) "
   ]
  },
  {
   "cell_type": "code",
   "execution_count": 64,
   "metadata": {},
   "outputs": [
    {
     "name": "stdout",
     "output_type": "stream",
     "text": [
      "GridSearchCV_best_score: -0.050241248298760095\n",
      "GridSearchCV_best_params： {'min_child_weight': 3, 'n_estimators': 60}\n",
      "GridSearchCV_best_model： LGBMRegressor(boosting_type='gbdt', class_weight=None, colsample_bytree=1,\n",
      "              importance_type='split', learning_rate=0.1, max_depth=5,\n",
      "              metric='rmse', min_child_samples=20, min_child_weight=3,\n",
      "              min_split_gain=0.0, n_estimators=60, n_jobs=-1, num_leaves=30,\n",
      "              objective='regression', random_state=60, reg_alpha=0.1,\n",
      "              reg_lambda=0.1, silent=True, subsample=0.8,\n",
      "              subsample_for_bin=200000, subsample_freq=0)\n"
     ]
    }
   ],
   "source": [
    "params={\n",
    "    'objective':'regression',\n",
    "    'n_estimators':30,\n",
    "    'max_depth':5,\n",
    "    'min_child_samples':20,\n",
    "    'reg_lambda':0.1,\n",
    "    'reg_alpha':0.1,\n",
    "    'metric':'rmse',\n",
    "    'colsample_bytree':1,\n",
    "    'subsample':0.8,\n",
    "    'num_leaves':30,\n",
    "    'random_state':60\n",
    "}\n",
    "model=lgb.LGBMRegressor(**params)\n",
    "change_params={\n",
    "                 'n_estimators': range(20, 200, 20),\n",
    "                 'min_child_weight': range(3, 15, 2),\n",
    "              #   'colsample_bytree': np.arange(0.4, 1.0),\n",
    "               #  'max_depth': range(5, 15, 2),\n",
    "              #   'subsample': np.arange(0.5, 1.0, 0.1),\n",
    "               #  'reg_lambda': np.arange(0.1, 1.0, 0.2),\n",
    "               #  'reg_alpha': np.arange(0.1, 1.0, 0.2),\n",
    "                 #'min_child_samples': range(10, 30)\n",
    "}\n",
    "GridSearch(model,change_params,X,y)"
   ]
  },
  {
   "cell_type": "code",
   "execution_count": 65,
   "metadata": {},
   "outputs": [],
   "source": [
    "#RandomSearchCV:并不是所有的参数都尝试，具有随机性\n",
    "def RandomSearch(model,params,X,y):\n",
    "    lgbr=RandomizedSearchCV(model,params,scoring='neg_mean_squared_error',cv=5)\n",
    "    lgbr.fit(X,y)\n",
    "    print('RandomizedSearchCV_best_score:',lgbr.best_score_)\n",
    "    print('RandomizedSearchCV_best_params：',lgbr.best_params_) \n",
    "    print('RandomizedSearchCV_best_model：',lgbr.best_estimator_) "
   ]
  },
  {
   "cell_type": "code",
   "execution_count": 24,
   "metadata": {},
   "outputs": [
    {
     "name": "stdout",
     "output_type": "stream",
     "text": [
      "RandomizedSearchCV_best_score: -0.045894939195014126\n",
      "RandomizedSearchCV_best_params： {'subsample': 0.7999999999999999, 'reg_lambda': 0.7000000000000001, 'reg_alpha': 0.9000000000000001, 'n_estimators': 100, 'min_child_weight': 5, 'min_child_samples': 21, 'max_depth': 9, 'colsample_bytree': 0.4}\n",
      "RandomizedSearchCV_best_model： LGBMRegressor(boosting_type='gbdt', class_weight=None, colsample_bytree=0.4,\n",
      "              importance_type='split', learning_rate=0.1, max_depth=9,\n",
      "              metric='rmse', min_child_samples=21, min_child_weight=5,\n",
      "              min_split_gain=0.0, n_estimators=100, n_jobs=-1, num_leaves=30,\n",
      "              objective='regression', random_state=60,\n",
      "              reg_alpha=0.9000000000000001, reg_lambda=0.7000000000000001,\n",
      "              silent=True, subsample=0.7999999999999999,\n",
      "              subsample_for_bin=200000, subsample_freq=0)\n"
     ]
    }
   ],
   "source": [
    "params={\n",
    "    'objective':'regression',\n",
    "    'n_estimators':30,\n",
    "    'max_depth':5,\n",
    "    'min_child_samples':20,\n",
    "    'reg_lambda':0.1,\n",
    "    'reg_alpha':0.1,\n",
    "    'metric':'rmse',\n",
    "    'colsample_bytree':1,\n",
    "    'subsample':0.8,\n",
    "    'num_leaves':30,\n",
    "    'random_state':60\n",
    "}\n",
    "model=lgb.LGBMRegressor(**params)\n",
    "change_params={\n",
    "                 'n_estimators': range(20, 200, 20),\n",
    "                 'min_child_weight': range(3, 15, 2),\n",
    "                 'colsample_bytree': np.arange(0.4, 1.0),\n",
    "                 'max_depth': range(5, 15, 2),\n",
    "                 'subsample': np.arange(0.5, 1.0, 0.1),\n",
    "                 'reg_lambda': np.arange(0.1, 1.0, 0.2),\n",
    "                 'reg_alpha': np.arange(0.1, 1.0, 0.2),\n",
    "                 'min_child_samples': range(10, 30)\n",
    "}\n",
    "RandomSearch(model,change_params ,X,y)"
   ]
  },
  {
   "cell_type": "code",
   "execution_count": 55,
   "metadata": {},
   "outputs": [],
   "source": [
    "#贝叶斯优化\n",
    "from sklearn.model_selection import train_test_split,cross_val_score\t\n",
    "from bayes_opt import BayesianOptimization\n",
    "def BayesianSearch(model,params):\n",
    "    num_iters=30\n",
    "    init_points=5\n",
    "    bayes= BayesianOptimization(model, params)\n",
    "    bayes.maximize(init_points=init_points,n_iter=num_iters)\n",
    "    params = bayes.res\n",
    "    index = []\n",
    "    for i in bayes.res:\n",
    "        index.append(i['target'])\n",
    "    max_index = index.index(max(index))\n",
    "\n",
    "    print(params[max_index])\n",
    "    return max_index\n",
    "        "
   ]
  },
  {
   "cell_type": "code",
   "execution_count": 56,
   "metadata": {},
   "outputs": [],
   "source": [
    "\n",
    "def evaluate(min_child_samples, min_child_weight, colsample_bytree, max_depth, subsample, reg_alpha, reg_lambda):\n",
    "    param={\n",
    "        'objective': 'regression',\n",
    "        'n_estimators': 50,\n",
    "        'metric': 'rmse',\n",
    "        'random_state': 60\n",
    "    }#固定参数\n",
    "    param['min_child_samples'] = int(min_child_samples)\n",
    "    param['min_child_weight'] = int(min_child_weight)\n",
    "    param['colsample_bytree'] = float(colsample_bytree),\n",
    "    param['max_depth'] = int(max_depth),\n",
    "    param['subsample'] = float(subsample),\n",
    "    param['reg_lambda'] = float(reg_lambda),\n",
    "    param['reg_alpha'] = float(reg_alpha),\n",
    "    #超参数\n",
    "    cvs=cross_val_score(lgb.LGBMRegressor(**param),X,y,scoring='neg_mean_squared_error',cv=5).mean()\n",
    "    return cvs\n",
    "\n",
    "\n",
    "    "
   ]
  },
  {
   "cell_type": "code",
   "execution_count": 57,
   "metadata": {},
   "outputs": [],
   "source": [
    "change_params={\n",
    "               \n",
    "                 'min_child_weight': (3, 15),\n",
    "                 'colsample_bytree': (0.4, 1.0),\n",
    "                 'max_depth': (5, 15),\n",
    "                 'subsample': (0.5, 1.0),\n",
    "                 'reg_lambda': (0.1, 1.0),\n",
    "                 'reg_alpha': (0.1, 1.0),\n",
    "                 'min_child_samples':(10, 30)\n",
    "}"
   ]
  },
  {
   "cell_type": "code",
   "execution_count": 58,
   "metadata": {},
   "outputs": [
    {
     "name": "stdout",
     "output_type": "stream",
     "text": [
      "|   iter    |  target   | colsam... | max_depth | min_ch... | min_ch... | reg_alpha | reg_la... | subsample |\n",
      "-------------------------------------------------------------------------------------------------------------\n",
      "| \u001b[0m 1       \u001b[0m | \u001b[0m-0.07297 \u001b[0m | \u001b[0m 0.4831  \u001b[0m | \u001b[0m 7.804   \u001b[0m | \u001b[0m 27.27   \u001b[0m | \u001b[0m 14.06   \u001b[0m | \u001b[0m 0.9263  \u001b[0m | \u001b[0m 0.1577  \u001b[0m | \u001b[0m 0.7374  \u001b[0m |\n",
      "| \u001b[95m 2       \u001b[0m | \u001b[95m-0.06757 \u001b[0m | \u001b[95m 0.9476  \u001b[0m | \u001b[95m 11.05   \u001b[0m | \u001b[95m 27.08   \u001b[0m | \u001b[95m 12.49   \u001b[0m | \u001b[95m 0.3119  \u001b[0m | \u001b[95m 0.5761  \u001b[0m | \u001b[95m 0.7068  \u001b[0m |\n",
      "| \u001b[0m 3       \u001b[0m | \u001b[0m-0.07113 \u001b[0m | \u001b[0m 0.5115  \u001b[0m | \u001b[0m 14.48   \u001b[0m | \u001b[0m 28.21   \u001b[0m | \u001b[0m 12.15   \u001b[0m | \u001b[0m 0.4027  \u001b[0m | \u001b[0m 0.4682  \u001b[0m | \u001b[0m 0.5027  \u001b[0m |\n",
      "| \u001b[95m 4       \u001b[0m | \u001b[95m-0.04918 \u001b[0m | \u001b[95m 0.7638  \u001b[0m | \u001b[95m 7.86    \u001b[0m | \u001b[95m 18.5    \u001b[0m | \u001b[95m 14.62   \u001b[0m | \u001b[95m 0.1796  \u001b[0m | \u001b[95m 0.4666  \u001b[0m | \u001b[95m 0.7052  \u001b[0m |\n",
      "| \u001b[0m 5       \u001b[0m | \u001b[0m-0.05014 \u001b[0m | \u001b[0m 0.4811  \u001b[0m | \u001b[0m 11.93   \u001b[0m | \u001b[0m 15.43   \u001b[0m | \u001b[0m 14.86   \u001b[0m | \u001b[0m 0.2225  \u001b[0m | \u001b[0m 0.5308  \u001b[0m | \u001b[0m 0.7365  \u001b[0m |\n",
      "| \u001b[0m 6       \u001b[0m | \u001b[0m-0.0548  \u001b[0m | \u001b[0m 0.4125  \u001b[0m | \u001b[0m 5.743   \u001b[0m | \u001b[0m 10.41   \u001b[0m | \u001b[0m 3.518   \u001b[0m | \u001b[0m 0.7695  \u001b[0m | \u001b[0m 0.7817  \u001b[0m | \u001b[0m 0.8266  \u001b[0m |\n",
      "| \u001b[0m 7       \u001b[0m | \u001b[0m-0.05262 \u001b[0m | \u001b[0m 0.4597  \u001b[0m | \u001b[0m 5.417   \u001b[0m | \u001b[0m 10.26   \u001b[0m | \u001b[0m 14.8    \u001b[0m | \u001b[0m 0.4896  \u001b[0m | \u001b[0m 0.9789  \u001b[0m | \u001b[0m 0.5665  \u001b[0m |\n",
      "| \u001b[0m 8       \u001b[0m | \u001b[0m-0.05486 \u001b[0m | \u001b[0m 0.7439  \u001b[0m | \u001b[0m 14.96   \u001b[0m | \u001b[0m 11.54   \u001b[0m | \u001b[0m 3.96    \u001b[0m | \u001b[0m 0.1242  \u001b[0m | \u001b[0m 0.2059  \u001b[0m | \u001b[0m 0.98    \u001b[0m |\n",
      "| \u001b[95m 9       \u001b[0m | \u001b[95m-0.04581 \u001b[0m | \u001b[95m 0.4719  \u001b[0m | \u001b[95m 5.624   \u001b[0m | \u001b[95m 21.2    \u001b[0m | \u001b[95m 3.725   \u001b[0m | \u001b[95m 0.1482  \u001b[0m | \u001b[95m 0.6005  \u001b[0m | \u001b[95m 0.5054  \u001b[0m |\n",
      "| \u001b[0m 10      \u001b[0m | \u001b[0m-0.05011 \u001b[0m | \u001b[0m 0.9656  \u001b[0m | \u001b[0m 5.667   \u001b[0m | \u001b[0m 18.93   \u001b[0m | \u001b[0m 3.258   \u001b[0m | \u001b[0m 0.1168  \u001b[0m | \u001b[0m 0.1076  \u001b[0m | \u001b[0m 0.9607  \u001b[0m |\n",
      "| \u001b[0m 11      \u001b[0m | \u001b[0m-0.05266 \u001b[0m | \u001b[0m 0.657   \u001b[0m | \u001b[0m 12.95   \u001b[0m | \u001b[0m 16.7    \u001b[0m | \u001b[0m 3.005   \u001b[0m | \u001b[0m 0.8584  \u001b[0m | \u001b[0m 0.9815  \u001b[0m | \u001b[0m 0.6566  \u001b[0m |\n",
      "| \u001b[0m 12      \u001b[0m | \u001b[0m-0.04986 \u001b[0m | \u001b[0m 0.5384  \u001b[0m | \u001b[0m 5.231   \u001b[0m | \u001b[0m 16.62   \u001b[0m | \u001b[0m 9.094   \u001b[0m | \u001b[0m 0.2559  \u001b[0m | \u001b[0m 0.9657  \u001b[0m | \u001b[0m 0.9902  \u001b[0m |\n",
      "| \u001b[0m 13      \u001b[0m | \u001b[0m-0.05336 \u001b[0m | \u001b[0m 0.5992  \u001b[0m | \u001b[0m 7.522   \u001b[0m | \u001b[0m 14.82   \u001b[0m | \u001b[0m 7.709   \u001b[0m | \u001b[0m 0.1101  \u001b[0m | \u001b[0m 0.2102  \u001b[0m | \u001b[0m 0.5397  \u001b[0m |\n",
      "| \u001b[0m 14      \u001b[0m | \u001b[0m-0.04837 \u001b[0m | \u001b[0m 0.8509  \u001b[0m | \u001b[0m 5.483   \u001b[0m | \u001b[0m 18.19   \u001b[0m | \u001b[0m 3.564   \u001b[0m | \u001b[0m 0.1359  \u001b[0m | \u001b[0m 0.8624  \u001b[0m | \u001b[0m 0.542   \u001b[0m |\n",
      "| \u001b[0m 15      \u001b[0m | \u001b[0m-0.06441 \u001b[0m | \u001b[0m 0.4102  \u001b[0m | \u001b[0m 12.63   \u001b[0m | \u001b[0m 26.32   \u001b[0m | \u001b[0m 3.664   \u001b[0m | \u001b[0m 0.1213  \u001b[0m | \u001b[0m 0.9881  \u001b[0m | \u001b[0m 0.9724  \u001b[0m |\n",
      "| \u001b[0m 16      \u001b[0m | \u001b[0m-0.05321 \u001b[0m | \u001b[0m 0.7712  \u001b[0m | \u001b[0m 14.96   \u001b[0m | \u001b[0m 13.3    \u001b[0m | \u001b[0m 14.92   \u001b[0m | \u001b[0m 0.7919  \u001b[0m | \u001b[0m 0.8867  \u001b[0m | \u001b[0m 0.6606  \u001b[0m |\n",
      "| \u001b[0m 17      \u001b[0m | \u001b[0m-0.04844 \u001b[0m | \u001b[0m 0.439   \u001b[0m | \u001b[0m 5.299   \u001b[0m | \u001b[0m 20.08   \u001b[0m | \u001b[0m 3.048   \u001b[0m | \u001b[0m 0.2976  \u001b[0m | \u001b[0m 0.9319  \u001b[0m | \u001b[0m 0.7482  \u001b[0m |\n",
      "| \u001b[0m 18      \u001b[0m | \u001b[0m-0.04935 \u001b[0m | \u001b[0m 0.4072  \u001b[0m | \u001b[0m 5.484   \u001b[0m | \u001b[0m 17.88   \u001b[0m | \u001b[0m 14.9    \u001b[0m | \u001b[0m 0.167   \u001b[0m | \u001b[0m 0.9563  \u001b[0m | \u001b[0m 0.6683  \u001b[0m |\n",
      "| \u001b[0m 19      \u001b[0m | \u001b[0m-0.04879 \u001b[0m | \u001b[0m 0.61    \u001b[0m | \u001b[0m 14.88   \u001b[0m | \u001b[0m 18.04   \u001b[0m | \u001b[0m 14.47   \u001b[0m | \u001b[0m 0.1115  \u001b[0m | \u001b[0m 0.2876  \u001b[0m | \u001b[0m 0.8649  \u001b[0m |\n",
      "| \u001b[0m 20      \u001b[0m | \u001b[0m-0.04985 \u001b[0m | \u001b[0m 0.4045  \u001b[0m | \u001b[0m 14.35   \u001b[0m | \u001b[0m 16.95   \u001b[0m | \u001b[0m 14.71   \u001b[0m | \u001b[0m 0.1043  \u001b[0m | \u001b[0m 0.9799  \u001b[0m | \u001b[0m 0.5022  \u001b[0m |\n",
      "| \u001b[95m 21      \u001b[0m | \u001b[95m-0.04534 \u001b[0m | \u001b[95m 0.9756  \u001b[0m | \u001b[95m 5.037   \u001b[0m | \u001b[95m 22.14   \u001b[0m | \u001b[95m 3.61    \u001b[0m | \u001b[95m 0.7442  \u001b[0m | \u001b[95m 0.967   \u001b[0m | \u001b[95m 0.5128  \u001b[0m |\n",
      "| \u001b[0m 22      \u001b[0m | \u001b[0m-0.05142 \u001b[0m | \u001b[0m 0.5241  \u001b[0m | \u001b[0m 5.302   \u001b[0m | \u001b[0m 18.7    \u001b[0m | \u001b[0m 7.063   \u001b[0m | \u001b[0m 0.9966  \u001b[0m | \u001b[0m 0.3362  \u001b[0m | \u001b[0m 0.5609  \u001b[0m |\n",
      "| \u001b[0m 23      \u001b[0m | \u001b[0m-0.06716 \u001b[0m | \u001b[0m 0.9702  \u001b[0m | \u001b[0m 5.134   \u001b[0m | \u001b[0m 26.51   \u001b[0m | \u001b[0m 3.105   \u001b[0m | \u001b[0m 0.4967  \u001b[0m | \u001b[0m 0.144   \u001b[0m | \u001b[0m 0.6813  \u001b[0m |\n",
      "| \u001b[0m 24      \u001b[0m | \u001b[0m-0.05005 \u001b[0m | \u001b[0m 0.9514  \u001b[0m | \u001b[0m 14.62   \u001b[0m | \u001b[0m 18.95   \u001b[0m | \u001b[0m 6.123   \u001b[0m | \u001b[0m 0.1218  \u001b[0m | \u001b[0m 0.6341  \u001b[0m | \u001b[0m 0.5043  \u001b[0m |\n",
      "| \u001b[0m 25      \u001b[0m | \u001b[0m-0.04871 \u001b[0m | \u001b[0m 0.8154  \u001b[0m | \u001b[0m 8.619   \u001b[0m | \u001b[0m 20.92   \u001b[0m | \u001b[0m 5.52    \u001b[0m | \u001b[0m 0.2521  \u001b[0m | \u001b[0m 0.9442  \u001b[0m | \u001b[0m 0.5145  \u001b[0m |\n",
      "| \u001b[0m 26      \u001b[0m | \u001b[0m-0.05234 \u001b[0m | \u001b[0m 0.8317  \u001b[0m | \u001b[0m 14.63   \u001b[0m | \u001b[0m 20.05   \u001b[0m | \u001b[0m 14.67   \u001b[0m | \u001b[0m 0.9373  \u001b[0m | \u001b[0m 0.8392  \u001b[0m | \u001b[0m 0.7888  \u001b[0m |\n",
      "| \u001b[0m 27      \u001b[0m | \u001b[0m-0.04875 \u001b[0m | \u001b[0m 0.8685  \u001b[0m | \u001b[0m 5.107   \u001b[0m | \u001b[0m 20.95   \u001b[0m | \u001b[0m 7.198   \u001b[0m | \u001b[0m 0.3523  \u001b[0m | \u001b[0m 0.9649  \u001b[0m | \u001b[0m 0.6586  \u001b[0m |\n",
      "| \u001b[0m 28      \u001b[0m | \u001b[0m-0.04855 \u001b[0m | \u001b[0m 0.9344  \u001b[0m | \u001b[0m 5.068   \u001b[0m | \u001b[0m 16.66   \u001b[0m | \u001b[0m 14.5    \u001b[0m | \u001b[0m 0.1274  \u001b[0m | \u001b[0m 0.8521  \u001b[0m | \u001b[0m 0.999   \u001b[0m |\n",
      "| \u001b[0m 29      \u001b[0m | \u001b[0m-0.049   \u001b[0m | \u001b[0m 0.7402  \u001b[0m | \u001b[0m 7.232   \u001b[0m | \u001b[0m 20.11   \u001b[0m | \u001b[0m 3.044   \u001b[0m | \u001b[0m 0.3841  \u001b[0m | \u001b[0m 0.9724  \u001b[0m | \u001b[0m 0.5319  \u001b[0m |\n",
      "| \u001b[0m 30      \u001b[0m | \u001b[0m-0.05144 \u001b[0m | \u001b[0m 0.7958  \u001b[0m | \u001b[0m 5.201   \u001b[0m | \u001b[0m 12.87   \u001b[0m | \u001b[0m 14.8    \u001b[0m | \u001b[0m 0.219   \u001b[0m | \u001b[0m 0.1084  \u001b[0m | \u001b[0m 0.6575  \u001b[0m |\n",
      "| \u001b[0m 31      \u001b[0m | \u001b[0m-0.04892 \u001b[0m | \u001b[0m 0.7632  \u001b[0m | \u001b[0m 5.042   \u001b[0m | \u001b[0m 18.41   \u001b[0m | \u001b[0m 3.896   \u001b[0m | \u001b[0m 0.1401  \u001b[0m | \u001b[0m 0.9074  \u001b[0m | \u001b[0m 0.6513  \u001b[0m |\n",
      "| \u001b[0m 32      \u001b[0m | \u001b[0m-0.05121 \u001b[0m | \u001b[0m 0.5502  \u001b[0m | \u001b[0m 5.092   \u001b[0m | \u001b[0m 18.42   \u001b[0m | \u001b[0m 3.113   \u001b[0m | \u001b[0m 0.808   \u001b[0m | \u001b[0m 0.9108  \u001b[0m | \u001b[0m 0.5145  \u001b[0m |\n",
      "| \u001b[0m 33      \u001b[0m | \u001b[0m-0.05028 \u001b[0m | \u001b[0m 0.9366  \u001b[0m | \u001b[0m 14.93   \u001b[0m | \u001b[0m 20.56   \u001b[0m | \u001b[0m 3.048   \u001b[0m | \u001b[0m 0.4439  \u001b[0m | \u001b[0m 0.1162  \u001b[0m | \u001b[0m 0.5505  \u001b[0m |\n",
      "| \u001b[0m 34      \u001b[0m | \u001b[0m-0.05359 \u001b[0m | \u001b[0m 0.5676  \u001b[0m | \u001b[0m 14.4    \u001b[0m | \u001b[0m 10.41   \u001b[0m | \u001b[0m 14.43   \u001b[0m | \u001b[0m 0.1531  \u001b[0m | \u001b[0m 0.2725  \u001b[0m | \u001b[0m 0.985   \u001b[0m |\n",
      "| \u001b[0m 35      \u001b[0m | \u001b[0m-0.04995 \u001b[0m | \u001b[0m 0.9279  \u001b[0m | \u001b[0m 5.18    \u001b[0m | \u001b[0m 20.77   \u001b[0m | \u001b[0m 10.75   \u001b[0m | \u001b[0m 0.136   \u001b[0m | \u001b[0m 0.6971  \u001b[0m | \u001b[0m 0.5855  \u001b[0m |\n",
      "=============================================================================================================\n",
      "{'target': -0.04534361889031443, 'params': {'colsample_bytree': 0.9756135101719231, 'max_depth': 5.03674953745125, 'min_child_samples': 22.143373376501664, 'min_child_weight': 3.6095811246841265, 'reg_alpha': 0.744219160844183, 'reg_lambda': 0.9669733285581682, 'subsample': 0.5127718682007093}}\n"
     ]
    },
    {
     "data": {
      "text/plain": [
       "20"
      ]
     },
     "execution_count": 58,
     "metadata": {},
     "output_type": "execute_result"
    }
   ],
   "source": [
    "BayesianSearch(evaluate,change_params)"
   ]
  },
  {
   "cell_type": "code",
   "execution_count": null,
   "metadata": {},
   "outputs": [],
   "source": []
  }
 ],
 "metadata": {
  "kernelspec": {
   "display_name": "Python 3",
   "language": "python",
   "name": "python3"
  },
  "language_info": {
   "codemirror_mode": {
    "name": "ipython",
    "version": 3
   },
   "file_extension": ".py",
   "mimetype": "text/x-python",
   "name": "python",
   "nbconvert_exporter": "python",
   "pygments_lexer": "ipython3",
   "version": "3.7.4"
  }
 },
 "nbformat": 4,
 "nbformat_minor": 2
}
